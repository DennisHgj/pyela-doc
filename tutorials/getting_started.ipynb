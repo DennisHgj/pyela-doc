{
 "cells": [
  {
   "cell_type": "markdown",
   "metadata": {},
   "source": [
    "# Getting started with ELA\n",
    "\n",
    "This notebook uses data covering a few kilometres around the township of [Bungendore](https://www.google.com.au/maps/@-35.251235,149.4173155,34159m/data=!3m1!1e3) in NSW, Australia. \n",
    "\n",
    "For convenience compressed data for this notebook is available for download from [this link](https://cloudstor.aarnet.edu.au/plus/s/gTAVfJZ5Dve15ud). This data will be imported in the section 'Importing data' in this notebook. Once you adjust the data path to your liking, this notebook should run fine.\n",
    "\n",
    "Sample data was derived from the Australian Bureau of Meteorology [National Groundwater Information System](http://www.bom.gov.au/water/groundwater/ngis/index.shtml) and from [ELVIS - Elevation and Depth - Foundation Spatial Data](http://elevation.fsdf.org.au/). You can check the licensing for these data; the short version is that use for learning purposes is fine.\n"
   ]
  },
  {
   "cell_type": "markdown",
   "metadata": {},
   "source": [
    "## Purpose\n",
    "\n",
    "This notebook is a realistic example of one case study the pyela package addresses. What we obtain at the end of the workflow is a 3D gridded model of primary lithologies. A visual outcome (normally interactive) is:"
   ]
  },
  {
   "cell_type": "markdown",
   "metadata": {},
   "source": [
    "![3D Interpolated overlay primary lithology clay](img/3d_overlay_bungendore_clay_lithology.png)"
   ]
  },
  {
   "cell_type": "markdown",
   "metadata": {},
   "source": [
    "## Importing python packages"
   ]
  },
  {
   "cell_type": "code",
   "execution_count": 1,
   "metadata": {
    "ExecuteTime": {
     "end_time": "2018-02-27T01:54:38.357642Z",
     "start_time": "2018-02-27T01:54:36.460827Z"
    },
    "init_cell": true
   },
   "outputs": [],
   "source": [
    "import os\n",
    "import sys\n",
    "import pandas as pd\n",
    "import numpy as np\n",
    "import matplotlib.pyplot as plt\n",
    "import rasterio\n",
    "from rasterio.plot import show\n",
    "import geopandas as gpd\n"
   ]
  },
  {
   "cell_type": "code",
   "execution_count": 2,
   "metadata": {},
   "outputs": [],
   "source": [
    "# Only set to True for co-dev of ela from this use case:\n",
    "ela_from_source = False\n",
    "# ela_from_source = True"
   ]
  },
  {
   "cell_type": "code",
   "execution_count": 3,
   "metadata": {},
   "outputs": [],
   "source": [
    "if ela_from_source:\n",
    "    if ('ELA_SRC' in os.environ):\n",
    "        root_src_dir = os.environ['ELA_SRC']\n",
    "    elif sys.platform == 'win32':\n",
    "        root_src_dir = r'C:\\src\\github_jm\\pyela'\n",
    "    else:\n",
    "        username = os.environ['USER']\n",
    "        root_src_dir = os.path.join('/home', username, 'src/github_jm/pyela')\n",
    "    pkg_src_dir = root_src_dir\n",
    "    sys.path.insert(0, pkg_src_dir)\n",
    "\n",
    "from ela.textproc import *\n",
    "from ela.utils import *\n",
    "from ela.classification import *\n",
    "from ela.visual import *\n",
    "from ela.spatial import SliceOperation"
   ]
  },
  {
   "cell_type": "markdown",
   "metadata": {},
   "source": [
    "## Importing data\n",
    "\n",
    "There are two main sets of information we need: the borehole lithology logs, and the spatial information in the surface elevation (DEM) and geolocation of a subset of bores around Bungendore. "
   ]
  },
  {
   "cell_type": "code",
   "execution_count": 4,
   "metadata": {},
   "outputs": [],
   "source": [
    "data_path = None"
   ]
  },
  {
   "cell_type": "markdown",
   "metadata": {},
   "source": [
    "You probably want to explicitly set `data_path` to the location where you put the 'Bungendore' folder e.g:"
   ]
  },
  {
   "cell_type": "code",
   "execution_count": 5,
   "metadata": {},
   "outputs": [],
   "source": [
    "#data_path = '/home/myusername/data' # On Linux, if you now have the folder /home/myusername/data/Bungendore\n",
    "#data_path = r'C:\\data\\Lithology'  # windows, if you have C:\\data\\Lithology\\Bungendore"
   ]
  },
  {
   "cell_type": "markdown",
   "metadata": {},
   "source": [
    "Otherwise a fallback for the pyela developer(s)"
   ]
  },
  {
   "cell_type": "code",
   "execution_count": 6,
   "metadata": {},
   "outputs": [],
   "source": [
    "if data_path is None:\n",
    "    if ('ELA_DATA' in os.environ):\n",
    "        data_path = os.environ['ELA_DATA']\n",
    "    elif sys.platform == 'win32':\n",
    "        data_path = r'C:\\data\\Lithology'\n",
    "    else:\n",
    "        username = os.environ['USER']\n",
    "        data_path = os.path.join('/home', username, 'data/Lithology')"
   ]
  },
  {
   "cell_type": "code",
   "execution_count": 7,
   "metadata": {},
   "outputs": [],
   "source": [
    "bungendore_datadir = os.path.join(data_path, 'Bungendore')\n",
    "bidgee_path = os.path.join(bungendore_datadir, 'gw_shp_murrumbidgee_river/shp_murrumbidgee_river')\n",
    "bungendore_bore_locations_fn = os.path.join(bungendore_datadir,'gw_shp_murrumbidgee_river/shp_bungendore.shp')"
   ]
  },
  {
   "cell_type": "markdown",
   "metadata": {},
   "source": [
    "Read the lithology logs from the whole Murrumbidgee catchment - we will subset later."
   ]
  },
  {
   "cell_type": "code",
   "execution_count": 8,
   "metadata": {},
   "outputs": [],
   "source": [
    "lithology_logs = pd.read_csv(os.path.join(bidgee_path, 'NGIS_LithologyLog.csv'))"
   ]
  },
  {
   "cell_type": "markdown",
   "metadata": {},
   "source": [
    "The DEM raster and the bore location shapefile do not use the same projection (coordinate reference system) so we reproject one of them. We choose the raster's UTM."
   ]
  },
  {
   "cell_type": "code",
   "execution_count": 9,
   "metadata": {},
   "outputs": [],
   "source": [
    "bungendore_raster = rasterio.open(os.path.join(bungendore_datadir,'CLIP_66949','CLIP_reproj_UTM55.tif'))"
   ]
  },
  {
   "cell_type": "code",
   "execution_count": 10,
   "metadata": {},
   "outputs": [],
   "source": [
    "bore_locations_raw = gpd.read_file(bungendore_bore_locations_fn)"
   ]
  },
  {
   "cell_type": "code",
   "execution_count": 11,
   "metadata": {},
   "outputs": [
    {
     "data": {
      "text/plain": [
       "({'init': 'epsg:3577'}, CRS.from_epsg(32755))"
      ]
     },
     "execution_count": 11,
     "metadata": {},
     "output_type": "execute_result"
    }
   ],
   "source": [
    "bore_locations_raw.crs, bungendore_raster.crs"
   ]
  },
  {
   "cell_type": "code",
   "execution_count": 12,
   "metadata": {},
   "outputs": [],
   "source": [
    "bore_locations = bore_locations_raw.to_crs(bungendore_raster.crs)"
   ]
  },
  {
   "cell_type": "code",
   "execution_count": 13,
   "metadata": {},
   "outputs": [
    {
     "data": {
      "text/html": [
       "<div>\n",
       "<style scoped>\n",
       "    .dataframe tbody tr th:only-of-type {\n",
       "        vertical-align: middle;\n",
       "    }\n",
       "\n",
       "    .dataframe tbody tr th {\n",
       "        vertical-align: top;\n",
       "    }\n",
       "\n",
       "    .dataframe thead th {\n",
       "        text-align: right;\n",
       "    }\n",
       "</style>\n",
       "<table border=\"1\" class=\"dataframe\">\n",
       "  <thead>\n",
       "    <tr style=\"text-align: right;\">\n",
       "      <th></th>\n",
       "      <th>HydroID</th>\n",
       "      <th>HydroCode</th>\n",
       "      <th>StateBoreI</th>\n",
       "      <th>StatePipeI</th>\n",
       "      <th>StateTerri</th>\n",
       "      <th>Agency</th>\n",
       "      <th>WCode</th>\n",
       "      <th>BoreDepth</th>\n",
       "      <th>DrilledDep</th>\n",
       "      <th>Status</th>\n",
       "      <th>...</th>\n",
       "      <th>Hydrostrat</th>\n",
       "      <th>WaterLevel</th>\n",
       "      <th>Salinity</th>\n",
       "      <th>WaterCount</th>\n",
       "      <th>WaterDateM</th>\n",
       "      <th>WaterDat_1</th>\n",
       "      <th>SalinityCo</th>\n",
       "      <th>SalinityDa</th>\n",
       "      <th>Salinity_1</th>\n",
       "      <th>geometry</th>\n",
       "    </tr>\n",
       "  </thead>\n",
       "  <tbody>\n",
       "    <tr>\n",
       "      <th>0</th>\n",
       "      <td>10055899</td>\n",
       "      <td>GW061345.1.1</td>\n",
       "      <td>GW061345</td>\n",
       "      <td>1.1</td>\n",
       "      <td>1</td>\n",
       "      <td>1</td>\n",
       "      <td>8</td>\n",
       "      <td>53.3</td>\n",
       "      <td>53.3</td>\n",
       "      <td>UNK</td>\n",
       "      <td>...</td>\n",
       "      <td>0</td>\n",
       "      <td>0</td>\n",
       "      <td>0</td>\n",
       "      <td>0</td>\n",
       "      <td>None</td>\n",
       "      <td>None</td>\n",
       "      <td>0</td>\n",
       "      <td>None</td>\n",
       "      <td>None</td>\n",
       "      <td>POINT (713783.3445196336 6099618.639519438)</td>\n",
       "    </tr>\n",
       "    <tr>\n",
       "      <th>1</th>\n",
       "      <td>10094010</td>\n",
       "      <td>GW404937.1.1</td>\n",
       "      <td>GW404937</td>\n",
       "      <td>1.1</td>\n",
       "      <td>1</td>\n",
       "      <td>1</td>\n",
       "      <td>8</td>\n",
       "      <td>96.0</td>\n",
       "      <td>96.0</td>\n",
       "      <td>ABN</td>\n",
       "      <td>...</td>\n",
       "      <td>0</td>\n",
       "      <td>0</td>\n",
       "      <td>0</td>\n",
       "      <td>0</td>\n",
       "      <td>None</td>\n",
       "      <td>None</td>\n",
       "      <td>0</td>\n",
       "      <td>None</td>\n",
       "      <td>None</td>\n",
       "      <td>POINT (718150.9998919906 6093237.005439439)</td>\n",
       "    </tr>\n",
       "    <tr>\n",
       "      <th>2</th>\n",
       "      <td>10114667</td>\n",
       "      <td>GW414316.1.1</td>\n",
       "      <td>GW414316</td>\n",
       "      <td>1.1</td>\n",
       "      <td>1</td>\n",
       "      <td>1</td>\n",
       "      <td>8</td>\n",
       "      <td>42.0</td>\n",
       "      <td>42.0</td>\n",
       "      <td>USE</td>\n",
       "      <td>...</td>\n",
       "      <td>0</td>\n",
       "      <td>0</td>\n",
       "      <td>0</td>\n",
       "      <td>0</td>\n",
       "      <td>None</td>\n",
       "      <td>None</td>\n",
       "      <td>0</td>\n",
       "      <td>None</td>\n",
       "      <td>None</td>\n",
       "      <td>POINT (713568.9940640796 6106887.001336516)</td>\n",
       "    </tr>\n",
       "    <tr>\n",
       "      <th>3</th>\n",
       "      <td>10114672</td>\n",
       "      <td>GW414581.1.1</td>\n",
       "      <td>GW414581</td>\n",
       "      <td>1.1</td>\n",
       "      <td>1</td>\n",
       "      <td>1</td>\n",
       "      <td>8</td>\n",
       "      <td>42.0</td>\n",
       "      <td>0.0</td>\n",
       "      <td>USE</td>\n",
       "      <td>...</td>\n",
       "      <td>0</td>\n",
       "      <td>0</td>\n",
       "      <td>0</td>\n",
       "      <td>0</td>\n",
       "      <td>None</td>\n",
       "      <td>None</td>\n",
       "      <td>0</td>\n",
       "      <td>None</td>\n",
       "      <td>None</td>\n",
       "      <td>POINT (715642.0000155731 6097858.004591262)</td>\n",
       "    </tr>\n",
       "    <tr>\n",
       "      <th>4</th>\n",
       "      <td>10122533</td>\n",
       "      <td>GW402017.1.1</td>\n",
       "      <td>GW402017</td>\n",
       "      <td>1.1</td>\n",
       "      <td>1</td>\n",
       "      <td>1</td>\n",
       "      <td>8</td>\n",
       "      <td>90.0</td>\n",
       "      <td>90.0</td>\n",
       "      <td>UNK</td>\n",
       "      <td>...</td>\n",
       "      <td>0</td>\n",
       "      <td>0</td>\n",
       "      <td>0</td>\n",
       "      <td>0</td>\n",
       "      <td>None</td>\n",
       "      <td>None</td>\n",
       "      <td>0</td>\n",
       "      <td>None</td>\n",
       "      <td>None</td>\n",
       "      <td>POINT (712620.6561813344 6102894.13739373)</td>\n",
       "    </tr>\n",
       "  </tbody>\n",
       "</table>\n",
       "<p>5 rows × 52 columns</p>\n",
       "</div>"
      ],
      "text/plain": [
       "    HydroID     HydroCode StateBoreI StatePipeI  StateTerri  Agency  WCode  \\\n",
       "0  10055899  GW061345.1.1   GW061345        1.1           1       1      8   \n",
       "1  10094010  GW404937.1.1   GW404937        1.1           1       1      8   \n",
       "2  10114667  GW414316.1.1   GW414316        1.1           1       1      8   \n",
       "3  10114672  GW414581.1.1   GW414581        1.1           1       1      8   \n",
       "4  10122533  GW402017.1.1   GW402017        1.1           1       1      8   \n",
       "\n",
       "   BoreDepth  DrilledDep Status  ... Hydrostrat  WaterLevel  Salinity  \\\n",
       "0       53.3        53.3    UNK  ...          0           0         0   \n",
       "1       96.0        96.0    ABN  ...          0           0         0   \n",
       "2       42.0        42.0    USE  ...          0           0         0   \n",
       "3       42.0         0.0    USE  ...          0           0         0   \n",
       "4       90.0        90.0    UNK  ...          0           0         0   \n",
       "\n",
       "  WaterCount  WaterDateM  WaterDat_1 SalinityCo  SalinityDa  Salinity_1  \\\n",
       "0          0        None        None          0        None        None   \n",
       "1          0        None        None          0        None        None   \n",
       "2          0        None        None          0        None        None   \n",
       "3          0        None        None          0        None        None   \n",
       "4          0        None        None          0        None        None   \n",
       "\n",
       "                                      geometry  \n",
       "0  POINT (713783.3445196336 6099618.639519438)  \n",
       "1  POINT (718150.9998919906 6093237.005439439)  \n",
       "2  POINT (713568.9940640796 6106887.001336516)  \n",
       "3  POINT (715642.0000155731 6097858.004591262)  \n",
       "4   POINT (712620.6561813344 6102894.13739373)  \n",
       "\n",
       "[5 rows x 52 columns]"
      ]
     },
     "execution_count": 13,
     "metadata": {},
     "output_type": "execute_result"
    }
   ],
   "source": [
    "bore_locations.head()"
   ]
  },
  {
   "cell_type": "code",
   "execution_count": 14,
   "metadata": {},
   "outputs": [],
   "source": [
    "# backup, but likely obsolete:\n",
    "# raster_projstring = \"+proj=utm +zone=55 +south +datum=WGS84 +units=m +no_defs\"\n",
    "# bore_locations = bore_locations_raw.to_crs(raster_projstring)\n",
    "# bore_locations.head()"
   ]
  },
  {
   "cell_type": "markdown",
   "metadata": {},
   "source": [
    "### Geolocation of data"
   ]
  },
  {
   "cell_type": "code",
   "execution_count": 15,
   "metadata": {},
   "outputs": [
    {
     "data": {
      "text/plain": [
       "<matplotlib.axes._subplots.AxesSubplot at 0x7f4cbda66cc0>"
      ]
     },
     "execution_count": 15,
     "metadata": {},
     "output_type": "execute_result"
    },
    {
     "data": {
      "image/png": "[encoded data removed]",
      "text/plain": [
       "<Figure size 864x864 with 1 Axes>"
      ]
     },
     "metadata": {
      "needs_background": "light"
     },
     "output_type": "display_data"
    }
   ],
   "source": [
    "fig, ax = plt.subplots(figsize=(12, 12))\n",
    "show(bungendore_raster,title='East of Bungendore, AU', cmap='terrain',  ax=ax)\n",
    "bore_locations.plot(ax=ax, facecolor='black')"
   ]
  },
  {
   "cell_type": "code",
   "execution_count": 16,
   "metadata": {},
   "outputs": [
    {
     "data": {
      "text/html": [
       "<div>\n",
       "<style scoped>\n",
       "    .dataframe tbody tr th:only-of-type {\n",
       "        vertical-align: middle;\n",
       "    }\n",
       "\n",
       "    .dataframe tbody tr th {\n",
       "        vertical-align: top;\n",
       "    }\n",
       "\n",
       "    .dataframe thead th {\n",
       "        text-align: right;\n",
       "    }\n",
       "</style>\n",
       "<table border=\"1\" class=\"dataframe\">\n",
       "  <thead>\n",
       "    <tr style=\"text-align: right;\">\n",
       "      <th></th>\n",
       "      <th>OBJECTID</th>\n",
       "      <th>BoreID</th>\n",
       "      <th>HydroCode</th>\n",
       "      <th>RefElev</th>\n",
       "      <th>RefElevDesc</th>\n",
       "      <th>FromDepth</th>\n",
       "      <th>ToDepth</th>\n",
       "      <th>TopElev</th>\n",
       "      <th>BottomElev</th>\n",
       "      <th>MajorLithCode</th>\n",
       "      <th>MinorLithCode</th>\n",
       "      <th>Description</th>\n",
       "      <th>Source</th>\n",
       "      <th>LogType</th>\n",
       "    </tr>\n",
       "  </thead>\n",
       "  <tbody>\n",
       "    <tr>\n",
       "      <th>0</th>\n",
       "      <td>3295968</td>\n",
       "      <td>10096490</td>\n",
       "      <td>GW403458.1.1</td>\n",
       "      <td>332.05</td>\n",
       "      <td>UNK</td>\n",
       "      <td>29.0</td>\n",
       "      <td>30.0</td>\n",
       "      <td>303.05</td>\n",
       "      <td>302.05</td>\n",
       "      <td>None</td>\n",
       "      <td>NaN</td>\n",
       "      <td>Sump</td>\n",
       "      <td>UNK</td>\n",
       "      <td>1</td>\n",
       "    </tr>\n",
       "    <tr>\n",
       "      <th>1</th>\n",
       "      <td>3295974</td>\n",
       "      <td>10117707</td>\n",
       "      <td>GW400023.1.1</td>\n",
       "      <td>108.41</td>\n",
       "      <td>UNK</td>\n",
       "      <td>69.0</td>\n",
       "      <td>71.0</td>\n",
       "      <td>39.41</td>\n",
       "      <td>37.41</td>\n",
       "      <td>None</td>\n",
       "      <td>NaN</td>\n",
       "      <td>NaN</td>\n",
       "      <td>UNK</td>\n",
       "      <td>1</td>\n",
       "    </tr>\n",
       "    <tr>\n",
       "      <th>2</th>\n",
       "      <td>3295982</td>\n",
       "      <td>10094368</td>\n",
       "      <td>GW405126.1.1</td>\n",
       "      <td>223.24</td>\n",
       "      <td>UNK</td>\n",
       "      <td>0.0</td>\n",
       "      <td>0.6</td>\n",
       "      <td>223.24</td>\n",
       "      <td>222.64</td>\n",
       "      <td>TPSL</td>\n",
       "      <td>NaN</td>\n",
       "      <td>Topsoil</td>\n",
       "      <td>UNK</td>\n",
       "      <td>1</td>\n",
       "    </tr>\n",
       "    <tr>\n",
       "      <th>3</th>\n",
       "      <td>3296095</td>\n",
       "      <td>10113483</td>\n",
       "      <td>GW415991.1.1</td>\n",
       "      <td>None</td>\n",
       "      <td>UNK</td>\n",
       "      <td>0.4</td>\n",
       "      <td>10.0</td>\n",
       "      <td>None</td>\n",
       "      <td>None</td>\n",
       "      <td>CLAY</td>\n",
       "      <td>NaN</td>\n",
       "      <td>Clay</td>\n",
       "      <td>UNK</td>\n",
       "      <td>1</td>\n",
       "    </tr>\n",
       "    <tr>\n",
       "      <th>4</th>\n",
       "      <td>3296209</td>\n",
       "      <td>10144702</td>\n",
       "      <td>GW401440.1.1</td>\n",
       "      <td>76.17</td>\n",
       "      <td>UNK</td>\n",
       "      <td>128.0</td>\n",
       "      <td>139.0</td>\n",
       "      <td>-51.83</td>\n",
       "      <td>-62.83</td>\n",
       "      <td>None</td>\n",
       "      <td>NaN</td>\n",
       "      <td>Clay</td>\n",
       "      <td>UNK</td>\n",
       "      <td>1</td>\n",
       "    </tr>\n",
       "    <tr>\n",
       "      <th>5</th>\n",
       "      <td>3296429</td>\n",
       "      <td>10108243</td>\n",
       "      <td>GW416031.1.1</td>\n",
       "      <td>None</td>\n",
       "      <td>UNK</td>\n",
       "      <td>1.0</td>\n",
       "      <td>4.0</td>\n",
       "      <td>None</td>\n",
       "      <td>None</td>\n",
       "      <td>CLAY</td>\n",
       "      <td>NaN</td>\n",
       "      <td>Clay</td>\n",
       "      <td>UNK</td>\n",
       "      <td>1</td>\n",
       "    </tr>\n",
       "    <tr>\n",
       "      <th>6</th>\n",
       "      <td>3296436</td>\n",
       "      <td>10130964</td>\n",
       "      <td>GW416560.1.1</td>\n",
       "      <td>None</td>\n",
       "      <td>UNK</td>\n",
       "      <td>5.1</td>\n",
       "      <td>7.0</td>\n",
       "      <td>None</td>\n",
       "      <td>None</td>\n",
       "      <td>FSND</td>\n",
       "      <td>NaN</td>\n",
       "      <td>Fine sand, dry</td>\n",
       "      <td>UNK</td>\n",
       "      <td>1</td>\n",
       "    </tr>\n",
       "    <tr>\n",
       "      <th>7</th>\n",
       "      <td>3296437</td>\n",
       "      <td>10126252</td>\n",
       "      <td>GW415984.1.1</td>\n",
       "      <td>None</td>\n",
       "      <td>UNK</td>\n",
       "      <td>0.0</td>\n",
       "      <td>0.2</td>\n",
       "      <td>None</td>\n",
       "      <td>None</td>\n",
       "      <td>FILL</td>\n",
       "      <td>NaN</td>\n",
       "      <td>Fill</td>\n",
       "      <td>UNK</td>\n",
       "      <td>1</td>\n",
       "    </tr>\n",
       "    <tr>\n",
       "      <th>8</th>\n",
       "      <td>3296441</td>\n",
       "      <td>10106582</td>\n",
       "      <td>GW416266.1.1</td>\n",
       "      <td>None</td>\n",
       "      <td>UNK</td>\n",
       "      <td>1.0</td>\n",
       "      <td>5.0</td>\n",
       "      <td>None</td>\n",
       "      <td>None</td>\n",
       "      <td>CLAY</td>\n",
       "      <td>NaN</td>\n",
       "      <td>Clay</td>\n",
       "      <td>UNK</td>\n",
       "      <td>1</td>\n",
       "    </tr>\n",
       "    <tr>\n",
       "      <th>9</th>\n",
       "      <td>3296577</td>\n",
       "      <td>10004408</td>\n",
       "      <td>GW030348.1.1</td>\n",
       "      <td>115.9</td>\n",
       "      <td>NGS</td>\n",
       "      <td>4.58</td>\n",
       "      <td>6.1</td>\n",
       "      <td>111.32</td>\n",
       "      <td>109.8</td>\n",
       "      <td>CLAY</td>\n",
       "      <td>NaN</td>\n",
       "      <td>Clay - grey to yellow brown; quartz grains fin...</td>\n",
       "      <td>WC&amp;IC</td>\n",
       "      <td>2</td>\n",
       "    </tr>\n",
       "  </tbody>\n",
       "</table>\n",
       "</div>"
      ],
      "text/plain": [
       "   OBJECTID    BoreID     HydroCode RefElev RefElevDesc FromDepth ToDepth  \\\n",
       "0   3295968  10096490  GW403458.1.1  332.05         UNK      29.0    30.0   \n",
       "1   3295974  10117707  GW400023.1.1  108.41         UNK      69.0    71.0   \n",
       "2   3295982  10094368  GW405126.1.1  223.24         UNK       0.0     0.6   \n",
       "3   3296095  10113483  GW415991.1.1    None         UNK       0.4    10.0   \n",
       "4   3296209  10144702  GW401440.1.1   76.17         UNK     128.0   139.0   \n",
       "5   3296429  10108243  GW416031.1.1    None         UNK       1.0     4.0   \n",
       "6   3296436  10130964  GW416560.1.1    None         UNK       5.1     7.0   \n",
       "7   3296437  10126252  GW415984.1.1    None         UNK       0.0     0.2   \n",
       "8   3296441  10106582  GW416266.1.1    None         UNK       1.0     5.0   \n",
       "9   3296577  10004408  GW030348.1.1   115.9         NGS      4.58     6.1   \n",
       "\n",
       "  TopElev BottomElev MajorLithCode  MinorLithCode  \\\n",
       "0  303.05     302.05          None            NaN   \n",
       "1   39.41      37.41          None            NaN   \n",
       "2  223.24     222.64          TPSL            NaN   \n",
       "3    None       None          CLAY            NaN   \n",
       "4  -51.83     -62.83          None            NaN   \n",
       "5    None       None          CLAY            NaN   \n",
       "6    None       None          FSND            NaN   \n",
       "7    None       None          FILL            NaN   \n",
       "8    None       None          CLAY            NaN   \n",
       "9  111.32      109.8          CLAY            NaN   \n",
       "\n",
       "                                         Description Source  LogType  \n",
       "0                                               Sump    UNK        1  \n",
       "1                                                NaN    UNK        1  \n",
       "2                                            Topsoil    UNK        1  \n",
       "3                                               Clay    UNK        1  \n",
       "4                                               Clay    UNK        1  \n",
       "5                                               Clay    UNK        1  \n",
       "6                                     Fine sand, dry    UNK        1  \n",
       "7                                               Fill    UNK        1  \n",
       "8                                               Clay    UNK        1  \n",
       "9  Clay - grey to yellow brown; quartz grains fin...  WC&IC        2  "
      ]
     },
     "execution_count": 16,
     "metadata": {},
     "output_type": "execute_result"
    }
   ],
   "source": [
    "lithology_logs.head(n=10)"
   ]
  },
  {
   "cell_type": "markdown",
   "metadata": {},
   "source": [
    "Note that around 2500 data points do not have their AHD height but do have their depth. This will be remediated when we calculate our own AHD heights."
   ]
  },
  {
   "cell_type": "markdown",
   "metadata": {},
   "source": [
    "### Subset to the location of interest\n",
    "\n",
    "The lithology logs are for all of the Murrumbidgee catchment, which is much larger than the area of interest and for which we have the geolocation of boreholes. We subset to the location of interest "
   ]
  },
  {
   "cell_type": "code",
   "execution_count": 17,
   "metadata": {
    "ExecuteTime": {
     "end_time": "2018-02-06T00:50:36.439052Z",
     "start_time": "2018-02-06T00:50:36.434305Z"
    }
   },
   "outputs": [],
   "source": [
    "df = lithology_logs"
   ]
  },
  {
   "cell_type": "markdown",
   "metadata": {},
   "source": [
    "Let's subset the logs based on spatial locations, to keep only those \"nearby\" the DEM we have near the locality of Bungendore in this case study. First define a few constants: "
   ]
  },
  {
   "cell_type": "code",
   "execution_count": 18,
   "metadata": {},
   "outputs": [
    {
     "data": {
      "text/plain": [
       "Index(['OBJECTID', 'BoreID', 'HydroCode', 'RefElev', 'RefElevDesc',\n",
       "       'FromDepth', 'ToDepth', 'TopElev', 'BottomElev', 'MajorLithCode',\n",
       "       'MinorLithCode', 'Description', 'Source', 'LogType'],\n",
       "      dtype='object')"
      ]
     },
     "execution_count": 18,
     "metadata": {},
     "output_type": "execute_result"
    }
   ],
   "source": [
    "df.columns"
   ]
  },
  {
   "cell_type": "code",
   "execution_count": 19,
   "metadata": {},
   "outputs": [],
   "source": [
    "DEPTH_FROM_COL = 'FromDepth'\n",
    "DEPTH_TO_COL = 'ToDepth'\n",
    "\n",
    "TOP_ELEV_COL = 'TopElev'\n",
    "BOTTOM_ELEV_COL = 'BottomElev'\n",
    "\n",
    "LITHO_DESC_COL = 'Description'\n",
    "HYDRO_CODE_COL = 'HydroCode'"
   ]
  },
  {
   "cell_type": "markdown",
   "metadata": {},
   "source": [
    "### Merging the geolocation from the shapefile and lithology records"
   ]
  },
  {
   "cell_type": "markdown",
   "metadata": {},
   "source": [
    "The geopandas data frame has a column geometry listing `POINT` objects. 'ela' includes  `get_coords_from_gpd_shape` to extrace the coordinates to a simpler structure. 'ela' has predefined column names (e.g. EASTING_COL) defined for easting/northing information, that we can use to name our coordinate information."
   ]
  },
  {
   "cell_type": "code",
   "execution_count": 20,
   "metadata": {},
   "outputs": [
    {
     "data": {
      "text/html": [
       "<div>\n",
       "<style scoped>\n",
       "    .dataframe tbody tr th:only-of-type {\n",
       "        vertical-align: middle;\n",
       "    }\n",
       "\n",
       "    .dataframe tbody tr th {\n",
       "        vertical-align: top;\n",
       "    }\n",
       "\n",
       "    .dataframe thead th {\n",
       "        text-align: right;\n",
       "    }\n",
       "</style>\n",
       "<table border=\"1\" class=\"dataframe\">\n",
       "  <thead>\n",
       "    <tr style=\"text-align: right;\">\n",
       "      <th></th>\n",
       "      <th>Easting</th>\n",
       "      <th>Northing</th>\n",
       "      <th>HydroCode</th>\n",
       "    </tr>\n",
       "  </thead>\n",
       "  <tbody>\n",
       "    <tr>\n",
       "      <th>0</th>\n",
       "      <td>713783.344520</td>\n",
       "      <td>6.099619e+06</td>\n",
       "      <td>GW061345.1.1</td>\n",
       "    </tr>\n",
       "    <tr>\n",
       "      <th>1</th>\n",
       "      <td>718150.999892</td>\n",
       "      <td>6.093237e+06</td>\n",
       "      <td>GW404937.1.1</td>\n",
       "    </tr>\n",
       "    <tr>\n",
       "      <th>2</th>\n",
       "      <td>713568.994064</td>\n",
       "      <td>6.106887e+06</td>\n",
       "      <td>GW414316.1.1</td>\n",
       "    </tr>\n",
       "    <tr>\n",
       "      <th>3</th>\n",
       "      <td>715642.000016</td>\n",
       "      <td>6.097858e+06</td>\n",
       "      <td>GW414581.1.1</td>\n",
       "    </tr>\n",
       "    <tr>\n",
       "      <th>4</th>\n",
       "      <td>712620.656181</td>\n",
       "      <td>6.102894e+06</td>\n",
       "      <td>GW402017.1.1</td>\n",
       "    </tr>\n",
       "  </tbody>\n",
       "</table>\n",
       "</div>"
      ],
      "text/plain": [
       "         Easting      Northing     HydroCode\n",
       "0  713783.344520  6.099619e+06  GW061345.1.1\n",
       "1  718150.999892  6.093237e+06  GW404937.1.1\n",
       "2  713568.994064  6.106887e+06  GW414316.1.1\n",
       "3  715642.000016  6.097858e+06  GW414581.1.1\n",
       "4  712620.656181  6.102894e+06  GW402017.1.1"
      ]
     },
     "execution_count": 20,
     "metadata": {},
     "output_type": "execute_result"
    }
   ],
   "source": [
    "geoloc = get_coords_from_gpd_shape(bore_locations, colname='geometry', out_colnames=[EASTING_COL, NORTHING_COL])\n",
    "geoloc[HYDRO_CODE_COL] = bore_locations[HYDRO_CODE_COL]\n",
    "geoloc.head()"
   ]
  },
  {
   "cell_type": "markdown",
   "metadata": {},
   "source": [
    "With this data frame we can perform two operations in one go: subsetting the lithology records to only the 640 bores of interest, and adding to the result the x/y geolocations to the data frame."
   ]
  },
  {
   "cell_type": "code",
   "execution_count": 21,
   "metadata": {},
   "outputs": [
    {
     "data": {
      "text/plain": [
       "(640, 58944)"
      ]
     },
     "execution_count": 21,
     "metadata": {},
     "output_type": "execute_result"
    }
   ],
   "source": [
    "len(geoloc), len(df)"
   ]
  },
  {
   "cell_type": "code",
   "execution_count": 22,
   "metadata": {},
   "outputs": [],
   "source": [
    "df = pd.merge(df, geoloc, how='inner', on=HYDRO_CODE_COL, sort=False, copy=True, indicator=False, validate=None)"
   ]
  },
  {
   "cell_type": "code",
   "execution_count": 23,
   "metadata": {},
   "outputs": [
    {
     "data": {
      "text/plain": [
       "2454"
      ]
     },
     "execution_count": 23,
     "metadata": {},
     "output_type": "execute_result"
    }
   ],
   "source": [
    "len(df)"
   ]
  },
  {
   "cell_type": "code",
   "execution_count": 24,
   "metadata": {},
   "outputs": [
    {
     "data": {
      "text/html": [
       "<div>\n",
       "<style scoped>\n",
       "    .dataframe tbody tr th:only-of-type {\n",
       "        vertical-align: middle;\n",
       "    }\n",
       "\n",
       "    .dataframe tbody tr th {\n",
       "        vertical-align: top;\n",
       "    }\n",
       "\n",
       "    .dataframe thead th {\n",
       "        text-align: right;\n",
       "    }\n",
       "</style>\n",
       "<table border=\"1\" class=\"dataframe\">\n",
       "  <thead>\n",
       "    <tr style=\"text-align: right;\">\n",
       "      <th></th>\n",
       "      <th>OBJECTID</th>\n",
       "      <th>BoreID</th>\n",
       "      <th>HydroCode</th>\n",
       "      <th>RefElev</th>\n",
       "      <th>RefElevDesc</th>\n",
       "      <th>FromDepth</th>\n",
       "      <th>ToDepth</th>\n",
       "      <th>TopElev</th>\n",
       "      <th>BottomElev</th>\n",
       "      <th>MajorLithCode</th>\n",
       "      <th>MinorLithCode</th>\n",
       "      <th>Description</th>\n",
       "      <th>Source</th>\n",
       "      <th>LogType</th>\n",
       "      <th>Easting</th>\n",
       "      <th>Northing</th>\n",
       "    </tr>\n",
       "  </thead>\n",
       "  <tbody>\n",
       "    <tr>\n",
       "      <th>0</th>\n",
       "      <td>3297041</td>\n",
       "      <td>10037380</td>\n",
       "      <td>GW058949.1.1</td>\n",
       "      <td>691.43</td>\n",
       "      <td>UNK</td>\n",
       "      <td>8.8</td>\n",
       "      <td>11.0</td>\n",
       "      <td>682.63</td>\n",
       "      <td>680.43</td>\n",
       "      <td>SHLE</td>\n",
       "      <td>NaN</td>\n",
       "      <td>Shale broken</td>\n",
       "      <td>UNK</td>\n",
       "      <td>1</td>\n",
       "      <td>720769.160247</td>\n",
       "      <td>6.095597e+06</td>\n",
       "    </tr>\n",
       "    <tr>\n",
       "      <th>1</th>\n",
       "      <td>3297109</td>\n",
       "      <td>10037380</td>\n",
       "      <td>GW058949.1.1</td>\n",
       "      <td>691.43</td>\n",
       "      <td>UNK</td>\n",
       "      <td>0.0</td>\n",
       "      <td>0.9</td>\n",
       "      <td>691.43</td>\n",
       "      <td>690.53</td>\n",
       "      <td>TPSL</td>\n",
       "      <td>NaN</td>\n",
       "      <td>Topsoil</td>\n",
       "      <td>UNK</td>\n",
       "      <td>1</td>\n",
       "      <td>720769.160247</td>\n",
       "      <td>6.095597e+06</td>\n",
       "    </tr>\n",
       "    <tr>\n",
       "      <th>2</th>\n",
       "      <td>3297126</td>\n",
       "      <td>10037380</td>\n",
       "      <td>GW058949.1.1</td>\n",
       "      <td>691.43</td>\n",
       "      <td>UNK</td>\n",
       "      <td>0.9</td>\n",
       "      <td>3.3</td>\n",
       "      <td>690.53</td>\n",
       "      <td>688.13</td>\n",
       "      <td>CLAY</td>\n",
       "      <td>NaN</td>\n",
       "      <td>Clay</td>\n",
       "      <td>UNK</td>\n",
       "      <td>1</td>\n",
       "      <td>720769.160247</td>\n",
       "      <td>6.095597e+06</td>\n",
       "    </tr>\n",
       "    <tr>\n",
       "      <th>3</th>\n",
       "      <td>3297127</td>\n",
       "      <td>10037380</td>\n",
       "      <td>GW058949.1.1</td>\n",
       "      <td>691.43</td>\n",
       "      <td>UNK</td>\n",
       "      <td>5.2</td>\n",
       "      <td>7.3</td>\n",
       "      <td>686.23</td>\n",
       "      <td>684.13</td>\n",
       "      <td>SAND</td>\n",
       "      <td>NaN</td>\n",
       "      <td>Sand clay</td>\n",
       "      <td>UNK</td>\n",
       "      <td>1</td>\n",
       "      <td>720769.160247</td>\n",
       "      <td>6.095597e+06</td>\n",
       "    </tr>\n",
       "    <tr>\n",
       "      <th>4</th>\n",
       "      <td>3297180</td>\n",
       "      <td>10037380</td>\n",
       "      <td>GW058949.1.1</td>\n",
       "      <td>691.43</td>\n",
       "      <td>UNK</td>\n",
       "      <td>7.3</td>\n",
       "      <td>8.8</td>\n",
       "      <td>684.13</td>\n",
       "      <td>682.63</td>\n",
       "      <td>CLAY</td>\n",
       "      <td>NaN</td>\n",
       "      <td>Clay</td>\n",
       "      <td>UNK</td>\n",
       "      <td>1</td>\n",
       "      <td>720769.160247</td>\n",
       "      <td>6.095597e+06</td>\n",
       "    </tr>\n",
       "  </tbody>\n",
       "</table>\n",
       "</div>"
      ],
      "text/plain": [
       "   OBJECTID    BoreID     HydroCode RefElev RefElevDesc FromDepth ToDepth  \\\n",
       "0   3297041  10037380  GW058949.1.1  691.43         UNK       8.8    11.0   \n",
       "1   3297109  10037380  GW058949.1.1  691.43         UNK       0.0     0.9   \n",
       "2   3297126  10037380  GW058949.1.1  691.43         UNK       0.9     3.3   \n",
       "3   3297127  10037380  GW058949.1.1  691.43         UNK       5.2     7.3   \n",
       "4   3297180  10037380  GW058949.1.1  691.43         UNK       7.3     8.8   \n",
       "\n",
       "  TopElev BottomElev MajorLithCode  MinorLithCode   Description Source  \\\n",
       "0  682.63     680.43          SHLE            NaN  Shale broken    UNK   \n",
       "1  691.43     690.53          TPSL            NaN       Topsoil    UNK   \n",
       "2  690.53     688.13          CLAY            NaN          Clay    UNK   \n",
       "3  686.23     684.13          SAND            NaN     Sand clay    UNK   \n",
       "4  684.13     682.63          CLAY            NaN          Clay    UNK   \n",
       "\n",
       "   LogType        Easting      Northing  \n",
       "0        1  720769.160247  6.095597e+06  \n",
       "1        1  720769.160247  6.095597e+06  \n",
       "2        1  720769.160247  6.095597e+06  \n",
       "3        1  720769.160247  6.095597e+06  \n",
       "4        1  720769.160247  6.095597e+06  "
      ]
     },
     "execution_count": 24,
     "metadata": {},
     "output_type": "execute_result"
    }
   ],
   "source": [
    "df.head()"
   ]
  },
  {
   "cell_type": "markdown",
   "metadata": {},
   "source": [
    "### Round up 'depth to' and 'depth from' columns\n",
    "\n",
    "We round the depth related columns to the upper integer value and drop the entries where the resulting depths have degenerated to 0. `ela` has a class `DepthsRounding` to facilitate this operations on lithology records with varying column names.\n",
    "\n",
    "We first clean up height/depths columns to make sure they are numeric."
   ]
  },
  {
   "cell_type": "code",
   "execution_count": 25,
   "metadata": {},
   "outputs": [],
   "source": [
    "def as_numeric(x):\n",
    "    if isinstance(x, float):\n",
    "        return x\n",
    "    if x == 'None':\n",
    "        return np.nan\n",
    "    elif x is None:\n",
    "        return np.nan\n",
    "    elif isinstance(x, str):\n",
    "        return float(x)\n",
    "    else:\n",
    "        return float(x)"
   ]
  },
  {
   "cell_type": "code",
   "execution_count": 26,
   "metadata": {},
   "outputs": [],
   "source": [
    "df[DEPTH_FROM_COL] = df[DEPTH_FROM_COL].apply(as_numeric)\n",
    "df[DEPTH_TO_COL] = df[DEPTH_TO_COL].apply(as_numeric)\n",
    "df[TOP_ELEV_COL] = df[TOP_ELEV_COL].apply(as_numeric)\n",
    "df[BOTTOM_ELEV_COL] = df[BOTTOM_ELEV_COL].apply(as_numeric)"
   ]
  },
  {
   "cell_type": "code",
   "execution_count": 27,
   "metadata": {},
   "outputs": [],
   "source": [
    "dr = DepthsRounding(DEPTH_FROM_COL, DEPTH_TO_COL)"
   ]
  },
  {
   "cell_type": "code",
   "execution_count": 28,
   "metadata": {},
   "outputs": [
    {
     "data": {
      "text/plain": [
       "'Before rounding heights we have 2454 records'"
      ]
     },
     "execution_count": 28,
     "metadata": {},
     "output_type": "execute_result"
    }
   ],
   "source": [
    "\"Before rounding heights we have \" + str(len(df)) + \" records\""
   ]
  },
  {
   "cell_type": "code",
   "execution_count": 29,
   "metadata": {},
   "outputs": [
    {
     "data": {
      "text/plain": [
       "'After removing thin sliced entries of less than a metre, we are left with 2222 records left'"
      ]
     },
     "execution_count": 29,
     "metadata": {},
     "output_type": "execute_result"
    }
   ],
   "source": [
    "df = dr.round_to_metre_depths(df, np.round, True)\n",
    "\"After removing thin sliced entries of less than a metre, we are left with \" + str(len(df)) + \" records left\""
   ]
  },
  {
   "cell_type": "markdown",
   "metadata": {},
   "source": [
    "## Exploring the descriptive lithology "
   ]
  },
  {
   "cell_type": "code",
   "execution_count": 30,
   "metadata": {},
   "outputs": [
    {
     "data": {
      "text/plain": [
       "0    Shale broken\n",
       "1         Topsoil\n",
       "2            Clay\n",
       "3       Sand clay\n",
       "4            Clay\n",
       "Name: Description, dtype: object"
      ]
     },
     "execution_count": 30,
     "metadata": {},
     "output_type": "execute_result"
    }
   ],
   "source": [
    "descs = df[LITHO_DESC_COL]\n",
    "descs = descs.reset_index()\n",
    "descs = descs[LITHO_DESC_COL]\n",
    "descs.head()"
   ]
  },
  {
   "cell_type": "markdown",
   "metadata": {},
   "source": [
    "The description column as read seems to be objects. Other columns seem to be objects when they should be numeric. We define two functions to clean these."
   ]
  },
  {
   "cell_type": "code",
   "execution_count": 31,
   "metadata": {},
   "outputs": [],
   "source": [
    "def clean_desc(x):\n",
    "    if isinstance(x, float):\n",
    "        return u''\n",
    "    elif x is None:\n",
    "        return u''\n",
    "    else:\n",
    "        # python2 return unicode(x)        \n",
    "        return x"
   ]
  },
  {
   "cell_type": "code",
   "execution_count": 32,
   "metadata": {},
   "outputs": [],
   "source": [
    "y = [clean_desc(x) for x in descs]"
   ]
  },
  {
   "cell_type": "code",
   "execution_count": 33,
   "metadata": {},
   "outputs": [],
   "source": [
    "from striplog import Lexicon\n",
    "lex = Lexicon.default()"
   ]
  },
  {
   "cell_type": "code",
   "execution_count": 34,
   "metadata": {},
   "outputs": [],
   "source": [
    "y = clean_lithology_descriptions(y, lex)"
   ]
  },
  {
   "cell_type": "markdown",
   "metadata": {},
   "source": [
    "We get a flat list of all the \"tokens\" but remove stop words ('s', 'the' and the like)"
   ]
  },
  {
   "cell_type": "code",
   "execution_count": 35,
   "metadata": {},
   "outputs": [],
   "source": [
    "y = v_lower(y)\n",
    "vt = v_word_tokenize(y)\n",
    "flat = np.concatenate(vt)"
   ]
  },
  {
   "cell_type": "code",
   "execution_count": 36,
   "metadata": {},
   "outputs": [],
   "source": [
    "import nltk\n",
    "from nltk.corpus import stopwords"
   ]
  },
  {
   "cell_type": "code",
   "execution_count": 37,
   "metadata": {},
   "outputs": [],
   "source": [
    "stoplist = stopwords.words('english')\n",
    "exclude = stoplist + ['.',',',';',':','(',')','-']\n",
    "flat = [word for word in flat if word not in exclude]"
   ]
  },
  {
   "cell_type": "code",
   "execution_count": 38,
   "metadata": {},
   "outputs": [
    {
     "data": {
      "text/plain": [
       "271"
      ]
     },
     "execution_count": 38,
     "metadata": {},
     "output_type": "execute_result"
    }
   ],
   "source": [
    "len(set(flat))"
   ]
  },
  {
   "cell_type": "code",
   "execution_count": 39,
   "metadata": {},
   "outputs": [],
   "source": [
    "df_most_common= token_freq(flat, 50)"
   ]
  },
  {
   "cell_type": "code",
   "execution_count": 40,
   "metadata": {},
   "outputs": [
    {
     "data": {
      "text/plain": [
       "<matplotlib.axes._subplots.AxesSubplot at 0x7f4cb8092668>"
      ]
     },
     "execution_count": 40,
     "metadata": {},
     "output_type": "execute_result"
    },
    {
     "data": {
      "image/png": "[encoded data removed]",
      "text/plain": [
       "<Figure size 1080x720 with 1 Axes>"
      ]
     },
     "metadata": {
      "needs_background": "light"
     },
     "output_type": "display_data"
    }
   ],
   "source": [
    "plot_freq(df_most_common)"
   ]
  },
  {
   "cell_type": "markdown",
   "metadata": {},
   "source": [
    "There are terms such as 'sandy', 'clayey', 'silty' and so on. Let's define functions to detect terms derived from lithology classes, and their frequency. Given the likely skewness, we use a y log scale. "
   ]
  },
  {
   "cell_type": "code",
   "execution_count": 41,
   "metadata": {},
   "outputs": [
    {
     "data": {
      "text/plain": [
       "<matplotlib.axes._subplots.AxesSubplot at 0x7f4cb3e8a6d8>"
      ]
     },
     "execution_count": 41,
     "metadata": {},
     "output_type": "execute_result"
    },
    {
     "data": {
      "image/png": "[encoded data removed]",
      "text/plain": [
       "<Figure size 1080x720 with 1 Axes>"
      ]
     },
     "metadata": {
      "needs_background": "light"
     },
     "output_type": "display_data"
    }
   ],
   "source": [
    "plot_freq_for_root(flat, 'sand')"
   ]
  },
  {
   "cell_type": "code",
   "execution_count": 42,
   "metadata": {},
   "outputs": [
    {
     "data": {
      "text/plain": [
       "<matplotlib.axes._subplots.AxesSubplot at 0x7f4cb3d52080>"
      ]
     },
     "execution_count": 42,
     "metadata": {},
     "output_type": "execute_result"
    },
    {
     "data": {
      "image/png": "[encoded data removed]",
      "text/plain": [
       "<Figure size 1080x720 with 1 Axes>"
      ]
     },
     "metadata": {
      "needs_background": "light"
     },
     "output_type": "display_data"
    }
   ],
   "source": [
    "plot_freq_for_root(flat, 'clay')"
   ]
  },
  {
   "cell_type": "code",
   "execution_count": 43,
   "metadata": {},
   "outputs": [],
   "source": [
    "# TODO: add a section that defines additional clean up e.g. 'sand/clay/soil' or dashed union composite terms\n",
    "# split_composite_term('sand/clay/soil', '/').replace('/', ' / ')"
   ]
  },
  {
   "cell_type": "code",
   "execution_count": 44,
   "metadata": {},
   "outputs": [
    {
     "data": {
      "text/html": [
       "<div>\n",
       "<style scoped>\n",
       "    .dataframe tbody tr th:only-of-type {\n",
       "        vertical-align: middle;\n",
       "    }\n",
       "\n",
       "    .dataframe tbody tr th {\n",
       "        vertical-align: top;\n",
       "    }\n",
       "\n",
       "    .dataframe thead th {\n",
       "        text-align: right;\n",
       "    }\n",
       "</style>\n",
       "<table border=\"1\" class=\"dataframe\">\n",
       "  <thead>\n",
       "    <tr style=\"text-align: right;\">\n",
       "      <th></th>\n",
       "      <th>token</th>\n",
       "      <th>frequency</th>\n",
       "    </tr>\n",
       "  </thead>\n",
       "  <tbody>\n",
       "    <tr>\n",
       "      <th>0</th>\n",
       "      <td>shale</td>\n",
       "      <td>833</td>\n",
       "    </tr>\n",
       "    <tr>\n",
       "      <th>1</th>\n",
       "      <td>clay</td>\n",
       "      <td>711</td>\n",
       "    </tr>\n",
       "    <tr>\n",
       "      <th>2</th>\n",
       "      <td>grey</td>\n",
       "      <td>345</td>\n",
       "    </tr>\n",
       "    <tr>\n",
       "      <th>3</th>\n",
       "      <td>gravel</td>\n",
       "      <td>270</td>\n",
       "    </tr>\n",
       "    <tr>\n",
       "      <th>4</th>\n",
       "      <td>brown</td>\n",
       "      <td>259</td>\n",
       "    </tr>\n",
       "    <tr>\n",
       "      <th>5</th>\n",
       "      <td>water</td>\n",
       "      <td>250</td>\n",
       "    </tr>\n",
       "    <tr>\n",
       "      <th>6</th>\n",
       "      <td>supply</td>\n",
       "      <td>218</td>\n",
       "    </tr>\n",
       "    <tr>\n",
       "      <th>7</th>\n",
       "      <td>yellow</td>\n",
       "      <td>206</td>\n",
       "    </tr>\n",
       "    <tr>\n",
       "      <th>8</th>\n",
       "      <td>black</td>\n",
       "      <td>187</td>\n",
       "    </tr>\n",
       "    <tr>\n",
       "      <th>9</th>\n",
       "      <td>soft</td>\n",
       "      <td>182</td>\n",
       "    </tr>\n",
       "    <tr>\n",
       "      <th>10</th>\n",
       "      <td>sand</td>\n",
       "      <td>155</td>\n",
       "    </tr>\n",
       "    <tr>\n",
       "      <th>11</th>\n",
       "      <td>hard</td>\n",
       "      <td>109</td>\n",
       "    </tr>\n",
       "    <tr>\n",
       "      <th>12</th>\n",
       "      <td>light</td>\n",
       "      <td>101</td>\n",
       "    </tr>\n",
       "    <tr>\n",
       "      <th>13</th>\n",
       "      <td>topsoil</td>\n",
       "      <td>93</td>\n",
       "    </tr>\n",
       "    <tr>\n",
       "      <th>14</th>\n",
       "      <td>white</td>\n",
       "      <td>87</td>\n",
       "    </tr>\n",
       "    <tr>\n",
       "      <th>15</th>\n",
       "      <td>slate</td>\n",
       "      <td>79</td>\n",
       "    </tr>\n",
       "    <tr>\n",
       "      <th>16</th>\n",
       "      <td>bands</td>\n",
       "      <td>78</td>\n",
       "    </tr>\n",
       "    <tr>\n",
       "      <th>17</th>\n",
       "      <td>sandy</td>\n",
       "      <td>75</td>\n",
       "    </tr>\n",
       "    <tr>\n",
       "      <th>18</th>\n",
       "      <td>weathered</td>\n",
       "      <td>73</td>\n",
       "    </tr>\n",
       "    <tr>\n",
       "      <th>19</th>\n",
       "      <td>quartz</td>\n",
       "      <td>67</td>\n",
       "    </tr>\n",
       "    <tr>\n",
       "      <th>20</th>\n",
       "      <td>soil</td>\n",
       "      <td>66</td>\n",
       "    </tr>\n",
       "    <tr>\n",
       "      <th>21</th>\n",
       "      <td>granite</td>\n",
       "      <td>65</td>\n",
       "    </tr>\n",
       "    <tr>\n",
       "      <th>22</th>\n",
       "      <td>blue</td>\n",
       "      <td>65</td>\n",
       "    </tr>\n",
       "    <tr>\n",
       "      <th>23</th>\n",
       "      <td>red</td>\n",
       "      <td>60</td>\n",
       "    </tr>\n",
       "    <tr>\n",
       "      <th>24</th>\n",
       "      <td>broken</td>\n",
       "      <td>53</td>\n",
       "    </tr>\n",
       "    <tr>\n",
       "      <th>25</th>\n",
       "      <td>decomposed</td>\n",
       "      <td>52</td>\n",
       "    </tr>\n",
       "    <tr>\n",
       "      <th>26</th>\n",
       "      <td>coarse</td>\n",
       "      <td>49</td>\n",
       "    </tr>\n",
       "    <tr>\n",
       "      <th>27</th>\n",
       "      <td>fractured</td>\n",
       "      <td>47</td>\n",
       "    </tr>\n",
       "    <tr>\n",
       "      <th>28</th>\n",
       "      <td>shales</td>\n",
       "      <td>42</td>\n",
       "    </tr>\n",
       "    <tr>\n",
       "      <th>29</th>\n",
       "      <td>siltstone</td>\n",
       "      <td>32</td>\n",
       "    </tr>\n",
       "    <tr>\n",
       "      <th>30</th>\n",
       "      <td>bearing</td>\n",
       "      <td>31</td>\n",
       "    </tr>\n",
       "    <tr>\n",
       "      <th>31</th>\n",
       "      <td>sandstone</td>\n",
       "      <td>29</td>\n",
       "    </tr>\n",
       "    <tr>\n",
       "      <th>32</th>\n",
       "      <td>fine</td>\n",
       "      <td>27</td>\n",
       "    </tr>\n",
       "    <tr>\n",
       "      <th>33</th>\n",
       "      <td>dark</td>\n",
       "      <td>26</td>\n",
       "    </tr>\n",
       "    <tr>\n",
       "      <th>34</th>\n",
       "      <td>rock</td>\n",
       "      <td>26</td>\n",
       "    </tr>\n",
       "    <tr>\n",
       "      <th>35</th>\n",
       "      <td>plastic</td>\n",
       "      <td>24</td>\n",
       "    </tr>\n",
       "    <tr>\n",
       "      <th>36</th>\n",
       "      <td>basalt</td>\n",
       "      <td>22</td>\n",
       "    </tr>\n",
       "    <tr>\n",
       "      <th>37</th>\n",
       "      <td>pink</td>\n",
       "      <td>19</td>\n",
       "    </tr>\n",
       "    <tr>\n",
       "      <th>38</th>\n",
       "      <td>clayey</td>\n",
       "      <td>18</td>\n",
       "    </tr>\n",
       "    <tr>\n",
       "      <th>39</th>\n",
       "      <td>clays</td>\n",
       "      <td>16</td>\n",
       "    </tr>\n",
       "    <tr>\n",
       "      <th>40</th>\n",
       "      <td>grained</td>\n",
       "      <td>16</td>\n",
       "    </tr>\n",
       "    <tr>\n",
       "      <th>41</th>\n",
       "      <td>interbedded</td>\n",
       "      <td>16</td>\n",
       "    </tr>\n",
       "    <tr>\n",
       "      <th>42</th>\n",
       "      <td>sticky</td>\n",
       "      <td>16</td>\n",
       "    </tr>\n",
       "    <tr>\n",
       "      <th>43</th>\n",
       "      <td>medium</td>\n",
       "      <td>15</td>\n",
       "    </tr>\n",
       "    <tr>\n",
       "      <th>44</th>\n",
       "      <td>orange</td>\n",
       "      <td>15</td>\n",
       "    </tr>\n",
       "    <tr>\n",
       "      <th>45</th>\n",
       "      <td>&amp;</td>\n",
       "      <td>15</td>\n",
       "    </tr>\n",
       "    <tr>\n",
       "      <th>46</th>\n",
       "      <td>large</td>\n",
       "      <td>15</td>\n",
       "    </tr>\n",
       "    <tr>\n",
       "      <th>47</th>\n",
       "      <td>silt</td>\n",
       "      <td>14</td>\n",
       "    </tr>\n",
       "    <tr>\n",
       "      <th>48</th>\n",
       "      <td>loamy</td>\n",
       "      <td>13</td>\n",
       "    </tr>\n",
       "    <tr>\n",
       "      <th>49</th>\n",
       "      <td>top</td>\n",
       "      <td>13</td>\n",
       "    </tr>\n",
       "  </tbody>\n",
       "</table>\n",
       "</div>"
      ],
      "text/plain": [
       "          token  frequency\n",
       "0         shale        833\n",
       "1          clay        711\n",
       "2          grey        345\n",
       "3        gravel        270\n",
       "4         brown        259\n",
       "5         water        250\n",
       "6        supply        218\n",
       "7        yellow        206\n",
       "8         black        187\n",
       "9          soft        182\n",
       "10         sand        155\n",
       "11         hard        109\n",
       "12        light        101\n",
       "13      topsoil         93\n",
       "14        white         87\n",
       "15        slate         79\n",
       "16        bands         78\n",
       "17        sandy         75\n",
       "18    weathered         73\n",
       "19       quartz         67\n",
       "20         soil         66\n",
       "21      granite         65\n",
       "22         blue         65\n",
       "23          red         60\n",
       "24       broken         53\n",
       "25   decomposed         52\n",
       "26       coarse         49\n",
       "27    fractured         47\n",
       "28       shales         42\n",
       "29    siltstone         32\n",
       "30      bearing         31\n",
       "31    sandstone         29\n",
       "32         fine         27\n",
       "33         dark         26\n",
       "34         rock         26\n",
       "35      plastic         24\n",
       "36       basalt         22\n",
       "37         pink         19\n",
       "38       clayey         18\n",
       "39        clays         16\n",
       "40      grained         16\n",
       "41  interbedded         16\n",
       "42       sticky         16\n",
       "43       medium         15\n",
       "44       orange         15\n",
       "45            &         15\n",
       "46        large         15\n",
       "47         silt         14\n",
       "48        loamy         13\n",
       "49          top         13"
      ]
     },
     "execution_count": 44,
     "metadata": {},
     "output_type": "execute_result"
    }
   ],
   "source": [
    "df_most_common"
   ]
  },
  {
   "cell_type": "markdown",
   "metadata": {},
   "source": [
    "## Defining lithology classes and finding primary/secondary lithologies\n",
    "\n",
    "From the list of most common tokens, we may want to define lithology classes as follows:"
   ]
  },
  {
   "cell_type": "code",
   "execution_count": 45,
   "metadata": {},
   "outputs": [],
   "source": [
    "df[LITHO_DESC_COL] = y"
   ]
  },
  {
   "cell_type": "code",
   "execution_count": 46,
   "metadata": {},
   "outputs": [],
   "source": [
    "lithologies = ['clay','sand','gravel','granite','shale','silt','topsoil','loam','soil','slate','sandstone']"
   ]
  },
  {
   "cell_type": "markdown",
   "metadata": {},
   "source": [
    "And to capture any of these we devise a regular expression:"
   ]
  },
  {
   "cell_type": "code",
   "execution_count": 47,
   "metadata": {},
   "outputs": [],
   "source": [
    "any_litho_markers_re = r'sand|clay|ston|shale|silt|granit|soil|gravel|loam|slate'\n",
    "regex = re.compile(any_litho_markers_re)"
   ]
  },
  {
   "cell_type": "code",
   "execution_count": 48,
   "metadata": {},
   "outputs": [],
   "source": [
    "my_lithologies_numclasses = create_numeric_classes(lithologies)"
   ]
  },
  {
   "cell_type": "code",
   "execution_count": 49,
   "metadata": {},
   "outputs": [],
   "source": [
    "lithologies_dict = dict([(x,x) for x in lithologies])\n",
    "lithologies_dict['sands'] = 'sand'\n",
    "lithologies_dict['clays'] = 'clay'\n",
    "lithologies_dict['shales'] = 'shale'\n",
    "lithologies_dict['claystone'] = 'clay'\n",
    "lithologies_dict['siltstone'] = 'silt'\n",
    "lithologies_dict['limesand'] = 'sand' # ??\n",
    "lithologies_dict['calcarenite'] = 'limestone' # ??\n",
    "lithologies_dict['calcitareous'] = 'limestone' # ??\n",
    "lithologies_dict['mudstone'] = 'silt' # ??\n",
    "lithologies_dict['capstone'] = 'limestone' # ??\n",
    "lithologies_dict['ironstone'] = 'sandstone' # ??\n",
    "#lithologies_dict['topsoil'] = 'soil' # ??"
   ]
  },
  {
   "cell_type": "code",
   "execution_count": 50,
   "metadata": {},
   "outputs": [],
   "source": [
    "lithologies_adjective_dict = {\n",
    "    'sandy' :  'sand',\n",
    "    'clayey' :  'clay',\n",
    "    'clayish' :  'clay',\n",
    "    'shaley' :  'shale',\n",
    "    'silty' :  'silt',\n",
    "    'gravelly' :  'gravel'\n",
    "}"
   ]
  },
  {
   "cell_type": "code",
   "execution_count": 51,
   "metadata": {},
   "outputs": [],
   "source": [
    "v_tokens = v_word_tokenize(y)\n",
    "litho_terms_detected = v_find_litho_markers(v_tokens, regex=regex)"
   ]
  },
  {
   "cell_type": "markdown",
   "metadata": {},
   "source": [
    "Let's see if we detect these lithology markers in each bore log entries  "
   ]
  },
  {
   "cell_type": "code",
   "execution_count": 52,
   "metadata": {},
   "outputs": [
    {
     "name": "stdout",
     "output_type": "stream",
     "text": [
      "There are 148 entries with no marker, 2074 entries with at least one, 465 with at least two\n"
     ]
    }
   ],
   "source": [
    "zero_mark = [x for x in litho_terms_detected if len(x) == 0 ]\n",
    "at_least_one_mark = [x for x in litho_terms_detected if len(x) >= 1]\n",
    "at_least_two_mark = [x for x in litho_terms_detected if len(x) >= 2]\n",
    "print('There are %s entries with no marker, %s entries with at least one, %s with at least two'%(len(zero_mark),len(at_least_one_mark),len(at_least_two_mark)))"
   ]
  },
  {
   "cell_type": "markdown",
   "metadata": {},
   "source": [
    "Note: probably need to think of precanned facilities in ela to assess the detection rate in such EDA. Maybe wordcloud not such a bad idea too."
   ]
  },
  {
   "cell_type": "code",
   "execution_count": 53,
   "metadata": {},
   "outputs": [],
   "source": [
    "descs_zero_mark = [y[i] for i in range(len(litho_terms_detected)) if len(litho_terms_detected[i]) == 0 ]"
   ]
  },
  {
   "cell_type": "code",
   "execution_count": 54,
   "metadata": {},
   "outputs": [
    {
     "data": {
      "text/plain": [
       "['quartz water supply',\n",
       " 'humus',\n",
       " 'quartz',\n",
       " 'aquifer water supply',\n",
       " 'none',\n",
       " 'none',\n",
       " 'black rock',\n",
       " 'rock water supply',\n",
       " 'yellow rock',\n",
       " 'basalt',\n",
       " 'coal lignitic',\n",
       " 'driller',\n",
       " 'dacite water supply',\n",
       " 'surface rock',\n",
       " 'dacite, yellowibrown',\n",
       " 'dacite, blue with black',\n",
       " 'quartz feldspar porphry - quartz veins',\n",
       " 'sediment, light browns-white',\n",
       " 'sediment - fine']"
      ]
     },
     "execution_count": 54,
     "metadata": {},
     "output_type": "execute_result"
    }
   ],
   "source": [
    "descs_zero_mark[1:20]"
   ]
  },
  {
   "cell_type": "code",
   "execution_count": 55,
   "metadata": {},
   "outputs": [],
   "source": [
    "primary_litho = v_find_primary_lithology(litho_terms_detected, lithologies_dict)"
   ]
  },
  {
   "cell_type": "code",
   "execution_count": 56,
   "metadata": {},
   "outputs": [],
   "source": [
    "secondary_litho = v_find_secondary_lithology(litho_terms_detected, primary_litho, lithologies_adjective_dict, lithologies_dict)"
   ]
  },
  {
   "cell_type": "code",
   "execution_count": 57,
   "metadata": {},
   "outputs": [],
   "source": [
    "df[PRIMARY_LITHO_COL]=primary_litho\n",
    "df[SECONDARY_LITHO_COL]=secondary_litho"
   ]
  },
  {
   "cell_type": "code",
   "execution_count": 58,
   "metadata": {},
   "outputs": [],
   "source": [
    "df[PRIMARY_LITHO_NUM_COL] = v_to_litho_class_num(primary_litho, my_lithologies_numclasses)\n",
    "df[SECONDARY_LITHO_NUM_COL] = v_to_litho_class_num(secondary_litho, my_lithologies_numclasses)"
   ]
  },
  {
   "cell_type": "code",
   "execution_count": 59,
   "metadata": {},
   "outputs": [
    {
     "data": {
      "text/html": [
       "<div>\n",
       "<style scoped>\n",
       "    .dataframe tbody tr th:only-of-type {\n",
       "        vertical-align: middle;\n",
       "    }\n",
       "\n",
       "    .dataframe tbody tr th {\n",
       "        vertical-align: top;\n",
       "    }\n",
       "\n",
       "    .dataframe thead th {\n",
       "        text-align: right;\n",
       "    }\n",
       "</style>\n",
       "<table border=\"1\" class=\"dataframe\">\n",
       "  <thead>\n",
       "    <tr style=\"text-align: right;\">\n",
       "      <th></th>\n",
       "      <th>OBJECTID</th>\n",
       "      <th>BoreID</th>\n",
       "      <th>HydroCode</th>\n",
       "      <th>RefElev</th>\n",
       "      <th>RefElevDesc</th>\n",
       "      <th>FromDepth</th>\n",
       "      <th>ToDepth</th>\n",
       "      <th>TopElev</th>\n",
       "      <th>BottomElev</th>\n",
       "      <th>MajorLithCode</th>\n",
       "      <th>MinorLithCode</th>\n",
       "      <th>Description</th>\n",
       "      <th>Source</th>\n",
       "      <th>LogType</th>\n",
       "      <th>Easting</th>\n",
       "      <th>Northing</th>\n",
       "      <th>Lithology_1</th>\n",
       "      <th>Lithology_2</th>\n",
       "      <th>Lithology_1_num</th>\n",
       "      <th>Lithology_2_num</th>\n",
       "    </tr>\n",
       "  </thead>\n",
       "  <tbody>\n",
       "    <tr>\n",
       "      <th>0</th>\n",
       "      <td>3297041</td>\n",
       "      <td>10037380</td>\n",
       "      <td>GW058949.1.1</td>\n",
       "      <td>691.43</td>\n",
       "      <td>UNK</td>\n",
       "      <td>9.0</td>\n",
       "      <td>11.0</td>\n",
       "      <td>682.63</td>\n",
       "      <td>680.43</td>\n",
       "      <td>SHLE</td>\n",
       "      <td>NaN</td>\n",
       "      <td>shale broken</td>\n",
       "      <td>UNK</td>\n",
       "      <td>1</td>\n",
       "      <td>720769.160247</td>\n",
       "      <td>6.095597e+06</td>\n",
       "      <td>shale</td>\n",
       "      <td></td>\n",
       "      <td>4.0</td>\n",
       "      <td>NaN</td>\n",
       "    </tr>\n",
       "    <tr>\n",
       "      <th>1</th>\n",
       "      <td>3297109</td>\n",
       "      <td>10037380</td>\n",
       "      <td>GW058949.1.1</td>\n",
       "      <td>691.43</td>\n",
       "      <td>UNK</td>\n",
       "      <td>0.0</td>\n",
       "      <td>1.0</td>\n",
       "      <td>691.43</td>\n",
       "      <td>690.53</td>\n",
       "      <td>TPSL</td>\n",
       "      <td>NaN</td>\n",
       "      <td>topsoil</td>\n",
       "      <td>UNK</td>\n",
       "      <td>1</td>\n",
       "      <td>720769.160247</td>\n",
       "      <td>6.095597e+06</td>\n",
       "      <td>topsoil</td>\n",
       "      <td></td>\n",
       "      <td>6.0</td>\n",
       "      <td>NaN</td>\n",
       "    </tr>\n",
       "    <tr>\n",
       "      <th>2</th>\n",
       "      <td>3297126</td>\n",
       "      <td>10037380</td>\n",
       "      <td>GW058949.1.1</td>\n",
       "      <td>691.43</td>\n",
       "      <td>UNK</td>\n",
       "      <td>1.0</td>\n",
       "      <td>3.0</td>\n",
       "      <td>690.53</td>\n",
       "      <td>688.13</td>\n",
       "      <td>CLAY</td>\n",
       "      <td>NaN</td>\n",
       "      <td>clay</td>\n",
       "      <td>UNK</td>\n",
       "      <td>1</td>\n",
       "      <td>720769.160247</td>\n",
       "      <td>6.095597e+06</td>\n",
       "      <td>clay</td>\n",
       "      <td></td>\n",
       "      <td>0.0</td>\n",
       "      <td>NaN</td>\n",
       "    </tr>\n",
       "    <tr>\n",
       "      <th>3</th>\n",
       "      <td>3297127</td>\n",
       "      <td>10037380</td>\n",
       "      <td>GW058949.1.1</td>\n",
       "      <td>691.43</td>\n",
       "      <td>UNK</td>\n",
       "      <td>5.0</td>\n",
       "      <td>7.0</td>\n",
       "      <td>686.23</td>\n",
       "      <td>684.13</td>\n",
       "      <td>SAND</td>\n",
       "      <td>NaN</td>\n",
       "      <td>sand clay</td>\n",
       "      <td>UNK</td>\n",
       "      <td>1</td>\n",
       "      <td>720769.160247</td>\n",
       "      <td>6.095597e+06</td>\n",
       "      <td>sand</td>\n",
       "      <td>clay</td>\n",
       "      <td>1.0</td>\n",
       "      <td>0.0</td>\n",
       "    </tr>\n",
       "    <tr>\n",
       "      <th>4</th>\n",
       "      <td>3297180</td>\n",
       "      <td>10037380</td>\n",
       "      <td>GW058949.1.1</td>\n",
       "      <td>691.43</td>\n",
       "      <td>UNK</td>\n",
       "      <td>7.0</td>\n",
       "      <td>9.0</td>\n",
       "      <td>684.13</td>\n",
       "      <td>682.63</td>\n",
       "      <td>CLAY</td>\n",
       "      <td>NaN</td>\n",
       "      <td>clay</td>\n",
       "      <td>UNK</td>\n",
       "      <td>1</td>\n",
       "      <td>720769.160247</td>\n",
       "      <td>6.095597e+06</td>\n",
       "      <td>clay</td>\n",
       "      <td></td>\n",
       "      <td>0.0</td>\n",
       "      <td>NaN</td>\n",
       "    </tr>\n",
       "  </tbody>\n",
       "</table>\n",
       "</div>"
      ],
      "text/plain": [
       "   OBJECTID    BoreID     HydroCode RefElev RefElevDesc  FromDepth  ToDepth  \\\n",
       "0   3297041  10037380  GW058949.1.1  691.43         UNK        9.0     11.0   \n",
       "1   3297109  10037380  GW058949.1.1  691.43         UNK        0.0      1.0   \n",
       "2   3297126  10037380  GW058949.1.1  691.43         UNK        1.0      3.0   \n",
       "3   3297127  10037380  GW058949.1.1  691.43         UNK        5.0      7.0   \n",
       "4   3297180  10037380  GW058949.1.1  691.43         UNK        7.0      9.0   \n",
       "\n",
       "   TopElev  BottomElev MajorLithCode  MinorLithCode   Description Source  \\\n",
       "0   682.63      680.43          SHLE            NaN  shale broken    UNK   \n",
       "1   691.43      690.53          TPSL            NaN       topsoil    UNK   \n",
       "2   690.53      688.13          CLAY            NaN          clay    UNK   \n",
       "3   686.23      684.13          SAND            NaN     sand clay    UNK   \n",
       "4   684.13      682.63          CLAY            NaN          clay    UNK   \n",
       "\n",
       "   LogType        Easting      Northing Lithology_1 Lithology_2  \\\n",
       "0        1  720769.160247  6.095597e+06       shale               \n",
       "1        1  720769.160247  6.095597e+06     topsoil               \n",
       "2        1  720769.160247  6.095597e+06        clay               \n",
       "3        1  720769.160247  6.095597e+06        sand        clay   \n",
       "4        1  720769.160247  6.095597e+06        clay               \n",
       "\n",
       "   Lithology_1_num  Lithology_2_num  \n",
       "0              4.0              NaN  \n",
       "1              6.0              NaN  \n",
       "2              0.0              NaN  \n",
       "3              1.0              0.0  \n",
       "4              0.0              NaN  "
      ]
     },
     "execution_count": 59,
     "metadata": {},
     "output_type": "execute_result"
    }
   ],
   "source": [
    "df.head()"
   ]
  },
  {
   "cell_type": "markdown",
   "metadata": {},
   "source": [
    "## Converting depth below ground to Australian Height Datum elevation\n",
    "\n",
    "While the bore entries have columns for AHD elevations, many appear to be missing data. Since we have a DEM of the region we can correct this."
   ]
  },
  {
   "cell_type": "code",
   "execution_count": 60,
   "metadata": {},
   "outputs": [],
   "source": [
    "cd = HeightDatumConverter(bungendore_raster)"
   ]
  },
  {
   "cell_type": "code",
   "execution_count": 61,
   "metadata": {},
   "outputs": [],
   "source": [
    "df = cd.add_height(df, \n",
    "        depth_from_col=DEPTH_FROM_COL, depth_to_col=DEPTH_TO_COL, \n",
    "        depth_from_ahd_col=DEPTH_FROM_AHD_COL, depth_to_ahd_col=DEPTH_TO_AHD_COL, \n",
    "        easting_col=EASTING_COL, northing_col=NORTHING_COL, drop_na=False)"
   ]
  },
  {
   "cell_type": "code",
   "execution_count": 62,
   "metadata": {},
   "outputs": [
    {
     "data": {
      "text/html": [
       "<div>\n",
       "<style scoped>\n",
       "    .dataframe tbody tr th:only-of-type {\n",
       "        vertical-align: middle;\n",
       "    }\n",
       "\n",
       "    .dataframe tbody tr th {\n",
       "        vertical-align: top;\n",
       "    }\n",
       "\n",
       "    .dataframe thead th {\n",
       "        text-align: right;\n",
       "    }\n",
       "</style>\n",
       "<table border=\"1\" class=\"dataframe\">\n",
       "  <thead>\n",
       "    <tr style=\"text-align: right;\">\n",
       "      <th></th>\n",
       "      <th>OBJECTID</th>\n",
       "      <th>BoreID</th>\n",
       "      <th>HydroCode</th>\n",
       "      <th>RefElev</th>\n",
       "      <th>RefElevDesc</th>\n",
       "      <th>FromDepth</th>\n",
       "      <th>ToDepth</th>\n",
       "      <th>TopElev</th>\n",
       "      <th>BottomElev</th>\n",
       "      <th>MajorLithCode</th>\n",
       "      <th>...</th>\n",
       "      <th>Source</th>\n",
       "      <th>LogType</th>\n",
       "      <th>Easting</th>\n",
       "      <th>Northing</th>\n",
       "      <th>Lithology_1</th>\n",
       "      <th>Lithology_2</th>\n",
       "      <th>Lithology_1_num</th>\n",
       "      <th>Lithology_2_num</th>\n",
       "      <th>Depth From (AHD)</th>\n",
       "      <th>Depth To (AHD)</th>\n",
       "    </tr>\n",
       "  </thead>\n",
       "  <tbody>\n",
       "    <tr>\n",
       "      <th>0</th>\n",
       "      <td>3297041</td>\n",
       "      <td>10037380</td>\n",
       "      <td>GW058949.1.1</td>\n",
       "      <td>691.43</td>\n",
       "      <td>UNK</td>\n",
       "      <td>9.0</td>\n",
       "      <td>11.0</td>\n",
       "      <td>682.63</td>\n",
       "      <td>680.43</td>\n",
       "      <td>SHLE</td>\n",
       "      <td>...</td>\n",
       "      <td>UNK</td>\n",
       "      <td>1</td>\n",
       "      <td>720769.160247</td>\n",
       "      <td>6.095597e+06</td>\n",
       "      <td>shale</td>\n",
       "      <td></td>\n",
       "      <td>4.0</td>\n",
       "      <td>NaN</td>\n",
       "      <td>682.26709</td>\n",
       "      <td>680.26709</td>\n",
       "    </tr>\n",
       "    <tr>\n",
       "      <th>1</th>\n",
       "      <td>3297109</td>\n",
       "      <td>10037380</td>\n",
       "      <td>GW058949.1.1</td>\n",
       "      <td>691.43</td>\n",
       "      <td>UNK</td>\n",
       "      <td>0.0</td>\n",
       "      <td>1.0</td>\n",
       "      <td>691.43</td>\n",
       "      <td>690.53</td>\n",
       "      <td>TPSL</td>\n",
       "      <td>...</td>\n",
       "      <td>UNK</td>\n",
       "      <td>1</td>\n",
       "      <td>720769.160247</td>\n",
       "      <td>6.095597e+06</td>\n",
       "      <td>topsoil</td>\n",
       "      <td></td>\n",
       "      <td>6.0</td>\n",
       "      <td>NaN</td>\n",
       "      <td>691.26709</td>\n",
       "      <td>690.26709</td>\n",
       "    </tr>\n",
       "    <tr>\n",
       "      <th>2</th>\n",
       "      <td>3297126</td>\n",
       "      <td>10037380</td>\n",
       "      <td>GW058949.1.1</td>\n",
       "      <td>691.43</td>\n",
       "      <td>UNK</td>\n",
       "      <td>1.0</td>\n",
       "      <td>3.0</td>\n",
       "      <td>690.53</td>\n",
       "      <td>688.13</td>\n",
       "      <td>CLAY</td>\n",
       "      <td>...</td>\n",
       "      <td>UNK</td>\n",
       "      <td>1</td>\n",
       "      <td>720769.160247</td>\n",
       "      <td>6.095597e+06</td>\n",
       "      <td>clay</td>\n",
       "      <td></td>\n",
       "      <td>0.0</td>\n",
       "      <td>NaN</td>\n",
       "      <td>690.26709</td>\n",
       "      <td>688.26709</td>\n",
       "    </tr>\n",
       "    <tr>\n",
       "      <th>3</th>\n",
       "      <td>3297127</td>\n",
       "      <td>10037380</td>\n",
       "      <td>GW058949.1.1</td>\n",
       "      <td>691.43</td>\n",
       "      <td>UNK</td>\n",
       "      <td>5.0</td>\n",
       "      <td>7.0</td>\n",
       "      <td>686.23</td>\n",
       "      <td>684.13</td>\n",
       "      <td>SAND</td>\n",
       "      <td>...</td>\n",
       "      <td>UNK</td>\n",
       "      <td>1</td>\n",
       "      <td>720769.160247</td>\n",
       "      <td>6.095597e+06</td>\n",
       "      <td>sand</td>\n",
       "      <td>clay</td>\n",
       "      <td>1.0</td>\n",
       "      <td>0.0</td>\n",
       "      <td>686.26709</td>\n",
       "      <td>684.26709</td>\n",
       "    </tr>\n",
       "    <tr>\n",
       "      <th>4</th>\n",
       "      <td>3297180</td>\n",
       "      <td>10037380</td>\n",
       "      <td>GW058949.1.1</td>\n",
       "      <td>691.43</td>\n",
       "      <td>UNK</td>\n",
       "      <td>7.0</td>\n",
       "      <td>9.0</td>\n",
       "      <td>684.13</td>\n",
       "      <td>682.63</td>\n",
       "      <td>CLAY</td>\n",
       "      <td>...</td>\n",
       "      <td>UNK</td>\n",
       "      <td>1</td>\n",
       "      <td>720769.160247</td>\n",
       "      <td>6.095597e+06</td>\n",
       "      <td>clay</td>\n",
       "      <td></td>\n",
       "      <td>0.0</td>\n",
       "      <td>NaN</td>\n",
       "      <td>684.26709</td>\n",
       "      <td>682.26709</td>\n",
       "    </tr>\n",
       "  </tbody>\n",
       "</table>\n",
       "<p>5 rows × 22 columns</p>\n",
       "</div>"
      ],
      "text/plain": [
       "   OBJECTID    BoreID     HydroCode RefElev RefElevDesc  FromDepth  ToDepth  \\\n",
       "0   3297041  10037380  GW058949.1.1  691.43         UNK        9.0     11.0   \n",
       "1   3297109  10037380  GW058949.1.1  691.43         UNK        0.0      1.0   \n",
       "2   3297126  10037380  GW058949.1.1  691.43         UNK        1.0      3.0   \n",
       "3   3297127  10037380  GW058949.1.1  691.43         UNK        5.0      7.0   \n",
       "4   3297180  10037380  GW058949.1.1  691.43         UNK        7.0      9.0   \n",
       "\n",
       "   TopElev  BottomElev MajorLithCode  ...  Source LogType        Easting  \\\n",
       "0   682.63      680.43          SHLE  ...     UNK       1  720769.160247   \n",
       "1   691.43      690.53          TPSL  ...     UNK       1  720769.160247   \n",
       "2   690.53      688.13          CLAY  ...     UNK       1  720769.160247   \n",
       "3   686.23      684.13          SAND  ...     UNK       1  720769.160247   \n",
       "4   684.13      682.63          CLAY  ...     UNK       1  720769.160247   \n",
       "\n",
       "       Northing  Lithology_1  Lithology_2 Lithology_1_num Lithology_2_num  \\\n",
       "0  6.095597e+06        shale                          4.0             NaN   \n",
       "1  6.095597e+06      topsoil                          6.0             NaN   \n",
       "2  6.095597e+06         clay                          0.0             NaN   \n",
       "3  6.095597e+06         sand         clay             1.0             0.0   \n",
       "4  6.095597e+06         clay                          0.0             NaN   \n",
       "\n",
       "   Depth From (AHD)  Depth To (AHD)  \n",
       "0         682.26709       680.26709  \n",
       "1         691.26709       690.26709  \n",
       "2         690.26709       688.26709  \n",
       "3         686.26709       684.26709  \n",
       "4         684.26709       682.26709  \n",
       "\n",
       "[5 rows x 22 columns]"
      ]
     },
     "execution_count": 62,
     "metadata": {},
     "output_type": "execute_result"
    }
   ],
   "source": [
    "df.head()"
   ]
  },
  {
   "cell_type": "code",
   "execution_count": 63,
   "metadata": {},
   "outputs": [],
   "source": [
    "# to be reused in experimental notebooks:\n",
    "classified_logs_filename = os.path.join(data_path, 'Bungendore','classified_logs.pkl')\n",
    "df.to_pickle(classified_logs_filename)"
   ]
  },
  {
   "cell_type": "markdown",
   "metadata": {},
   "source": [
    "\n",
    "## Interpolate over a regular grid\n"
   ]
  },
  {
   "cell_type": "code",
   "execution_count": 64,
   "metadata": {
    "ExecuteTime": {
     "end_time": "2018-02-06T00:50:58.799366Z",
     "start_time": "2018-02-06T00:50:55.503766Z"
    }
   },
   "outputs": [
    {
     "data": {
      "text/plain": [
       "(706394.2929625576, 6089546.817226024, 729010.1694019751, 6109176.439475171)"
      ]
     },
     "execution_count": 64,
     "metadata": {},
     "output_type": "execute_result"
    }
   ],
   "source": [
    "# max/min bounds\n",
    "shp_bbox = get_bbox(bore_locations)\n",
    "shp_bbox"
   ]
  },
  {
   "cell_type": "code",
   "execution_count": 65,
   "metadata": {},
   "outputs": [
    {
     "data": {
      "text/plain": [
       "BoundingBox(left=698072.3317566791, bottom=6081052.435896559, right=743160.9813157511, top=6117034.783610981)"
      ]
     },
     "execution_count": 65,
     "metadata": {},
     "output_type": "execute_result"
    }
   ],
   "source": [
    "raster_bbox = bungendore_raster.bounds\n",
    "raster_bbox"
   ]
  },
  {
   "cell_type": "code",
   "execution_count": 66,
   "metadata": {},
   "outputs": [],
   "source": [
    "x_min = max(shp_bbox[0], raster_bbox[0])\n",
    "x_max = min(shp_bbox[2], raster_bbox[2])\n",
    "y_min = max(shp_bbox[1], raster_bbox[1])\n",
    "y_max = min(shp_bbox[3], raster_bbox[3])\n"
   ]
  },
  {
   "cell_type": "code",
   "execution_count": 67,
   "metadata": {},
   "outputs": [],
   "source": [
    "grid_res = 150\n",
    "m = create_meshgrid_cartesian(x_min, x_max, y_min, y_max, grid_res)"
   ]
  },
  {
   "cell_type": "code",
   "execution_count": 68,
   "metadata": {},
   "outputs": [
    {
     "data": {
      "text/plain": [
       "[(151, 131), (151, 131)]"
      ]
     },
     "execution_count": 68,
     "metadata": {},
     "output_type": "execute_result"
    }
   ],
   "source": [
    "[x.shape for x in m]"
   ]
  },
  {
   "cell_type": "code",
   "execution_count": 69,
   "metadata": {
    "ExecuteTime": {
     "end_time": "2018-02-06T00:50:58.799366Z",
     "start_time": "2018-02-06T00:50:55.503766Z"
    }
   },
   "outputs": [],
   "source": [
    "dem_array = surface_array(bungendore_raster, x_min, y_min, x_max, y_max, grid_res)"
   ]
  },
  {
   "cell_type": "code",
   "execution_count": 70,
   "metadata": {
    "ExecuteTime": {
     "end_time": "2018-02-06T00:50:58.799366Z",
     "start_time": "2018-02-06T00:50:55.503766Z"
    }
   },
   "outputs": [
    {
     "data": {
      "text/plain": [
       "(151, 131)"
      ]
     },
     "execution_count": 70,
     "metadata": {},
     "output_type": "execute_result"
    }
   ],
   "source": [
    "dem_array.shape"
   ]
  },
  {
   "cell_type": "code",
   "execution_count": 71,
   "metadata": {},
   "outputs": [
    {
     "data": {
      "text/plain": [
       "<matplotlib.image.AxesImage at 0x7f4cb3b4dd30>"
      ]
     },
     "execution_count": 71,
     "metadata": {},
     "output_type": "execute_result"
    },
    {
     "data": {
      "image/png": "[encoded data removed]",
      "text/plain": [
       "<Figure size 432x288 with 1 Axes>"
      ]
     },
     "metadata": {
      "needs_background": "light"
     },
     "output_type": "display_data"
    }
   ],
   "source": [
    "plt.imshow(to_carto(dem_array), cmap='terrain')"
   ]
  },
  {
   "cell_type": "code",
   "execution_count": 72,
   "metadata": {
    "ExecuteTime": {
     "end_time": "2018-02-06T00:50:58.799366Z",
     "start_time": "2018-02-06T00:50:55.503766Z"
    }
   },
   "outputs": [],
   "source": [
    "dem_array_data = {'bounds': (x_min, x_max, y_min, y_max), 'grid_res': grid_res, 'mesh_xy': m, 'dem_array': dem_array}"
   ]
  },
  {
   "cell_type": "code",
   "execution_count": 73,
   "metadata": {},
   "outputs": [],
   "source": [
    "import pickle\n",
    "\n",
    "fp = os.path.join(bungendore_datadir, 'dem_array_data.pkl')\n",
    "if not os.path.exists(fp):\n",
    "    with open(fp, 'wb') as handle:\n",
    "        pickle.dump(dem_array_data, handle, protocol=pickle.HIGHEST_PROTOCOL)"
   ]
  },
  {
   "cell_type": "code",
   "execution_count": 74,
   "metadata": {},
   "outputs": [
    {
     "data": {
      "text/html": [
       "<div>\n",
       "<style scoped>\n",
       "    .dataframe tbody tr th:only-of-type {\n",
       "        vertical-align: middle;\n",
       "    }\n",
       "\n",
       "    .dataframe tbody tr th {\n",
       "        vertical-align: top;\n",
       "    }\n",
       "\n",
       "    .dataframe thead th {\n",
       "        text-align: right;\n",
       "    }\n",
       "</style>\n",
       "<table border=\"1\" class=\"dataframe\">\n",
       "  <thead>\n",
       "    <tr style=\"text-align: right;\">\n",
       "      <th></th>\n",
       "      <th>OBJECTID</th>\n",
       "      <th>BoreID</th>\n",
       "      <th>HydroCode</th>\n",
       "      <th>RefElev</th>\n",
       "      <th>RefElevDesc</th>\n",
       "      <th>FromDepth</th>\n",
       "      <th>ToDepth</th>\n",
       "      <th>TopElev</th>\n",
       "      <th>BottomElev</th>\n",
       "      <th>MajorLithCode</th>\n",
       "      <th>...</th>\n",
       "      <th>Source</th>\n",
       "      <th>LogType</th>\n",
       "      <th>Easting</th>\n",
       "      <th>Northing</th>\n",
       "      <th>Lithology_1</th>\n",
       "      <th>Lithology_2</th>\n",
       "      <th>Lithology_1_num</th>\n",
       "      <th>Lithology_2_num</th>\n",
       "      <th>Depth From (AHD)</th>\n",
       "      <th>Depth To (AHD)</th>\n",
       "    </tr>\n",
       "  </thead>\n",
       "  <tbody>\n",
       "    <tr>\n",
       "      <th>0</th>\n",
       "      <td>3297041</td>\n",
       "      <td>10037380</td>\n",
       "      <td>GW058949.1.1</td>\n",
       "      <td>691.43</td>\n",
       "      <td>UNK</td>\n",
       "      <td>9.0</td>\n",
       "      <td>11.0</td>\n",
       "      <td>682.63</td>\n",
       "      <td>680.43</td>\n",
       "      <td>SHLE</td>\n",
       "      <td>...</td>\n",
       "      <td>UNK</td>\n",
       "      <td>1</td>\n",
       "      <td>720769.160247</td>\n",
       "      <td>6.095597e+06</td>\n",
       "      <td>shale</td>\n",
       "      <td></td>\n",
       "      <td>4.0</td>\n",
       "      <td>NaN</td>\n",
       "      <td>682.267090</td>\n",
       "      <td>680.267090</td>\n",
       "    </tr>\n",
       "    <tr>\n",
       "      <th>1</th>\n",
       "      <td>3297109</td>\n",
       "      <td>10037380</td>\n",
       "      <td>GW058949.1.1</td>\n",
       "      <td>691.43</td>\n",
       "      <td>UNK</td>\n",
       "      <td>0.0</td>\n",
       "      <td>1.0</td>\n",
       "      <td>691.43</td>\n",
       "      <td>690.53</td>\n",
       "      <td>TPSL</td>\n",
       "      <td>...</td>\n",
       "      <td>UNK</td>\n",
       "      <td>1</td>\n",
       "      <td>720769.160247</td>\n",
       "      <td>6.095597e+06</td>\n",
       "      <td>topsoil</td>\n",
       "      <td></td>\n",
       "      <td>6.0</td>\n",
       "      <td>NaN</td>\n",
       "      <td>691.267090</td>\n",
       "      <td>690.267090</td>\n",
       "    </tr>\n",
       "    <tr>\n",
       "      <th>2</th>\n",
       "      <td>3297126</td>\n",
       "      <td>10037380</td>\n",
       "      <td>GW058949.1.1</td>\n",
       "      <td>691.43</td>\n",
       "      <td>UNK</td>\n",
       "      <td>1.0</td>\n",
       "      <td>3.0</td>\n",
       "      <td>690.53</td>\n",
       "      <td>688.13</td>\n",
       "      <td>CLAY</td>\n",
       "      <td>...</td>\n",
       "      <td>UNK</td>\n",
       "      <td>1</td>\n",
       "      <td>720769.160247</td>\n",
       "      <td>6.095597e+06</td>\n",
       "      <td>clay</td>\n",
       "      <td></td>\n",
       "      <td>0.0</td>\n",
       "      <td>NaN</td>\n",
       "      <td>690.267090</td>\n",
       "      <td>688.267090</td>\n",
       "    </tr>\n",
       "    <tr>\n",
       "      <th>3</th>\n",
       "      <td>3297127</td>\n",
       "      <td>10037380</td>\n",
       "      <td>GW058949.1.1</td>\n",
       "      <td>691.43</td>\n",
       "      <td>UNK</td>\n",
       "      <td>5.0</td>\n",
       "      <td>7.0</td>\n",
       "      <td>686.23</td>\n",
       "      <td>684.13</td>\n",
       "      <td>SAND</td>\n",
       "      <td>...</td>\n",
       "      <td>UNK</td>\n",
       "      <td>1</td>\n",
       "      <td>720769.160247</td>\n",
       "      <td>6.095597e+06</td>\n",
       "      <td>sand</td>\n",
       "      <td>clay</td>\n",
       "      <td>1.0</td>\n",
       "      <td>0.0</td>\n",
       "      <td>686.267090</td>\n",
       "      <td>684.267090</td>\n",
       "    </tr>\n",
       "    <tr>\n",
       "      <th>4</th>\n",
       "      <td>3297180</td>\n",
       "      <td>10037380</td>\n",
       "      <td>GW058949.1.1</td>\n",
       "      <td>691.43</td>\n",
       "      <td>UNK</td>\n",
       "      <td>7.0</td>\n",
       "      <td>9.0</td>\n",
       "      <td>684.13</td>\n",
       "      <td>682.63</td>\n",
       "      <td>CLAY</td>\n",
       "      <td>...</td>\n",
       "      <td>UNK</td>\n",
       "      <td>1</td>\n",
       "      <td>720769.160247</td>\n",
       "      <td>6.095597e+06</td>\n",
       "      <td>clay</td>\n",
       "      <td></td>\n",
       "      <td>0.0</td>\n",
       "      <td>NaN</td>\n",
       "      <td>684.267090</td>\n",
       "      <td>682.267090</td>\n",
       "    </tr>\n",
       "    <tr>\n",
       "      <th>5</th>\n",
       "      <td>3302117</td>\n",
       "      <td>10037380</td>\n",
       "      <td>GW058949.1.1</td>\n",
       "      <td>691.43</td>\n",
       "      <td>UNK</td>\n",
       "      <td>11.0</td>\n",
       "      <td>39.0</td>\n",
       "      <td>680.43</td>\n",
       "      <td>652.73</td>\n",
       "      <td>CLAY</td>\n",
       "      <td>...</td>\n",
       "      <td>UNK</td>\n",
       "      <td>1</td>\n",
       "      <td>720769.160247</td>\n",
       "      <td>6.095597e+06</td>\n",
       "      <td>clay</td>\n",
       "      <td>shale</td>\n",
       "      <td>0.0</td>\n",
       "      <td>4.0</td>\n",
       "      <td>680.267090</td>\n",
       "      <td>652.267090</td>\n",
       "    </tr>\n",
       "    <tr>\n",
       "      <th>6</th>\n",
       "      <td>3302166</td>\n",
       "      <td>10037380</td>\n",
       "      <td>GW058949.1.1</td>\n",
       "      <td>691.43</td>\n",
       "      <td>UNK</td>\n",
       "      <td>39.0</td>\n",
       "      <td>56.0</td>\n",
       "      <td>652.73</td>\n",
       "      <td>635.43</td>\n",
       "      <td>SAND</td>\n",
       "      <td>...</td>\n",
       "      <td>UNK</td>\n",
       "      <td>1</td>\n",
       "      <td>720769.160247</td>\n",
       "      <td>6.095597e+06</td>\n",
       "      <td>sand</td>\n",
       "      <td></td>\n",
       "      <td>1.0</td>\n",
       "      <td>NaN</td>\n",
       "      <td>652.267090</td>\n",
       "      <td>635.267090</td>\n",
       "    </tr>\n",
       "    <tr>\n",
       "      <th>7</th>\n",
       "      <td>3302167</td>\n",
       "      <td>10037380</td>\n",
       "      <td>GW058949.1.1</td>\n",
       "      <td>691.43</td>\n",
       "      <td>UNK</td>\n",
       "      <td>56.0</td>\n",
       "      <td>57.0</td>\n",
       "      <td>635.43</td>\n",
       "      <td>634.43</td>\n",
       "      <td>CLAY</td>\n",
       "      <td>...</td>\n",
       "      <td>UNK</td>\n",
       "      <td>1</td>\n",
       "      <td>720769.160247</td>\n",
       "      <td>6.095597e+06</td>\n",
       "      <td>clay</td>\n",
       "      <td>shale</td>\n",
       "      <td>0.0</td>\n",
       "      <td>4.0</td>\n",
       "      <td>635.267090</td>\n",
       "      <td>634.267090</td>\n",
       "    </tr>\n",
       "    <tr>\n",
       "      <th>8</th>\n",
       "      <td>3302256</td>\n",
       "      <td>10037380</td>\n",
       "      <td>GW058949.1.1</td>\n",
       "      <td>691.43</td>\n",
       "      <td>UNK</td>\n",
       "      <td>3.0</td>\n",
       "      <td>5.0</td>\n",
       "      <td>688.13</td>\n",
       "      <td>686.23</td>\n",
       "      <td>SHLE</td>\n",
       "      <td>...</td>\n",
       "      <td>UNK</td>\n",
       "      <td>1</td>\n",
       "      <td>720769.160247</td>\n",
       "      <td>6.095597e+06</td>\n",
       "      <td>shale</td>\n",
       "      <td></td>\n",
       "      <td>4.0</td>\n",
       "      <td>NaN</td>\n",
       "      <td>688.267090</td>\n",
       "      <td>686.267090</td>\n",
       "    </tr>\n",
       "    <tr>\n",
       "      <th>9</th>\n",
       "      <td>3297085</td>\n",
       "      <td>10027294</td>\n",
       "      <td>GW058023.1.1</td>\n",
       "      <td>804.98</td>\n",
       "      <td>UNK</td>\n",
       "      <td>1.0</td>\n",
       "      <td>18.0</td>\n",
       "      <td>803.98</td>\n",
       "      <td>786.98</td>\n",
       "      <td>SLTE</td>\n",
       "      <td>...</td>\n",
       "      <td>UNK</td>\n",
       "      <td>1</td>\n",
       "      <td>716921.554268</td>\n",
       "      <td>6.100716e+06</td>\n",
       "      <td>slate</td>\n",
       "      <td></td>\n",
       "      <td>9.0</td>\n",
       "      <td>NaN</td>\n",
       "      <td>807.349976</td>\n",
       "      <td>790.349976</td>\n",
       "    </tr>\n",
       "  </tbody>\n",
       "</table>\n",
       "<p>10 rows × 22 columns</p>\n",
       "</div>"
      ],
      "text/plain": [
       "   OBJECTID    BoreID     HydroCode RefElev RefElevDesc  FromDepth  ToDepth  \\\n",
       "0   3297041  10037380  GW058949.1.1  691.43         UNK        9.0     11.0   \n",
       "1   3297109  10037380  GW058949.1.1  691.43         UNK        0.0      1.0   \n",
       "2   3297126  10037380  GW058949.1.1  691.43         UNK        1.0      3.0   \n",
       "3   3297127  10037380  GW058949.1.1  691.43         UNK        5.0      7.0   \n",
       "4   3297180  10037380  GW058949.1.1  691.43         UNK        7.0      9.0   \n",
       "5   3302117  10037380  GW058949.1.1  691.43         UNK       11.0     39.0   \n",
       "6   3302166  10037380  GW058949.1.1  691.43         UNK       39.0     56.0   \n",
       "7   3302167  10037380  GW058949.1.1  691.43         UNK       56.0     57.0   \n",
       "8   3302256  10037380  GW058949.1.1  691.43         UNK        3.0      5.0   \n",
       "9   3297085  10027294  GW058023.1.1  804.98         UNK        1.0     18.0   \n",
       "\n",
       "   TopElev  BottomElev MajorLithCode  ...  Source LogType        Easting  \\\n",
       "0   682.63      680.43          SHLE  ...     UNK       1  720769.160247   \n",
       "1   691.43      690.53          TPSL  ...     UNK       1  720769.160247   \n",
       "2   690.53      688.13          CLAY  ...     UNK       1  720769.160247   \n",
       "3   686.23      684.13          SAND  ...     UNK       1  720769.160247   \n",
       "4   684.13      682.63          CLAY  ...     UNK       1  720769.160247   \n",
       "5   680.43      652.73          CLAY  ...     UNK       1  720769.160247   \n",
       "6   652.73      635.43          SAND  ...     UNK       1  720769.160247   \n",
       "7   635.43      634.43          CLAY  ...     UNK       1  720769.160247   \n",
       "8   688.13      686.23          SHLE  ...     UNK       1  720769.160247   \n",
       "9   803.98      786.98          SLTE  ...     UNK       1  716921.554268   \n",
       "\n",
       "       Northing  Lithology_1  Lithology_2 Lithology_1_num Lithology_2_num  \\\n",
       "0  6.095597e+06        shale                          4.0             NaN   \n",
       "1  6.095597e+06      topsoil                          6.0             NaN   \n",
       "2  6.095597e+06         clay                          0.0             NaN   \n",
       "3  6.095597e+06         sand         clay             1.0             0.0   \n",
       "4  6.095597e+06         clay                          0.0             NaN   \n",
       "5  6.095597e+06         clay        shale             0.0             4.0   \n",
       "6  6.095597e+06         sand                          1.0             NaN   \n",
       "7  6.095597e+06         clay        shale             0.0             4.0   \n",
       "8  6.095597e+06        shale                          4.0             NaN   \n",
       "9  6.100716e+06        slate                          9.0             NaN   \n",
       "\n",
       "   Depth From (AHD)  Depth To (AHD)  \n",
       "0        682.267090      680.267090  \n",
       "1        691.267090      690.267090  \n",
       "2        690.267090      688.267090  \n",
       "3        686.267090      684.267090  \n",
       "4        684.267090      682.267090  \n",
       "5        680.267090      652.267090  \n",
       "6        652.267090      635.267090  \n",
       "7        635.267090      634.267090  \n",
       "8        688.267090      686.267090  \n",
       "9        807.349976      790.349976  \n",
       "\n",
       "[10 rows x 22 columns]"
      ]
     },
     "execution_count": 74,
     "metadata": {},
     "output_type": "execute_result"
    }
   ],
   "source": [
    "df.head(10)"
   ]
  },
  {
   "cell_type": "markdown",
   "metadata": {},
   "source": [
    "We need to define min and max heights on the Z axis for which we interoplate. We use the KNN algorithm with 10 neighbours. We should use a domain such that there are enough points for each height. Let's find visually heights with at least 10 records"
   ]
  },
  {
   "cell_type": "code",
   "execution_count": 75,
   "metadata": {},
   "outputs": [
    {
     "data": {
      "image/png": "[encoded data removed]",
      "text/plain": [
       "<Figure size 1080x360 with 2 Axes>"
      ]
     },
     "metadata": {
      "needs_background": "light"
     },
     "output_type": "display_data"
    }
   ],
   "source": [
    "n_bins=100\n",
    "p = df.hist(column=[DEPTH_FROM_AHD_COL,DEPTH_TO_AHD_COL], sharex=True, sharey=True, bins=n_bins, figsize=(15,5))\n",
    "for axes in p:\n",
    "    axes[0].set_yscale(\"log\", nonposy='clip')"
   ]
  },
  {
   "cell_type": "code",
   "execution_count": 76,
   "metadata": {},
   "outputs": [],
   "source": [
    "n_neighbours=10\n",
    "ahd_min=620\n",
    "ahd_max=830\n",
    "\n",
    "z_ahd_coords = np.arange(ahd_min,ahd_max,1)\n",
    "dim_x,dim_y = m[0].shape\n",
    "dim_z = len(z_ahd_coords)\n",
    "dims = (dim_x,dim_y,dim_z)"
   ]
  },
  {
   "cell_type": "code",
   "execution_count": 77,
   "metadata": {},
   "outputs": [],
   "source": [
    "lithology_3d_array=np.empty(dims)"
   ]
  },
  {
   "cell_type": "code",
   "execution_count": 78,
   "metadata": {},
   "outputs": [],
   "source": [
    "gi = GridInterpolation(easting_col=EASTING_COL, northing_col=NORTHING_COL)"
   ]
  },
  {
   "cell_type": "code",
   "execution_count": 79,
   "metadata": {},
   "outputs": [],
   "source": [
    "gi.interpolate_volume(lithology_3d_array, df, PRIMARY_LITHO_NUM_COL, z_ahd_coords, n_neighbours, m)"
   ]
  },
  {
   "cell_type": "code",
   "execution_count": 80,
   "metadata": {},
   "outputs": [
    {
     "data": {
      "text/plain": [
       "(180, 10)"
      ]
     },
     "execution_count": 80,
     "metadata": {},
     "output_type": "execute_result"
    }
   ],
   "source": [
    "# Burn DEM into grid\n",
    "z_index_for_ahd = z_index_for_ahd_functor(b=-ahd_min)\n",
    "# check that we get the expected indexes for an AHD height\n",
    "z_index_for_ahd(800), z_index_for_ahd(+630)"
   ]
  },
  {
   "cell_type": "code",
   "execution_count": 81,
   "metadata": {},
   "outputs": [
    {
     "data": {
      "text/plain": [
       "((151, 131), (151, 131), (151, 131, 210))"
      ]
     },
     "execution_count": 81,
     "metadata": {},
     "output_type": "execute_result"
    }
   ],
   "source": [
    "dem_array.shape, m[0].shape, lithology_3d_array.shape"
   ]
  },
  {
   "cell_type": "code",
   "execution_count": 82,
   "metadata": {},
   "outputs": [],
   "source": [
    "burn_volume(lithology_3d_array, dem_array, z_index_for_ahd, below=False)"
   ]
  },
  {
   "cell_type": "markdown",
   "metadata": {},
   "source": [
    "## 2D visualisations"
   ]
  },
  {
   "cell_type": "code",
   "execution_count": 83,
   "metadata": {},
   "outputs": [],
   "source": [
    "#lithologies =           ['clay',  'sand',      'gravel',    'granite', 'shale',  'silt',           'topsoil',      'loam',     'soil',    'slate',      'sandstone']\n",
    "lithology_color_names = ['olive', 'yellow', 'lightgrey',      'dimgray', 'teal',  'cornsilk',     'saddlebrown', 'rosybrown', 'chocolate', 'lightslategrey', 'gold']"
   ]
  },
  {
   "cell_type": "code",
   "execution_count": 84,
   "metadata": {},
   "outputs": [],
   "source": [
    "lithology_cmap = discrete_classes_colormap(lithology_color_names) # Later for exporting to RGB geotiffs??\n",
    "litho_legend_display_info = [(lithology_cmap[i], lithologies[i], lithology_color_names[i]) for i in range(len(lithologies))]"
   ]
  },
  {
   "cell_type": "code",
   "execution_count": 85,
   "metadata": {},
   "outputs": [
    {
     "data": {
      "image/png": "[encoded data removed]",
      "text/plain": [
       "<Figure size 576x360 with 1 Axes>"
      ]
     },
     "metadata": {
      "needs_background": "light"
     },
     "output_type": "display_data"
    }
   ],
   "source": [
    "litho_legend = legend_fig(litho_legend_display_info)"
   ]
  },
  {
   "cell_type": "code",
   "execution_count": 86,
   "metadata": {},
   "outputs": [],
   "source": [
    "cms = cartopy_color_settings(lithology_color_names)"
   ]
  },
  {
   "cell_type": "code",
   "execution_count": 87,
   "metadata": {},
   "outputs": [
    {
     "data": {
      "image/png": "[encoded data removed]",
      "text/plain": [
       "<Figure size 432x288 with 1 Axes>"
      ]
     },
     "metadata": {
      "needs_background": "light"
     },
     "output_type": "display_data"
    }
   ],
   "source": [
    "imgplot = plt.imshow(to_carto(lithology_3d_array[:, :, z_index_for_ahd(660)]), cmap=cms['cmap'])\n",
    "title = plt.title('Primary litho at +660mAHD')"
   ]
  },
  {
   "cell_type": "code",
   "execution_count": 88,
   "metadata": {},
   "outputs": [
    {
     "data": {
      "image/png": "[encoded data removed]",
      "text/plain": [
       "<Figure size 432x288 with 1 Axes>"
      ]
     },
     "metadata": {
      "needs_background": "light"
     },
     "output_type": "display_data"
    }
   ],
   "source": [
    "imgplot = plt.imshow(to_carto(lithology_3d_array[:, :, z_index_for_ahd(700)]), cmap=cms['cmap'])\n",
    "title = plt.title('Primary litho at +700mAHD')"
   ]
  },
  {
   "cell_type": "markdown",
   "metadata": {},
   "source": [
    "## 3D visualisation"
   ]
  },
  {
   "cell_type": "code",
   "execution_count": 89,
   "metadata": {},
   "outputs": [],
   "source": [
    "from ela.visual3d import *"
   ]
  },
  {
   "cell_type": "code",
   "execution_count": 90,
   "metadata": {},
   "outputs": [],
   "source": [
    "xx, yy = dem_array_data['mesh_xy']"
   ]
  },
  {
   "cell_type": "code",
   "execution_count": 91,
   "metadata": {},
   "outputs": [],
   "source": [
    "from mayavi import mlab"
   ]
  },
  {
   "cell_type": "code",
   "execution_count": 92,
   "metadata": {},
   "outputs": [],
   "source": [
    "vis_litho = LithologiesClassesVisual3d(lithologies, lithology_color_names, 'black')"
   ]
  },
  {
   "cell_type": "code",
   "execution_count": 93,
   "metadata": {},
   "outputs": [],
   "source": [
    "# TODO: problematic with this data - investigate\n",
    "# vis_litho.render_classes_planar(lithology_3d_array, 'Primary lithology')"
   ]
  },
  {
   "cell_type": "code",
   "execution_count": 94,
   "metadata": {},
   "outputs": [],
   "source": [
    "# vis_litho.render_class(lithology_3d_array, 0)"
   ]
  },
  {
   "cell_type": "markdown",
   "metadata": {},
   "source": [
    "ela has facilities to visualise overlaid information: DEM, classified bore logs, and volumes of interpolated lithologies. This is important to convey .\n",
    "\n",
    "First a bit of data filling for visual purposes, as NaN lithology class codes may cause issues."
   ]
  },
  {
   "cell_type": "code",
   "execution_count": 95,
   "metadata": {},
   "outputs": [],
   "source": [
    "df_infilled = df.fillna({PRIMARY_LITHO_NUM_COL: -1.0})\n",
    "# df_2 = df_1[(df_1[DEPTH_TO_AHD_COL] > (ahd_min-20))]"
   ]
  },
  {
   "cell_type": "code",
   "execution_count": 96,
   "metadata": {},
   "outputs": [],
   "source": [
    "# A factor to apply to Z coordinates, otherwise things would be squashed visually along the heights.\n",
    "# Would prefer a visual only scaling factor, but could not find a way to do so. \n",
    "Z_SCALING = 20.0"
   ]
  },
  {
   "cell_type": "code",
   "execution_count": 97,
   "metadata": {},
   "outputs": [],
   "source": [
    "z_coords = np.arange(ahd_min,ahd_max,1)"
   ]
  },
  {
   "cell_type": "code",
   "execution_count": 98,
   "metadata": {},
   "outputs": [],
   "source": [
    "overlay_vis_litho = LithologiesClassesOverlayVisual3d(lithologies, lithology_color_names, 'black', dem_array_data, z_coords, Z_SCALING, df_infilled, PRIMARY_LITHO_NUM_COL)"
   ]
  },
  {
   "cell_type": "code",
   "execution_count": 99,
   "metadata": {},
   "outputs": [],
   "source": [
    "def view_class(value):\n",
    "    f = overlay_vis_litho.view_overlay(value, lithology_3d_array)\n",
    "    return f"
   ]
  },
  {
   "cell_type": "code",
   "execution_count": 100,
   "metadata": {},
   "outputs": [],
   "source": [
    "# f = view_class(0.0)"
   ]
  },
  {
   "cell_type": "markdown",
   "metadata": {},
   "source": [
    "![3D Interpolated overlay primary lithology clay](img/3d_overlay_bungendore_clay_lithology.png)"
   ]
  },
  {
   "cell_type": "code",
   "execution_count": 101,
   "metadata": {},
   "outputs": [],
   "source": [
    "f = view_class(1.0)"
   ]
  },
  {
   "cell_type": "markdown",
   "metadata": {},
   "source": [
    "## Slicing and exporting as Geotiff\n",
    "\n",
    "The interpolated volume is naturally using AHD coordinates for height. We may want to slice data such that we have maps of lithologies at particular depths below ground level. `SliceOperation` is here for this.\n"
   ]
  },
  {
   "cell_type": "code",
   "execution_count": 102,
   "metadata": {},
   "outputs": [],
   "source": [
    "sops = SliceOperation(dem_array, z_index_for_ahd)"
   ]
  },
  {
   "cell_type": "code",
   "execution_count": 103,
   "metadata": {},
   "outputs": [],
   "source": [
    "depths = sops.from_ahd_to_depth_below_ground_level(lithology_3d_array, from_depth = 0, to_depth = 10)"
   ]
  },
  {
   "cell_type": "code",
   "execution_count": 104,
   "metadata": {},
   "outputs": [
    {
     "data": {
      "text/plain": [
       "(151, 131, 11)"
      ]
     },
     "execution_count": 104,
     "metadata": {},
     "output_type": "execute_result"
    }
   ],
   "source": [
    "depths.shape"
   ]
  },
  {
   "cell_type": "code",
   "execution_count": 105,
   "metadata": {},
   "outputs": [],
   "source": [
    "def plt_litho(depth_bgl):\n",
    "    imgplot = plt.imshow(to_carto(depths[:,:,10-depth_bgl]), cmap=cms['cmap'])\n",
    "    title = plt.title('Primary litho at %s m BGL'%depth_bgl)"
   ]
  },
  {
   "cell_type": "code",
   "execution_count": 106,
   "metadata": {},
   "outputs": [
    {
     "data": {
      "image/png": "[encoded data removed]",
      "text/plain": [
       "<Figure size 432x288 with 1 Axes>"
      ]
     },
     "metadata": {
      "needs_background": "light"
     },
     "output_type": "display_data"
    }
   ],
   "source": [
    "plt_litho(0)"
   ]
  },
  {
   "cell_type": "markdown",
   "metadata": {},
   "source": [
    "Although the DEM had no missing data, there are some areas with no interpolated lithology classification. These correspond to elevations where there were not enough records at a given AHD to interpolate from. "
   ]
  },
  {
   "cell_type": "code",
   "execution_count": 107,
   "metadata": {},
   "outputs": [
    {
     "data": {
      "image/png": "[encoded data removed]",
      "text/plain": [
       "<Figure size 432x288 with 1 Axes>"
      ]
     },
     "metadata": {
      "needs_background": "light"
     },
     "output_type": "display_data"
    }
   ],
   "source": [
    "plt_litho(10)"
   ]
  },
  {
   "cell_type": "markdown",
   "metadata": {},
   "source": [
    "'ela' includes facilities to export slices to the GeoTIFF format. Features are available through the `GeotiffExporter` class"
   ]
  },
  {
   "cell_type": "code",
   "execution_count": 108,
   "metadata": {},
   "outputs": [],
   "source": [
    "from rasterio.transform import from_origin\n",
    "transform = from_origin(x_min, y_max, grid_res, grid_res)"
   ]
  },
  {
   "cell_type": "code",
   "execution_count": 109,
   "metadata": {},
   "outputs": [],
   "source": [
    "from ela.io import GeotiffExporter\n",
    "ge = GeotiffExporter(bungendore_raster.crs, transform)"
   ]
  },
  {
   "cell_type": "code",
   "execution_count": 110,
   "metadata": {},
   "outputs": [],
   "source": [
    "litho_depth = to_carto(depths[:,:,0])\n",
    "lithology_cmap = discrete_classes_colormap(lithology_color_names)"
   ]
  },
  {
   "cell_type": "code",
   "execution_count": 111,
   "metadata": {},
   "outputs": [],
   "source": [
    "# ge.export_rgb_geotiff(litho_depth, '/home/xxxyyy/tmp/test.tif', lithology_cmap)"
   ]
  },
  {
   "cell_type": "markdown",
   "metadata": {},
   "source": [
    "The resulting file (RGB channels) should be visible from most explorer windows (Windows or Linux). Other functions export the georeference values.  "
   ]
  },
  {
   "cell_type": "code",
   "execution_count": null,
   "metadata": {},
   "outputs": [],
   "source": []
  }
 ],
 "metadata": {
  "kernelspec": {
   "display_name": "Py3 ela_doc",
   "language": "python",
   "name": "ela_doc"
  },
  "language_info": {
   "codemirror_mode": {
    "name": "ipython",
    "version": 3
   },
   "file_extension": ".py",
   "mimetype": "text/x-python",
   "name": "python",
   "nbconvert_exporter": "python",
   "pygments_lexer": "ipython3",
   "version": "3.7.3"
  }
 },
 "nbformat": 4,
 "nbformat_minor": 4
}
