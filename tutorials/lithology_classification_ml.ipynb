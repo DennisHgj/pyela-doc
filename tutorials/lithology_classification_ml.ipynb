{
 "cells": [
  {
   "cell_type": "markdown",
   "metadata": {},
   "source": [
    "# Lithology classification\n",
    "\n",
    "## Data\n",
    "\n",
    "This notebook uses data from the [Upper Condamine Catchment](http://www.bom.gov.au/qld/flood/brochures/condamine_balonne/map_upper.shtml) in the state of Queensland. The data is sourced from personal communication as a project output. It may be shared publicly and downloadable from this sample notebook in the future.\n",
    "\n",
    "![Upper Condamine catchment formations](img/Upper_Condamine_formations.png \"Upper Condamine catchment formations\")\n",
    "\n",
    "(Figure from [this paper](https://www.researchgate.net/figure/Upper-Condamine-catchment-Queensland-Australia-The-Marburg-Subgroup-consists-of_fig1_283184727))\n",
    "\n",
    "## Status\n",
    "\n",
    "As of May 2019 this present document is an output from exploratory work done during an internship by [Sudhir Gupta](https://github.com/Sudhir22).\n"
   ]
  },
  {
   "cell_type": "markdown",
   "metadata": {},
   "source": [
    "## Purpose\n",
    "\n",
    "This notebook compares the performance of two techniques for semi-automated classification . It also summarise work using ontologies for classification for cases where we do not have reliable training sets.\n"
   ]
  },
  {
   "cell_type": "markdown",
   "metadata": {},
   "source": [
    "## Importing python packages"
   ]
  },
  {
   "cell_type": "code",
   "execution_count": 1,
   "metadata": {
    "ExecuteTime": {
     "end_time": "2018-02-27T01:54:38.357642Z",
     "start_time": "2018-02-27T01:54:36.460827Z"
    },
    "init_cell": true
   },
   "outputs": [],
   "source": [
    "import os\n",
    "import sys\n",
    "import pandas as pd\n",
    "import numpy as np\n",
    "import seaborn as sn\n",
    "import matplotlib.pyplot as plt\n",
    "import rasterio\n",
    "from rasterio.plot import show\n",
    "import geopandas as gpd\n",
    "import pickle"
   ]
  },
  {
   "cell_type": "code",
   "execution_count": 2,
   "metadata": {},
   "outputs": [],
   "source": [
    "# Only True for co-dev of ela from this use case:\n",
    "ela_from_source = False\n",
    "ela_from_source = True"
   ]
  },
  {
   "cell_type": "code",
   "execution_count": 3,
   "metadata": {},
   "outputs": [],
   "source": [
    "if ela_from_source:\n",
    "    if ('ELA_SRC' in os.environ):\n",
    "        root_src_dir = os.environ['ELA_SRC']\n",
    "    elif sys.platform == 'win32':\n",
    "        root_src_dir = r'C:\\Users\\SUD011\\Documents\\pyela-sudhir'\n",
    "    else:\n",
    "        username = os.environ['USER']\n",
    "        root_src_dir = os.path.join('/home', username, 'src/github_jm/pyela')\n",
    "    pkg_src_dir = root_src_dir\n",
    "    sys.path.insert(0, pkg_src_dir)\n",
    "\n",
    "from ela.textproc import *\n",
    "from ela.utils import *\n",
    "from ela.classification import *\n",
    "from ela.visual import *"
   ]
  },
  {
   "cell_type": "code",
   "execution_count": 4,
   "metadata": {},
   "outputs": [],
   "source": [
    "import striplog\n",
    "from striplog import Lexicon"
   ]
  },
  {
   "cell_type": "code",
   "execution_count": 5,
   "metadata": {},
   "outputs": [],
   "source": [
    "if ('ELA_DATA' in os.environ):\n",
    "    data_path = os.environ['ELA_DATA']\n",
    "elif sys.platform == 'win32':\n",
    "    data_path = r'C:\\data\\Lithology'\n",
    "else:\n",
    "    username = os.environ['USER']\n",
    "    data_path = os.path.join('/home', username, 'data', 'Lithology')\n",
    "\n",
    "condamine_litho_dir = os.path.join(data_path,'Condamine')\n",
    "condamine_litho_xl = os.path.join(condamine_litho_dir, 'MASTER_CONDAMINE_Interpretation_all_combined_Jan2017.xlsx')\n",
    "condamine_litho_pkl = os.path.join(condamine_litho_dir, 'MASTER_CONDAMINE_Interpretation_all_combined_Jan2017.pkl')"
   ]
  },
  {
   "cell_type": "markdown",
   "metadata": {},
   "source": [
    "# Initial data exploration\n",
    "\n",
    "This first section deliberately covers some of the data discovery process for didactic purposes.\n",
    "\n",
    "## Useful resources\n",
    "\n",
    "Note that some of the terms used for classification are triangulated with [this description](https://www.bioregionalassessments.gov.au/assessments/21-22-data-analysis-clarence-moreton-bioregion/21211-lithological-and-stratigraphic-data)\n",
    "\n",
    "We cache the data in a pickle as it is faster to re-read:\n"
   ]
  },
  {
   "cell_type": "code",
   "execution_count": 6,
   "metadata": {},
   "outputs": [],
   "source": [
    "if not os.path.exists(condamine_litho_pkl):\n",
    "    train_data=pd.read_excel(condamine_litho_xl)\n",
    "    with open(condamine_litho_pkl, 'wb') as handle:\n",
    "        pickle.dump(train_data, handle, protocol=pickle.HIGHEST_PROTOCOL)\n",
    "else:\n",
    "    with open(condamine_litho_pkl, 'rb') as handle:\n",
    "        train_data = pickle.load(handle)"
   ]
  },
  {
   "cell_type": "code",
   "execution_count": 7,
   "metadata": {},
   "outputs": [
    {
     "data": {
      "text/html": [
       "<div>\n",
       "<style scoped>\n",
       "    .dataframe tbody tr th:only-of-type {\n",
       "        vertical-align: middle;\n",
       "    }\n",
       "\n",
       "    .dataframe tbody tr th {\n",
       "        vertical-align: top;\n",
       "    }\n",
       "\n",
       "    .dataframe thead th {\n",
       "        text-align: right;\n",
       "    }\n",
       "</style>\n",
       "<table border=\"1\" class=\"dataframe\">\n",
       "  <thead>\n",
       "    <tr style=\"text-align: right;\">\n",
       "      <th></th>\n",
       "      <th>RN</th>\n",
       "      <th>Type</th>\n",
       "      <th>EASTING</th>\n",
       "      <th>NORTHING</th>\n",
       "      <th>Lithology_original</th>\n",
       "      <th>Simplified_lithology</th>\n",
       "      <th>Simplified_lithology_stratigraphy</th>\n",
       "      <th>From</th>\n",
       "      <th>To</th>\n",
       "    </tr>\n",
       "  </thead>\n",
       "  <tbody>\n",
       "    <tr>\n",
       "      <th>0</th>\n",
       "      <td>202</td>\n",
       "      <td>new_bedrock_addition</td>\n",
       "      <td>385411.0</td>\n",
       "      <td>7014147.0</td>\n",
       "      <td>BROWN CLAY</td>\n",
       "      <td>BEDROCK</td>\n",
       "      <td>BEDROCK</td>\n",
       "      <td>0.00</td>\n",
       "      <td>10.67</td>\n",
       "    </tr>\n",
       "    <tr>\n",
       "      <th>1</th>\n",
       "      <td>202</td>\n",
       "      <td>new_bedrock_addition</td>\n",
       "      <td>385411.0</td>\n",
       "      <td>7014147.0</td>\n",
       "      <td>BROWN CLAY AND PIPE CLAY</td>\n",
       "      <td>BEDROCK</td>\n",
       "      <td>BEDROCK</td>\n",
       "      <td>10.67</td>\n",
       "      <td>24.38</td>\n",
       "    </tr>\n",
       "    <tr>\n",
       "      <th>2</th>\n",
       "      <td>202</td>\n",
       "      <td>new_bedrock_addition</td>\n",
       "      <td>385411.0</td>\n",
       "      <td>7014147.0</td>\n",
       "      <td>WHITE PIPE CLAY</td>\n",
       "      <td>BEDROCK</td>\n",
       "      <td>BEDROCK</td>\n",
       "      <td>24.38</td>\n",
       "      <td>26.82</td>\n",
       "    </tr>\n",
       "    <tr>\n",
       "      <th>3</th>\n",
       "      <td>202</td>\n",
       "      <td>new_bedrock_addition</td>\n",
       "      <td>385411.0</td>\n",
       "      <td>7014147.0</td>\n",
       "      <td>RED PIPE CLAY</td>\n",
       "      <td>BEDROCK</td>\n",
       "      <td>BEDROCK</td>\n",
       "      <td>26.82</td>\n",
       "      <td>31.70</td>\n",
       "    </tr>\n",
       "    <tr>\n",
       "      <th>4</th>\n",
       "      <td>202</td>\n",
       "      <td>new_bedrock_addition</td>\n",
       "      <td>385411.0</td>\n",
       "      <td>7014147.0</td>\n",
       "      <td>CLAY AND SAND</td>\n",
       "      <td>BEDROCK</td>\n",
       "      <td>BEDROCK</td>\n",
       "      <td>31.70</td>\n",
       "      <td>50.90</td>\n",
       "    </tr>\n",
       "  </tbody>\n",
       "</table>\n",
       "</div>"
      ],
      "text/plain": [
       "    RN                  Type   EASTING   NORTHING        Lithology_original  \\\n",
       "0  202  new_bedrock_addition  385411.0  7014147.0                BROWN CLAY   \n",
       "1  202  new_bedrock_addition  385411.0  7014147.0  BROWN CLAY AND PIPE CLAY   \n",
       "2  202  new_bedrock_addition  385411.0  7014147.0           WHITE PIPE CLAY   \n",
       "3  202  new_bedrock_addition  385411.0  7014147.0             RED PIPE CLAY   \n",
       "4  202  new_bedrock_addition  385411.0  7014147.0             CLAY AND SAND   \n",
       "\n",
       "  Simplified_lithology Simplified_lithology_stratigraphy   From     To  \n",
       "0              BEDROCK                           BEDROCK   0.00  10.67  \n",
       "1              BEDROCK                           BEDROCK  10.67  24.38  \n",
       "2              BEDROCK                           BEDROCK  24.38  26.82  \n",
       "3              BEDROCK                           BEDROCK  26.82  31.70  \n",
       "4              BEDROCK                           BEDROCK  31.70  50.90  "
      ]
     },
     "execution_count": 7,
     "metadata": {},
     "output_type": "execute_result"
    }
   ],
   "source": [
    "train_data.head()"
   ]
  },
  {
   "cell_type": "code",
   "execution_count": 8,
   "metadata": {},
   "outputs": [],
   "source": [
    "# train_data_unprocessed = train_data.copy()"
   ]
  },
  {
   "cell_type": "code",
   "execution_count": 9,
   "metadata": {},
   "outputs": [],
   "source": [
    "df = train_data\n",
    "LITHO_DESC_COL='Lithology_original'\n",
    "REGEX_LITHO_CLASS_COL='Regex_lithoclass'\n",
    "\n",
    "LITHO_CLASS_COL = 'Simplified_lithology'"
   ]
  },
  {
   "cell_type": "code",
   "execution_count": 10,
   "metadata": {},
   "outputs": [
    {
     "data": {
      "text/plain": [
       "{'ALLUVIUM',\n",
       " 'Alluvium',\n",
       " 'BASEMENT',\n",
       " 'BEDROCK',\n",
       " 'Basalt',\n",
       " 'Basement',\n",
       " 'Diorite',\n",
       " 'GRAVEL',\n",
       " 'Granite',\n",
       " 'Granodiorite',\n",
       " 'TERTIARY',\n",
       " 'Unknown',\n",
       " 'WEATHERING_HORIZON',\n",
       " 'Wrong_location'}"
      ]
     },
     "execution_count": 10,
     "metadata": {},
     "output_type": "execute_result"
    }
   ],
   "source": [
    "set(train_data[LITHO_CLASS_COL].values)"
   ]
  },
  {
   "cell_type": "markdown",
   "metadata": {},
   "source": [
    "We massage the column of simplified lithologies, resulting from a manual classification"
   ]
  },
  {
   "cell_type": "code",
   "execution_count": 11,
   "metadata": {},
   "outputs": [],
   "source": [
    "# This is not obvious from inspection of the the pandas  data frame, but there appears to be NaNs that cause headaches later on.\n",
    "vv = [x for x in df[LITHO_DESC_COL].values if not type(x) is str]"
   ]
  },
  {
   "cell_type": "code",
   "execution_count": 12,
   "metadata": {},
   "outputs": [],
   "source": [
    "vv = [type(x) is not str for x in df[LITHO_DESC_COL].values]"
   ]
  },
  {
   "cell_type": "code",
   "execution_count": 13,
   "metadata": {},
   "outputs": [
    {
     "data": {
      "text/html": [
       "<div>\n",
       "<style scoped>\n",
       "    .dataframe tbody tr th:only-of-type {\n",
       "        vertical-align: middle;\n",
       "    }\n",
       "\n",
       "    .dataframe tbody tr th {\n",
       "        vertical-align: top;\n",
       "    }\n",
       "\n",
       "    .dataframe thead th {\n",
       "        text-align: right;\n",
       "    }\n",
       "</style>\n",
       "<table border=\"1\" class=\"dataframe\">\n",
       "  <thead>\n",
       "    <tr style=\"text-align: right;\">\n",
       "      <th></th>\n",
       "      <th>RN</th>\n",
       "      <th>Type</th>\n",
       "      <th>EASTING</th>\n",
       "      <th>NORTHING</th>\n",
       "      <th>Lithology_original</th>\n",
       "      <th>Simplified_lithology</th>\n",
       "      <th>Simplified_lithology_stratigraphy</th>\n",
       "      <th>From</th>\n",
       "      <th>To</th>\n",
       "    </tr>\n",
       "  </thead>\n",
       "  <tbody>\n",
       "    <tr>\n",
       "      <th>12447</th>\n",
       "      <td>17920</td>\n",
       "      <td>Condamine_lockyer_add_April137</td>\n",
       "      <td>401022.0</td>\n",
       "      <td>6970291.0</td>\n",
       "      <td>NaN</td>\n",
       "      <td>BEDROCK</td>\n",
       "      <td>BEDROCK</td>\n",
       "      <td>89.31</td>\n",
       "      <td>91.44</td>\n",
       "    </tr>\n",
       "    <tr>\n",
       "      <th>72770</th>\n",
       "      <td>71240</td>\n",
       "      <td>Lockyer_upper</td>\n",
       "      <td>NaN</td>\n",
       "      <td>NaN</td>\n",
       "      <td>NaN</td>\n",
       "      <td>Basalt</td>\n",
       "      <td>Basalt</td>\n",
       "      <td>0.00</td>\n",
       "      <td>46.95</td>\n",
       "    </tr>\n",
       "    <tr>\n",
       "      <th>95698</th>\n",
       "      <td>87035</td>\n",
       "      <td>new_bedrock_addition</td>\n",
       "      <td>NaN</td>\n",
       "      <td>NaN</td>\n",
       "      <td>NaN</td>\n",
       "      <td>Unknown</td>\n",
       "      <td>Unknown</td>\n",
       "      <td>73.00</td>\n",
       "      <td>97.00</td>\n",
       "    </tr>\n",
       "  </tbody>\n",
       "</table>\n",
       "</div>"
      ],
      "text/plain": [
       "          RN                            Type   EASTING   NORTHING  \\\n",
       "12447  17920  Condamine_lockyer_add_April137  401022.0  6970291.0   \n",
       "72770  71240                   Lockyer_upper       NaN        NaN   \n",
       "95698  87035            new_bedrock_addition       NaN        NaN   \n",
       "\n",
       "      Lithology_original Simplified_lithology  \\\n",
       "12447                NaN              BEDROCK   \n",
       "72770                NaN               Basalt   \n",
       "95698                NaN              Unknown   \n",
       "\n",
       "      Simplified_lithology_stratigraphy   From     To  \n",
       "12447                           BEDROCK  89.31  91.44  \n",
       "72770                            Basalt   0.00  46.95  \n",
       "95698                           Unknown  73.00  97.00  "
      ]
     },
     "execution_count": 13,
     "metadata": {},
     "output_type": "execute_result"
    }
   ],
   "source": [
    "df.loc[np.array(vv)].head()"
   ]
  },
  {
   "cell_type": "code",
   "execution_count": 14,
   "metadata": {},
   "outputs": [],
   "source": [
    "train_data[LITHO_CLASS_COL] = train_data[LITHO_CLASS_COL].replace(np.nan,'',regex=True)\n",
    "train_data[LITHO_CLASS_COL] = train_data[LITHO_CLASS_COL].str.lower()\n",
    "train_data[LITHO_DESC_COL] = train_data[LITHO_DESC_COL].replace(np.nan,'',regex=True)\n",
    "train_data[LITHO_DESC_COL] = train_data[LITHO_DESC_COL].str.lower()"
   ]
  },
  {
   "cell_type": "code",
   "execution_count": 15,
   "metadata": {},
   "outputs": [
    {
     "name": "stdout",
     "output_type": "stream",
     "text": [
      "CPU times: user 447 ms, sys: 718 µs, total: 448 ms\n",
      "Wall time: 446 ms\n"
     ]
    }
   ],
   "source": [
    "%%time\n",
    "\n",
    "# Not obvious upfront but noticed that there are terms where dots and slashes prevent tokenization and lithology term detection. \n",
    "train_data[LITHO_DESC_COL] = v_replace_punctuations(train_data[LITHO_DESC_COL].values)"
   ]
  },
  {
   "cell_type": "code",
   "execution_count": 16,
   "metadata": {},
   "outputs": [
    {
     "data": {
      "text/html": [
       "<div>\n",
       "<style scoped>\n",
       "    .dataframe tbody tr th:only-of-type {\n",
       "        vertical-align: middle;\n",
       "    }\n",
       "\n",
       "    .dataframe tbody tr th {\n",
       "        vertical-align: top;\n",
       "    }\n",
       "\n",
       "    .dataframe thead th {\n",
       "        text-align: right;\n",
       "    }\n",
       "</style>\n",
       "<table border=\"1\" class=\"dataframe\">\n",
       "  <thead>\n",
       "    <tr style=\"text-align: right;\">\n",
       "      <th></th>\n",
       "      <th>RN</th>\n",
       "      <th>Type</th>\n",
       "      <th>EASTING</th>\n",
       "      <th>NORTHING</th>\n",
       "      <th>Lithology_original</th>\n",
       "      <th>Simplified_lithology</th>\n",
       "      <th>Simplified_lithology_stratigraphy</th>\n",
       "      <th>From</th>\n",
       "      <th>To</th>\n",
       "    </tr>\n",
       "  </thead>\n",
       "  <tbody>\n",
       "    <tr>\n",
       "      <th>0</th>\n",
       "      <td>202</td>\n",
       "      <td>new_bedrock_addition</td>\n",
       "      <td>385411.0</td>\n",
       "      <td>7014147.0</td>\n",
       "      <td>brown clay</td>\n",
       "      <td>bedrock</td>\n",
       "      <td>BEDROCK</td>\n",
       "      <td>0.00</td>\n",
       "      <td>10.67</td>\n",
       "    </tr>\n",
       "    <tr>\n",
       "      <th>1</th>\n",
       "      <td>202</td>\n",
       "      <td>new_bedrock_addition</td>\n",
       "      <td>385411.0</td>\n",
       "      <td>7014147.0</td>\n",
       "      <td>brown clay and pipe clay</td>\n",
       "      <td>bedrock</td>\n",
       "      <td>BEDROCK</td>\n",
       "      <td>10.67</td>\n",
       "      <td>24.38</td>\n",
       "    </tr>\n",
       "    <tr>\n",
       "      <th>2</th>\n",
       "      <td>202</td>\n",
       "      <td>new_bedrock_addition</td>\n",
       "      <td>385411.0</td>\n",
       "      <td>7014147.0</td>\n",
       "      <td>white pipe clay</td>\n",
       "      <td>bedrock</td>\n",
       "      <td>BEDROCK</td>\n",
       "      <td>24.38</td>\n",
       "      <td>26.82</td>\n",
       "    </tr>\n",
       "    <tr>\n",
       "      <th>3</th>\n",
       "      <td>202</td>\n",
       "      <td>new_bedrock_addition</td>\n",
       "      <td>385411.0</td>\n",
       "      <td>7014147.0</td>\n",
       "      <td>red pipe clay</td>\n",
       "      <td>bedrock</td>\n",
       "      <td>BEDROCK</td>\n",
       "      <td>26.82</td>\n",
       "      <td>31.70</td>\n",
       "    </tr>\n",
       "    <tr>\n",
       "      <th>4</th>\n",
       "      <td>202</td>\n",
       "      <td>new_bedrock_addition</td>\n",
       "      <td>385411.0</td>\n",
       "      <td>7014147.0</td>\n",
       "      <td>clay and sand</td>\n",
       "      <td>bedrock</td>\n",
       "      <td>BEDROCK</td>\n",
       "      <td>31.70</td>\n",
       "      <td>50.90</td>\n",
       "    </tr>\n",
       "  </tbody>\n",
       "</table>\n",
       "</div>"
      ],
      "text/plain": [
       "    RN                  Type   EASTING   NORTHING        Lithology_original  \\\n",
       "0  202  new_bedrock_addition  385411.0  7014147.0                brown clay   \n",
       "1  202  new_bedrock_addition  385411.0  7014147.0  brown clay and pipe clay   \n",
       "2  202  new_bedrock_addition  385411.0  7014147.0           white pipe clay   \n",
       "3  202  new_bedrock_addition  385411.0  7014147.0             red pipe clay   \n",
       "4  202  new_bedrock_addition  385411.0  7014147.0             clay and sand   \n",
       "\n",
       "  Simplified_lithology Simplified_lithology_stratigraphy   From     To  \n",
       "0              bedrock                           BEDROCK   0.00  10.67  \n",
       "1              bedrock                           BEDROCK  10.67  24.38  \n",
       "2              bedrock                           BEDROCK  24.38  26.82  \n",
       "3              bedrock                           BEDROCK  26.82  31.70  \n",
       "4              bedrock                           BEDROCK  31.70  50.90  "
      ]
     },
     "execution_count": 16,
     "metadata": {},
     "output_type": "execute_result"
    }
   ],
   "source": [
    "train_data.head()"
   ]
  },
  {
   "cell_type": "code",
   "execution_count": 17,
   "metadata": {},
   "outputs": [
    {
     "data": {
      "text/html": [
       "<div>\n",
       "<style scoped>\n",
       "    .dataframe tbody tr th:only-of-type {\n",
       "        vertical-align: middle;\n",
       "    }\n",
       "\n",
       "    .dataframe tbody tr th {\n",
       "        vertical-align: top;\n",
       "    }\n",
       "\n",
       "    .dataframe thead th {\n",
       "        text-align: right;\n",
       "    }\n",
       "</style>\n",
       "<table border=\"1\" class=\"dataframe\">\n",
       "  <thead>\n",
       "    <tr style=\"text-align: right;\">\n",
       "      <th></th>\n",
       "      <th>token</th>\n",
       "      <th>frequency</th>\n",
       "    </tr>\n",
       "  </thead>\n",
       "  <tbody>\n",
       "    <tr>\n",
       "      <th>0</th>\n",
       "      <td>basalt</td>\n",
       "      <td>71529</td>\n",
       "    </tr>\n",
       "    <tr>\n",
       "      <th>1</th>\n",
       "      <td>bedrock</td>\n",
       "      <td>52051</td>\n",
       "    </tr>\n",
       "    <tr>\n",
       "      <th>2</th>\n",
       "      <td>alluvium</td>\n",
       "      <td>49863</td>\n",
       "    </tr>\n",
       "    <tr>\n",
       "      <th>3</th>\n",
       "      <td>unknown</td>\n",
       "      <td>3761</td>\n",
       "    </tr>\n",
       "    <tr>\n",
       "      <th>4</th>\n",
       "      <td>granite</td>\n",
       "      <td>227</td>\n",
       "    </tr>\n",
       "    <tr>\n",
       "      <th>5</th>\n",
       "      <td>wrong_location</td>\n",
       "      <td>146</td>\n",
       "    </tr>\n",
       "    <tr>\n",
       "      <th>6</th>\n",
       "      <td>granodiorite</td>\n",
       "      <td>20</td>\n",
       "    </tr>\n",
       "    <tr>\n",
       "      <th>7</th>\n",
       "      <td>diorite</td>\n",
       "      <td>18</td>\n",
       "    </tr>\n",
       "    <tr>\n",
       "      <th>8</th>\n",
       "      <td>weathering_horizon</td>\n",
       "      <td>8</td>\n",
       "    </tr>\n",
       "    <tr>\n",
       "      <th>9</th>\n",
       "      <td>tertiary</td>\n",
       "      <td>4</td>\n",
       "    </tr>\n",
       "    <tr>\n",
       "      <th>10</th>\n",
       "      <td>gravel</td>\n",
       "      <td>3</td>\n",
       "    </tr>\n",
       "    <tr>\n",
       "      <th>11</th>\n",
       "      <td>basement</td>\n",
       "      <td>2</td>\n",
       "    </tr>\n",
       "  </tbody>\n",
       "</table>\n",
       "</div>"
      ],
      "text/plain": [
       "                 token  frequency\n",
       "0               basalt      71529\n",
       "1              bedrock      52051\n",
       "2             alluvium      49863\n",
       "3              unknown       3761\n",
       "4              granite        227\n",
       "5       wrong_location        146\n",
       "6         granodiorite         20\n",
       "7              diorite         18\n",
       "8   weathering_horizon          8\n",
       "9             tertiary          4\n",
       "10              gravel          3\n",
       "11            basement          2"
      ]
     },
     "execution_count": 17,
     "metadata": {},
     "output_type": "execute_result"
    }
   ],
   "source": [
    "token_freq(train_data[LITHO_CLASS_COL].values, 50)"
   ]
  },
  {
   "cell_type": "markdown",
   "metadata": {},
   "source": [
    "Given the low frequency of some of the classes, we remap them to one of the three main classes:"
   ]
  },
  {
   "cell_type": "code",
   "execution_count": 18,
   "metadata": {},
   "outputs": [],
   "source": [
    "train_data[LITHO_CLASS_COL] = train_data[LITHO_CLASS_COL].replace('granite|granodiorite|diorite|basement','bedrock',regex=True)\n",
    "train_data[LITHO_CLASS_COL] = train_data[LITHO_CLASS_COL].replace('gravel','alluvium',regex=False)\n",
    "train_data[LITHO_CLASS_COL] = train_data[LITHO_CLASS_COL].replace('wrong_location|weathering_horizon|tertiary','unknown',regex=True)"
   ]
  },
  {
   "cell_type": "code",
   "execution_count": 19,
   "metadata": {},
   "outputs": [
    {
     "data": {
      "text/html": [
       "<div>\n",
       "<style scoped>\n",
       "    .dataframe tbody tr th:only-of-type {\n",
       "        vertical-align: middle;\n",
       "    }\n",
       "\n",
       "    .dataframe tbody tr th {\n",
       "        vertical-align: top;\n",
       "    }\n",
       "\n",
       "    .dataframe thead th {\n",
       "        text-align: right;\n",
       "    }\n",
       "</style>\n",
       "<table border=\"1\" class=\"dataframe\">\n",
       "  <thead>\n",
       "    <tr style=\"text-align: right;\">\n",
       "      <th></th>\n",
       "      <th>token</th>\n",
       "      <th>frequency</th>\n",
       "    </tr>\n",
       "  </thead>\n",
       "  <tbody>\n",
       "    <tr>\n",
       "      <th>0</th>\n",
       "      <td>basalt</td>\n",
       "      <td>71529</td>\n",
       "    </tr>\n",
       "    <tr>\n",
       "      <th>1</th>\n",
       "      <td>bedrock</td>\n",
       "      <td>52318</td>\n",
       "    </tr>\n",
       "    <tr>\n",
       "      <th>2</th>\n",
       "      <td>alluvium</td>\n",
       "      <td>49866</td>\n",
       "    </tr>\n",
       "    <tr>\n",
       "      <th>3</th>\n",
       "      <td>unknown</td>\n",
       "      <td>3919</td>\n",
       "    </tr>\n",
       "  </tbody>\n",
       "</table>\n",
       "</div>"
      ],
      "text/plain": [
       "      token  frequency\n",
       "0    basalt      71529\n",
       "1   bedrock      52318\n",
       "2  alluvium      49866\n",
       "3   unknown       3919"
      ]
     },
     "execution_count": 19,
     "metadata": {},
     "output_type": "execute_result"
    }
   ],
   "source": [
    "token_freq(train_data[LITHO_CLASS_COL].values, 50)"
   ]
  },
  {
   "cell_type": "code",
   "execution_count": 20,
   "metadata": {},
   "outputs": [
    {
     "data": {
      "text/plain": [
       "0                  brown clay\n",
       "1    brown clay and pipe clay\n",
       "2             white pipe clay\n",
       "3               red pipe clay\n",
       "4               clay and sand\n",
       "Name: Lithology_original, dtype: object"
      ]
     },
     "execution_count": 20,
     "metadata": {},
     "output_type": "execute_result"
    }
   ],
   "source": [
    "descs = df[LITHO_DESC_COL]\n",
    "descs = descs.reset_index()\n",
    "descs = descs[LITHO_DESC_COL]\n",
    "descs.head()"
   ]
  },
  {
   "cell_type": "code",
   "execution_count": 21,
   "metadata": {},
   "outputs": [],
   "source": [
    "lex = Lexicon.default()"
   ]
  },
  {
   "cell_type": "code",
   "execution_count": 22,
   "metadata": {},
   "outputs": [
    {
     "name": "stdout",
     "output_type": "stream",
     "text": [
      "CPU times: user 2min 6s, sys: 63.3 ms, total: 2min 6s\n",
      "Wall time: 2min 6s\n"
     ]
    }
   ],
   "source": [
    "%%time\n",
    "expanded_descs = descs.apply(lex.expand_abbreviations)\n",
    "y = expanded_descs.values"
   ]
  },
  {
   "cell_type": "code",
   "execution_count": 23,
   "metadata": {},
   "outputs": [],
   "source": [
    "train_data[LITHO_DESC_COL] = expanded_descs"
   ]
  },
  {
   "cell_type": "markdown",
   "metadata": {},
   "source": [
    "We flatten the corpus of words to get the most frequend terms as a guide for which lithology classes we can define."
   ]
  },
  {
   "cell_type": "code",
   "execution_count": 24,
   "metadata": {},
   "outputs": [
    {
     "name": "stdout",
     "output_type": "stream",
     "text": [
      "CPU times: user 11.5 s, sys: 52 ms, total: 11.5 s\n",
      "Wall time: 11.5 s\n"
     ]
    },
    {
     "data": {
      "text/plain": [
       "8683"
      ]
     },
     "execution_count": 24,
     "metadata": {},
     "output_type": "execute_result"
    }
   ],
   "source": [
    "%%time\n",
    "flat = flat_list_tokens(y)\n",
    "len(set(flat))"
   ]
  },
  {
   "cell_type": "code",
   "execution_count": 25,
   "metadata": {},
   "outputs": [],
   "source": [
    "df_most_common= token_freq(flat, 50)"
   ]
  },
  {
   "cell_type": "code",
   "execution_count": 26,
   "metadata": {},
   "outputs": [
    {
     "data": {
      "text/html": [
       "<div>\n",
       "<style scoped>\n",
       "    .dataframe tbody tr th:only-of-type {\n",
       "        vertical-align: middle;\n",
       "    }\n",
       "\n",
       "    .dataframe tbody tr th {\n",
       "        vertical-align: top;\n",
       "    }\n",
       "\n",
       "    .dataframe thead th {\n",
       "        text-align: right;\n",
       "    }\n",
       "</style>\n",
       "<table border=\"1\" class=\"dataframe\">\n",
       "  <thead>\n",
       "    <tr style=\"text-align: right;\">\n",
       "      <th></th>\n",
       "      <th>token</th>\n",
       "      <th>frequency</th>\n",
       "    </tr>\n",
       "  </thead>\n",
       "  <tbody>\n",
       "    <tr>\n",
       "      <th>0</th>\n",
       "      <td>basalt</td>\n",
       "      <td>52596</td>\n",
       "    </tr>\n",
       "    <tr>\n",
       "      <th>1</th>\n",
       "      <td>clay</td>\n",
       "      <td>43979</td>\n",
       "    </tr>\n",
       "    <tr>\n",
       "      <th>2</th>\n",
       "      <td>brown</td>\n",
       "      <td>25723</td>\n",
       "    </tr>\n",
       "    <tr>\n",
       "      <th>3</th>\n",
       "      <td>sandstone</td>\n",
       "      <td>22196</td>\n",
       "    </tr>\n",
       "    <tr>\n",
       "      <th>4</th>\n",
       "      <td>grey</td>\n",
       "      <td>18225</td>\n",
       "    </tr>\n",
       "    <tr>\n",
       "      <th>5</th>\n",
       "      <td>sand</td>\n",
       "      <td>17938</td>\n",
       "    </tr>\n",
       "    <tr>\n",
       "      <th>6</th>\n",
       "      <td>shale</td>\n",
       "      <td>11616</td>\n",
       "    </tr>\n",
       "    <tr>\n",
       "      <th>7</th>\n",
       "      <td>soil</td>\n",
       "      <td>11286</td>\n",
       "    </tr>\n",
       "    <tr>\n",
       "      <th>8</th>\n",
       "      <td>wb</td>\n",
       "      <td>10925</td>\n",
       "    </tr>\n",
       "    <tr>\n",
       "      <th>9</th>\n",
       "      <td>honeycomb</td>\n",
       "      <td>10863</td>\n",
       "    </tr>\n",
       "    <tr>\n",
       "      <th>10</th>\n",
       "      <td>gravel</td>\n",
       "      <td>10736</td>\n",
       "    </tr>\n",
       "    <tr>\n",
       "      <th>11</th>\n",
       "      <td>sandy</td>\n",
       "      <td>9010</td>\n",
       "    </tr>\n",
       "    <tr>\n",
       "      <th>12</th>\n",
       "      <td>red</td>\n",
       "      <td>8021</td>\n",
       "    </tr>\n",
       "    <tr>\n",
       "      <th>13</th>\n",
       "      <td>coal</td>\n",
       "      <td>7551</td>\n",
       "    </tr>\n",
       "    <tr>\n",
       "      <th>14</th>\n",
       "      <td>file</td>\n",
       "      <td>6667</td>\n",
       "    </tr>\n",
       "    <tr>\n",
       "      <th>15</th>\n",
       "      <td>white</td>\n",
       "      <td>6262</td>\n",
       "    </tr>\n",
       "    <tr>\n",
       "      <th>16</th>\n",
       "      <td>decomposed</td>\n",
       "      <td>5382</td>\n",
       "    </tr>\n",
       "    <tr>\n",
       "      <th>17</th>\n",
       "      <td>black</td>\n",
       "      <td>5361</td>\n",
       "    </tr>\n",
       "    <tr>\n",
       "      <th>18</th>\n",
       "      <td>coarse</td>\n",
       "      <td>5222</td>\n",
       "    </tr>\n",
       "    <tr>\n",
       "      <th>19</th>\n",
       "      <td>weathered</td>\n",
       "      <td>5096</td>\n",
       "    </tr>\n",
       "    <tr>\n",
       "      <th>20</th>\n",
       "      <td>hard</td>\n",
       "      <td>5086</td>\n",
       "    </tr>\n",
       "    <tr>\n",
       "      <th>21</th>\n",
       "      <td>bands</td>\n",
       "      <td>4856</td>\n",
       "    </tr>\n",
       "    <tr>\n",
       "      <th>22</th>\n",
       "      <td>water</td>\n",
       "      <td>4657</td>\n",
       "    </tr>\n",
       "    <tr>\n",
       "      <th>23</th>\n",
       "      <td>driller</td>\n",
       "      <td>4617</td>\n",
       "    </tr>\n",
       "    <tr>\n",
       "      <th>24</th>\n",
       "      <td>blue</td>\n",
       "      <td>4578</td>\n",
       "    </tr>\n",
       "    <tr>\n",
       "      <th>25</th>\n",
       "      <td>fine</td>\n",
       "      <td>4479</td>\n",
       "    </tr>\n",
       "    <tr>\n",
       "      <th>26</th>\n",
       "      <td>0</td>\n",
       "      <td>4190</td>\n",
       "    </tr>\n",
       "    <tr>\n",
       "      <th>27</th>\n",
       "      <td>yellow</td>\n",
       "      <td>3948</td>\n",
       "    </tr>\n",
       "    <tr>\n",
       "      <th>28</th>\n",
       "      <td>medium</td>\n",
       "      <td>3858</td>\n",
       "    </tr>\n",
       "    <tr>\n",
       "      <th>29</th>\n",
       "      <td>well</td>\n",
       "      <td>3801</td>\n",
       "    </tr>\n",
       "    <tr>\n",
       "      <th>30</th>\n",
       "      <td>fractured</td>\n",
       "      <td>3551</td>\n",
       "    </tr>\n",
       "    <tr>\n",
       "      <th>31</th>\n",
       "      <td>rock</td>\n",
       "      <td>3057</td>\n",
       "    </tr>\n",
       "    <tr>\n",
       "      <th>32</th>\n",
       "      <td>met</td>\n",
       "      <td>3005</td>\n",
       "    </tr>\n",
       "    <tr>\n",
       "      <th>33</th>\n",
       "      <td>date</td>\n",
       "      <td>2877</td>\n",
       "    </tr>\n",
       "    <tr>\n",
       "      <th>34</th>\n",
       "      <td>top</td>\n",
       "      <td>2727</td>\n",
       "    </tr>\n",
       "    <tr>\n",
       "      <th>35</th>\n",
       "      <td>swl</td>\n",
       "      <td>2579</td>\n",
       "    </tr>\n",
       "    <tr>\n",
       "      <th>36</th>\n",
       "      <td>soft</td>\n",
       "      <td>2364</td>\n",
       "    </tr>\n",
       "    <tr>\n",
       "      <th>37</th>\n",
       "      <td>cased</td>\n",
       "      <td>2341</td>\n",
       "    </tr>\n",
       "    <tr>\n",
       "      <th>38</th>\n",
       "      <td>supply</td>\n",
       "      <td>2337</td>\n",
       "    </tr>\n",
       "    <tr>\n",
       "      <th>39</th>\n",
       "      <td>lower</td>\n",
       "      <td>2205</td>\n",
       "    </tr>\n",
       "    <tr>\n",
       "      <th>40</th>\n",
       "      <td>silty</td>\n",
       "      <td>2119</td>\n",
       "    </tr>\n",
       "    <tr>\n",
       "      <th>41</th>\n",
       "      <td>limestone</td>\n",
       "      <td>2011</td>\n",
       "    </tr>\n",
       "    <tr>\n",
       "      <th>42</th>\n",
       "      <td>small</td>\n",
       "      <td>1989</td>\n",
       "    </tr>\n",
       "    <tr>\n",
       "      <th>43</th>\n",
       "      <td>mudstone</td>\n",
       "      <td>1986</td>\n",
       "    </tr>\n",
       "    <tr>\n",
       "      <th>44</th>\n",
       "      <td>clays</td>\n",
       "      <td>1971</td>\n",
       "    </tr>\n",
       "    <tr>\n",
       "      <th>45</th>\n",
       "      <td>drilled</td>\n",
       "      <td>1948</td>\n",
       "    </tr>\n",
       "    <tr>\n",
       "      <th>46</th>\n",
       "      <td>lps</td>\n",
       "      <td>1885</td>\n",
       "    </tr>\n",
       "    <tr>\n",
       "      <th>47</th>\n",
       "      <td>1</td>\n",
       "      <td>1817</td>\n",
       "    </tr>\n",
       "    <tr>\n",
       "      <th>48</th>\n",
       "      <td>clayey</td>\n",
       "      <td>1731</td>\n",
       "    </tr>\n",
       "    <tr>\n",
       "      <th>49</th>\n",
       "      <td>topsoil</td>\n",
       "      <td>1729</td>\n",
       "    </tr>\n",
       "  </tbody>\n",
       "</table>\n",
       "</div>"
      ],
      "text/plain": [
       "         token  frequency\n",
       "0       basalt      52596\n",
       "1         clay      43979\n",
       "2        brown      25723\n",
       "3    sandstone      22196\n",
       "4         grey      18225\n",
       "5         sand      17938\n",
       "6        shale      11616\n",
       "7         soil      11286\n",
       "8           wb      10925\n",
       "9    honeycomb      10863\n",
       "10      gravel      10736\n",
       "11       sandy       9010\n",
       "12         red       8021\n",
       "13        coal       7551\n",
       "14        file       6667\n",
       "15       white       6262\n",
       "16  decomposed       5382\n",
       "17       black       5361\n",
       "18      coarse       5222\n",
       "19   weathered       5096\n",
       "20        hard       5086\n",
       "21       bands       4856\n",
       "22       water       4657\n",
       "23     driller       4617\n",
       "24        blue       4578\n",
       "25        fine       4479\n",
       "26           0       4190\n",
       "27      yellow       3948\n",
       "28      medium       3858\n",
       "29        well       3801\n",
       "30   fractured       3551\n",
       "31        rock       3057\n",
       "32         met       3005\n",
       "33        date       2877\n",
       "34         top       2727\n",
       "35         swl       2579\n",
       "36        soft       2364\n",
       "37       cased       2341\n",
       "38      supply       2337\n",
       "39       lower       2205\n",
       "40       silty       2119\n",
       "41   limestone       2011\n",
       "42       small       1989\n",
       "43    mudstone       1986\n",
       "44       clays       1971\n",
       "45     drilled       1948\n",
       "46         lps       1885\n",
       "47           1       1817\n",
       "48      clayey       1731\n",
       "49     topsoil       1729"
      ]
     },
     "execution_count": 26,
     "metadata": {},
     "output_type": "execute_result"
    }
   ],
   "source": [
    "df_most_common"
   ]
  },
  {
   "cell_type": "code",
   "execution_count": 27,
   "metadata": {},
   "outputs": [
    {
     "data": {
      "text/plain": [
       "<matplotlib.axes._subplots.AxesSubplot at 0x7f10d52aceb8>"
      ]
     },
     "execution_count": 27,
     "metadata": {},
     "output_type": "execute_result"
    },
    {
     "data": {
      "image/png": "[encoded data removed]",
      "text/plain": [
       "<Figure size 1080x720 with 1 Axes>"
      ]
     },
     "metadata": {
      "needs_background": "light"
     },
     "output_type": "display_data"
    }
   ],
   "source": [
    "plot_freq(df_most_common)"
   ]
  },
  {
   "cell_type": "code",
   "execution_count": 28,
   "metadata": {},
   "outputs": [],
   "source": [
    "condamine_litho_cleaned_pkl = os.path.join(condamine_litho_dir, 'condamine_litho_cleaned.pkl')\n",
    "\n",
    "if not os.path.exists(condamine_litho_cleaned_pkl):\n",
    "    with open(condamine_litho_cleaned_pkl, 'wb') as handle:\n",
    "        pickle.dump(train_data, handle, protocol=pickle.HIGHEST_PROTOCOL)\n",
    "else:\n",
    "    with open(condamine_litho_cleaned_pkl, 'rb') as handle:\n",
    "        train_data = pickle.load(handle)\n",
    "        y = train_data[LITHO_DESC_COL]\n",
    "        \n",
    "        "
   ]
  },
  {
   "cell_type": "code",
   "execution_count": 29,
   "metadata": {},
   "outputs": [],
   "source": [
    "y = train_data[LITHO_DESC_COL]"
   ]
  },
  {
   "cell_type": "markdown",
   "metadata": {},
   "source": [
    "# Defining lithology classes\n",
    "\n",
    "Starting with the three terms we want to end up with, we can also add the most frequent terms observed in the corpus.\n"
   ]
  },
  {
   "cell_type": "code",
   "execution_count": 30,
   "metadata": {},
   "outputs": [],
   "source": [
    "lithologies = ['alluvium', 'basalt', 'bedrock', 'clay', 'sandstone','sand','shale','soil','honeycomb','gravel','coal','gravel','silt','soil','rock', 'limestone', 'metal']\n",
    "# see https://www.bioregionalassessments.gov.au/assessments/21-22-data-analysis-clarence-moreton-bioregion/21211-lithological-and-stratigraphic-data\n",
    "# for 'metal' or 'blue metal'\n",
    "any_litho_markers_re = r'alluvium|sand|clay|ston|shale|basa|silt|soil|honey|coal|gravel|rock|mud|metal'\n",
    "\n",
    "regex = re.compile(any_litho_markers_re)\n",
    "\n",
    "lithologies_dict = dict([(x,x) for x in lithologies])\n",
    "lithologies_dict['sands'] = 'sand'\n",
    "lithologies_dict['basalts'] = 'basalt'\n",
    "lithologies_dict['clays'] = 'clay'\n",
    "lithologies_dict['shales'] = 'shale'\n",
    "lithologies_dict['claystone'] = 'clay'\n",
    "lithologies_dict['siltstone'] = 'silt'\n",
    "lithologies_dict['mudstone'] = 'silt' # ??\n",
    "lithologies_dict['capstone'] = 'limestone' # ??\n",
    "lithologies_dict['ironstone'] = 'sandstone' # ??\n",
    "lithologies_dict['topsoil'] = 'soil' # ??\n",
    "\n",
    "lithologies_adjective_dict = {\n",
    "    'sandy' :  'sand',\n",
    "    'clayey' :  'clay',\n",
    "    'clayish' :  'clay',\n",
    "    'shaley' :  'shale',\n",
    "    'silty' :  'silt',\n",
    "    'gravelly' :  'gravel'\n",
    "}"
   ]
  },
  {
   "cell_type": "code",
   "execution_count": 31,
   "metadata": {},
   "outputs": [
    {
     "name": "stdout",
     "output_type": "stream",
     "text": [
      "CPU times: user 10.2 s, sys: 24 ms, total: 10.2 s\n",
      "Wall time: 10.2 s\n"
     ]
    }
   ],
   "source": [
    "%%time\n",
    "v_tokens = v_word_tokenize(y)"
   ]
  },
  {
   "cell_type": "code",
   "execution_count": 32,
   "metadata": {},
   "outputs": [
    {
     "name": "stdout",
     "output_type": "stream",
     "text": [
      "CPU times: user 352 ms, sys: 2 µs, total: 352 ms\n",
      "Wall time: 351 ms\n"
     ]
    }
   ],
   "source": [
    "%%time\n",
    "vt = v_find_litho_markers(v_tokens, regex=regex)"
   ]
  },
  {
   "cell_type": "code",
   "execution_count": 33,
   "metadata": {},
   "outputs": [
    {
     "name": "stdout",
     "output_type": "stream",
     "text": [
      "There are 4454 entries with no marker, 173178 entries with at least one, 44648 with at least two\n"
     ]
    }
   ],
   "source": [
    "zero_mark = len([x for x in vt if len(x) == 0 ])\n",
    "at_least_one_mark = len([x for x in vt if len(x) >= 1])\n",
    "at_least_two_mark = len([x for x in vt if len(x) >= 2])\n",
    "print('There are %s entries with no marker, %s entries with at least one, %s with at least two'%(zero_mark,at_least_one_mark,at_least_two_mark))"
   ]
  },
  {
   "cell_type": "markdown",
   "metadata": {},
   "source": [
    "# Testing the regular expression model on the Condamine dataset\n",
    "\n",
    "We have one first pass at classifying into one of the three target classes."
   ]
  },
  {
   "cell_type": "code",
   "execution_count": 34,
   "metadata": {},
   "outputs": [],
   "source": [
    "prim_litho = [find_primary_lithology(x, lithologies_dict) for x in vt]"
   ]
  },
  {
   "cell_type": "code",
   "execution_count": 35,
   "metadata": {},
   "outputs": [
    {
     "data": {
      "text/plain": [
       "<matplotlib.axes._subplots.AxesSubplot at 0x7f10d39bac88>"
      ]
     },
     "execution_count": 35,
     "metadata": {},
     "output_type": "execute_result"
    },
    {
     "data": {
      "image/png": "[encoded data removed]",
      "text/plain": [
       "<Figure size 1080x720 with 1 Axes>"
      ]
     },
     "metadata": {
      "needs_background": "light"
     },
     "output_type": "display_data"
    }
   ],
   "source": [
    "n = len(set(prim_litho))\n",
    "plot_freq(token_freq(prim_litho, n_most_common = n))"
   ]
  },
  {
   "cell_type": "markdown",
   "metadata": {},
   "source": [
    "We define a map of classes down to alluvium, bedrock, basalt or unknown.\n",
    "\n",
    "We will do a bit of \"snooping\" on the labelled data; this is not ideal but is necessary to validate some classification assumptions.\n",
    "\n",
    "Given the a priori classification of primary lithologies, what proportions of labels do we have for each primary lithologhy?\n",
    "\n"
   ]
  },
  {
   "cell_type": "code",
   "execution_count": 36,
   "metadata": {},
   "outputs": [],
   "source": [
    "tmp_df = pd.DataFrame({ LITHO_CLASS_COL: train_data[LITHO_CLASS_COL], REGEX_LITHO_CLASS_COL: prim_litho, LITHO_DESC_COL: descs})"
   ]
  },
  {
   "cell_type": "code",
   "execution_count": 37,
   "metadata": {},
   "outputs": [],
   "source": [
    "def class_freq_for_lithology(litho_name):\n",
    "    blah = tmp_df.loc[tmp_df[REGEX_LITHO_CLASS_COL] == litho_name]\n",
    "    return token_freq(blah[LITHO_CLASS_COL].values, 50)"
   ]
  },
  {
   "cell_type": "code",
   "execution_count": 38,
   "metadata": {},
   "outputs": [
    {
     "data": {
      "text/html": [
       "<div>\n",
       "<style scoped>\n",
       "    .dataframe tbody tr th:only-of-type {\n",
       "        vertical-align: middle;\n",
       "    }\n",
       "\n",
       "    .dataframe tbody tr th {\n",
       "        vertical-align: top;\n",
       "    }\n",
       "\n",
       "    .dataframe thead th {\n",
       "        text-align: right;\n",
       "    }\n",
       "</style>\n",
       "<table border=\"1\" class=\"dataframe\">\n",
       "  <thead>\n",
       "    <tr style=\"text-align: right;\">\n",
       "      <th></th>\n",
       "      <th>token</th>\n",
       "      <th>frequency</th>\n",
       "    </tr>\n",
       "  </thead>\n",
       "  <tbody>\n",
       "    <tr>\n",
       "      <th>0</th>\n",
       "      <td>alluvium</td>\n",
       "      <td>24163</td>\n",
       "    </tr>\n",
       "    <tr>\n",
       "      <th>1</th>\n",
       "      <td>bedrock</td>\n",
       "      <td>8597</td>\n",
       "    </tr>\n",
       "    <tr>\n",
       "      <th>2</th>\n",
       "      <td>basalt</td>\n",
       "      <td>7672</td>\n",
       "    </tr>\n",
       "    <tr>\n",
       "      <th>3</th>\n",
       "      <td>unknown</td>\n",
       "      <td>1396</td>\n",
       "    </tr>\n",
       "  </tbody>\n",
       "</table>\n",
       "</div>"
      ],
      "text/plain": [
       "      token  frequency\n",
       "0  alluvium      24163\n",
       "1   bedrock       8597\n",
       "2    basalt       7672\n",
       "3   unknown       1396"
      ]
     },
     "execution_count": 38,
     "metadata": {},
     "output_type": "execute_result"
    }
   ],
   "source": [
    "class_freq_for_lithology('clay')"
   ]
  },
  {
   "cell_type": "code",
   "execution_count": 39,
   "metadata": {},
   "outputs": [
    {
     "data": {
      "text/html": [
       "<div>\n",
       "<style scoped>\n",
       "    .dataframe tbody tr th:only-of-type {\n",
       "        vertical-align: middle;\n",
       "    }\n",
       "\n",
       "    .dataframe tbody tr th {\n",
       "        vertical-align: top;\n",
       "    }\n",
       "\n",
       "    .dataframe thead th {\n",
       "        text-align: right;\n",
       "    }\n",
       "</style>\n",
       "<table border=\"1\" class=\"dataframe\">\n",
       "  <thead>\n",
       "    <tr style=\"text-align: right;\">\n",
       "      <th></th>\n",
       "      <th>token</th>\n",
       "      <th>frequency</th>\n",
       "    </tr>\n",
       "  </thead>\n",
       "  <tbody>\n",
       "    <tr>\n",
       "      <th>0</th>\n",
       "      <td>alluvium</td>\n",
       "      <td>13921</td>\n",
       "    </tr>\n",
       "    <tr>\n",
       "      <th>1</th>\n",
       "      <td>bedrock</td>\n",
       "      <td>1492</td>\n",
       "    </tr>\n",
       "    <tr>\n",
       "      <th>2</th>\n",
       "      <td>unknown</td>\n",
       "      <td>422</td>\n",
       "    </tr>\n",
       "    <tr>\n",
       "      <th>3</th>\n",
       "      <td>basalt</td>\n",
       "      <td>112</td>\n",
       "    </tr>\n",
       "  </tbody>\n",
       "</table>\n",
       "</div>"
      ],
      "text/plain": [
       "      token  frequency\n",
       "0  alluvium      13921\n",
       "1   bedrock       1492\n",
       "2   unknown        422\n",
       "3    basalt        112"
      ]
     },
     "execution_count": 39,
     "metadata": {},
     "output_type": "execute_result"
    }
   ],
   "source": [
    "class_freq_for_lithology('sand')"
   ]
  },
  {
   "cell_type": "code",
   "execution_count": 40,
   "metadata": {},
   "outputs": [
    {
     "data": {
      "text/html": [
       "<div>\n",
       "<style scoped>\n",
       "    .dataframe tbody tr th:only-of-type {\n",
       "        vertical-align: middle;\n",
       "    }\n",
       "\n",
       "    .dataframe tbody tr th {\n",
       "        vertical-align: top;\n",
       "    }\n",
       "\n",
       "    .dataframe thead th {\n",
       "        text-align: right;\n",
       "    }\n",
       "</style>\n",
       "<table border=\"1\" class=\"dataframe\">\n",
       "  <thead>\n",
       "    <tr style=\"text-align: right;\">\n",
       "      <th></th>\n",
       "      <th>token</th>\n",
       "      <th>frequency</th>\n",
       "    </tr>\n",
       "  </thead>\n",
       "  <tbody>\n",
       "    <tr>\n",
       "      <th>0</th>\n",
       "      <td>alluvium</td>\n",
       "      <td>5601</td>\n",
       "    </tr>\n",
       "    <tr>\n",
       "      <th>1</th>\n",
       "      <td>basalt</td>\n",
       "      <td>5343</td>\n",
       "    </tr>\n",
       "    <tr>\n",
       "      <th>2</th>\n",
       "      <td>bedrock</td>\n",
       "      <td>1548</td>\n",
       "    </tr>\n",
       "    <tr>\n",
       "      <th>3</th>\n",
       "      <td>unknown</td>\n",
       "      <td>344</td>\n",
       "    </tr>\n",
       "  </tbody>\n",
       "</table>\n",
       "</div>"
      ],
      "text/plain": [
       "      token  frequency\n",
       "0  alluvium       5601\n",
       "1    basalt       5343\n",
       "2   bedrock       1548\n",
       "3   unknown        344"
      ]
     },
     "execution_count": 40,
     "metadata": {},
     "output_type": "execute_result"
    }
   ],
   "source": [
    "class_freq_for_lithology('soil')"
   ]
  },
  {
   "cell_type": "code",
   "execution_count": 41,
   "metadata": {},
   "outputs": [
    {
     "data": {
      "text/html": [
       "<div>\n",
       "<style scoped>\n",
       "    .dataframe tbody tr th:only-of-type {\n",
       "        vertical-align: middle;\n",
       "    }\n",
       "\n",
       "    .dataframe tbody tr th {\n",
       "        vertical-align: top;\n",
       "    }\n",
       "\n",
       "    .dataframe thead th {\n",
       "        text-align: right;\n",
       "    }\n",
       "</style>\n",
       "<table border=\"1\" class=\"dataframe\">\n",
       "  <thead>\n",
       "    <tr style=\"text-align: right;\">\n",
       "      <th></th>\n",
       "      <th>token</th>\n",
       "      <th>frequency</th>\n",
       "    </tr>\n",
       "  </thead>\n",
       "  <tbody>\n",
       "    <tr>\n",
       "      <th>0</th>\n",
       "      <td>basalt</td>\n",
       "      <td>10589</td>\n",
       "    </tr>\n",
       "    <tr>\n",
       "      <th>1</th>\n",
       "      <td>bedrock</td>\n",
       "      <td>12</td>\n",
       "    </tr>\n",
       "    <tr>\n",
       "      <th>2</th>\n",
       "      <td>alluvium</td>\n",
       "      <td>12</td>\n",
       "    </tr>\n",
       "    <tr>\n",
       "      <th>3</th>\n",
       "      <td>unknown</td>\n",
       "      <td>11</td>\n",
       "    </tr>\n",
       "  </tbody>\n",
       "</table>\n",
       "</div>"
      ],
      "text/plain": [
       "      token  frequency\n",
       "0    basalt      10589\n",
       "1   bedrock         12\n",
       "2  alluvium         12\n",
       "3   unknown         11"
      ]
     },
     "execution_count": 41,
     "metadata": {},
     "output_type": "execute_result"
    }
   ],
   "source": [
    "class_freq_for_lithology('honeycomb')"
   ]
  },
  {
   "cell_type": "code",
   "execution_count": 42,
   "metadata": {},
   "outputs": [
    {
     "data": {
      "text/html": [
       "<div>\n",
       "<style scoped>\n",
       "    .dataframe tbody tr th:only-of-type {\n",
       "        vertical-align: middle;\n",
       "    }\n",
       "\n",
       "    .dataframe tbody tr th {\n",
       "        vertical-align: top;\n",
       "    }\n",
       "\n",
       "    .dataframe thead th {\n",
       "        text-align: right;\n",
       "    }\n",
       "</style>\n",
       "<table border=\"1\" class=\"dataframe\">\n",
       "  <thead>\n",
       "    <tr style=\"text-align: right;\">\n",
       "      <th></th>\n",
       "      <th>token</th>\n",
       "      <th>frequency</th>\n",
       "    </tr>\n",
       "  </thead>\n",
       "  <tbody>\n",
       "    <tr>\n",
       "      <th>0</th>\n",
       "      <td>bedrock</td>\n",
       "      <td>9345</td>\n",
       "    </tr>\n",
       "    <tr>\n",
       "      <th>1</th>\n",
       "      <td>basalt</td>\n",
       "      <td>430</td>\n",
       "    </tr>\n",
       "    <tr>\n",
       "      <th>2</th>\n",
       "      <td>unknown</td>\n",
       "      <td>71</td>\n",
       "    </tr>\n",
       "    <tr>\n",
       "      <th>3</th>\n",
       "      <td>alluvium</td>\n",
       "      <td>10</td>\n",
       "    </tr>\n",
       "  </tbody>\n",
       "</table>\n",
       "</div>"
      ],
      "text/plain": [
       "      token  frequency\n",
       "0   bedrock       9345\n",
       "1    basalt        430\n",
       "2   unknown         71\n",
       "3  alluvium         10"
      ]
     },
     "execution_count": 42,
     "metadata": {},
     "output_type": "execute_result"
    }
   ],
   "source": [
    "class_freq_for_lithology('shale')"
   ]
  },
  {
   "cell_type": "code",
   "execution_count": 43,
   "metadata": {},
   "outputs": [
    {
     "data": {
      "text/html": [
       "<div>\n",
       "<style scoped>\n",
       "    .dataframe tbody tr th:only-of-type {\n",
       "        vertical-align: middle;\n",
       "    }\n",
       "\n",
       "    .dataframe tbody tr th {\n",
       "        vertical-align: top;\n",
       "    }\n",
       "\n",
       "    .dataframe thead th {\n",
       "        text-align: right;\n",
       "    }\n",
       "</style>\n",
       "<table border=\"1\" class=\"dataframe\">\n",
       "  <thead>\n",
       "    <tr style=\"text-align: right;\">\n",
       "      <th></th>\n",
       "      <th>token</th>\n",
       "      <th>frequency</th>\n",
       "    </tr>\n",
       "  </thead>\n",
       "  <tbody>\n",
       "    <tr>\n",
       "      <th>0</th>\n",
       "      <td>bedrock</td>\n",
       "      <td>4968</td>\n",
       "    </tr>\n",
       "    <tr>\n",
       "      <th>1</th>\n",
       "      <td>basalt</td>\n",
       "      <td>628</td>\n",
       "    </tr>\n",
       "    <tr>\n",
       "      <th>2</th>\n",
       "      <td>alluvium</td>\n",
       "      <td>63</td>\n",
       "    </tr>\n",
       "    <tr>\n",
       "      <th>3</th>\n",
       "      <td>unknown</td>\n",
       "      <td>29</td>\n",
       "    </tr>\n",
       "  </tbody>\n",
       "</table>\n",
       "</div>"
      ],
      "text/plain": [
       "      token  frequency\n",
       "0   bedrock       4968\n",
       "1    basalt        628\n",
       "2  alluvium         63\n",
       "3   unknown         29"
      ]
     },
     "execution_count": 43,
     "metadata": {},
     "output_type": "execute_result"
    }
   ],
   "source": [
    "class_freq_for_lithology('coal')"
   ]
  },
  {
   "cell_type": "code",
   "execution_count": 44,
   "metadata": {},
   "outputs": [
    {
     "data": {
      "text/html": [
       "<div>\n",
       "<style scoped>\n",
       "    .dataframe tbody tr th:only-of-type {\n",
       "        vertical-align: middle;\n",
       "    }\n",
       "\n",
       "    .dataframe tbody tr th {\n",
       "        vertical-align: top;\n",
       "    }\n",
       "\n",
       "    .dataframe thead th {\n",
       "        text-align: right;\n",
       "    }\n",
       "</style>\n",
       "<table border=\"1\" class=\"dataframe\">\n",
       "  <thead>\n",
       "    <tr style=\"text-align: right;\">\n",
       "      <th></th>\n",
       "      <th>token</th>\n",
       "      <th>frequency</th>\n",
       "    </tr>\n",
       "  </thead>\n",
       "  <tbody>\n",
       "    <tr>\n",
       "      <th>0</th>\n",
       "      <td>alluvium</td>\n",
       "      <td>3193</td>\n",
       "    </tr>\n",
       "    <tr>\n",
       "      <th>1</th>\n",
       "      <td>basalt</td>\n",
       "      <td>599</td>\n",
       "    </tr>\n",
       "    <tr>\n",
       "      <th>2</th>\n",
       "      <td>bedrock</td>\n",
       "      <td>415</td>\n",
       "    </tr>\n",
       "    <tr>\n",
       "      <th>3</th>\n",
       "      <td>unknown</td>\n",
       "      <td>126</td>\n",
       "    </tr>\n",
       "  </tbody>\n",
       "</table>\n",
       "</div>"
      ],
      "text/plain": [
       "      token  frequency\n",
       "0  alluvium       3193\n",
       "1    basalt        599\n",
       "2   bedrock        415\n",
       "3   unknown        126"
      ]
     },
     "execution_count": 44,
     "metadata": {},
     "output_type": "execute_result"
    }
   ],
   "source": [
    "class_freq_for_lithology('gravel')"
   ]
  },
  {
   "cell_type": "code",
   "execution_count": 45,
   "metadata": {},
   "outputs": [
    {
     "data": {
      "text/html": [
       "<div>\n",
       "<style scoped>\n",
       "    .dataframe tbody tr th:only-of-type {\n",
       "        vertical-align: middle;\n",
       "    }\n",
       "\n",
       "    .dataframe tbody tr th {\n",
       "        vertical-align: top;\n",
       "    }\n",
       "\n",
       "    .dataframe thead th {\n",
       "        text-align: right;\n",
       "    }\n",
       "</style>\n",
       "<table border=\"1\" class=\"dataframe\">\n",
       "  <thead>\n",
       "    <tr style=\"text-align: right;\">\n",
       "      <th></th>\n",
       "      <th>token</th>\n",
       "      <th>frequency</th>\n",
       "    </tr>\n",
       "  </thead>\n",
       "  <tbody>\n",
       "    <tr>\n",
       "      <th>0</th>\n",
       "      <td>bedrock</td>\n",
       "      <td>2992</td>\n",
       "    </tr>\n",
       "    <tr>\n",
       "      <th>1</th>\n",
       "      <td>alluvium</td>\n",
       "      <td>370</td>\n",
       "    </tr>\n",
       "    <tr>\n",
       "      <th>2</th>\n",
       "      <td>basalt</td>\n",
       "      <td>97</td>\n",
       "    </tr>\n",
       "    <tr>\n",
       "      <th>3</th>\n",
       "      <td>unknown</td>\n",
       "      <td>25</td>\n",
       "    </tr>\n",
       "  </tbody>\n",
       "</table>\n",
       "</div>"
      ],
      "text/plain": [
       "      token  frequency\n",
       "0   bedrock       2992\n",
       "1  alluvium        370\n",
       "2    basalt         97\n",
       "3   unknown         25"
      ]
     },
     "execution_count": 45,
     "metadata": {},
     "output_type": "execute_result"
    }
   ],
   "source": [
    "class_freq_for_lithology('silt')"
   ]
  },
  {
   "cell_type": "markdown",
   "metadata": {},
   "source": [
    "We define a map from primary lithology terms to the simplified lithologies we have in the labelled data set. \n",
    "Note that to some extent there is some \"snooping\" on the labelled data, above, though we think justifiable in the context using regular expression.  "
   ]
  },
  {
   "cell_type": "code",
   "execution_count": 46,
   "metadata": {},
   "outputs": [],
   "source": [
    "lithology_map={\n",
    "    'alluvium' :  'alluvium',\n",
    "    'bedrock' :  'bedrock',\n",
    "    'basalt' :  'basalt',\n",
    "    'metal' :  'basalt',\n",
    "    'honeycomb' :  'basalt',\n",
    "    'clay' :  'alluvium',\n",
    "    'coal' :  'bedrock', \n",
    "    'sandstone' :  'bedrock',\n",
    "    'sand' :  'alluvium',\n",
    "    '' :  'unknown',\n",
    "    'soil' :  'alluvium',\n",
    "    'shale': 'bedrock',\n",
    "    'gravel': 'alluvium',\n",
    "    'silt' : 'bedrock',\n",
    "    'rock' : 'bedrock',\n",
    "    'limestone' : 'alluvium'\n",
    "}"
   ]
  },
  {
   "cell_type": "code",
   "execution_count": 47,
   "metadata": {},
   "outputs": [],
   "source": [
    "final_prim_litho=list()\n",
    "for x in prim_litho:\n",
    "    final_prim_litho.append(lithology_map[x])\n"
   ]
  },
  {
   "cell_type": "code",
   "execution_count": 48,
   "metadata": {},
   "outputs": [
    {
     "data": {
      "text/html": [
       "<div>\n",
       "<style scoped>\n",
       "    .dataframe tbody tr th:only-of-type {\n",
       "        vertical-align: middle;\n",
       "    }\n",
       "\n",
       "    .dataframe tbody tr th {\n",
       "        vertical-align: top;\n",
       "    }\n",
       "\n",
       "    .dataframe thead th {\n",
       "        text-align: right;\n",
       "    }\n",
       "</style>\n",
       "<table border=\"1\" class=\"dataframe\">\n",
       "  <thead>\n",
       "    <tr style=\"text-align: right;\">\n",
       "      <th></th>\n",
       "      <th>token</th>\n",
       "      <th>frequency</th>\n",
       "    </tr>\n",
       "  </thead>\n",
       "  <tbody>\n",
       "    <tr>\n",
       "      <th>0</th>\n",
       "      <td>alluvium</td>\n",
       "      <td>75521</td>\n",
       "    </tr>\n",
       "    <tr>\n",
       "      <th>1</th>\n",
       "      <td>basalt</td>\n",
       "      <td>53592</td>\n",
       "    </tr>\n",
       "    <tr>\n",
       "      <th>2</th>\n",
       "      <td>bedrock</td>\n",
       "      <td>42425</td>\n",
       "    </tr>\n",
       "    <tr>\n",
       "      <th>3</th>\n",
       "      <td>unknown</td>\n",
       "      <td>6094</td>\n",
       "    </tr>\n",
       "  </tbody>\n",
       "</table>\n",
       "</div>"
      ],
      "text/plain": [
       "      token  frequency\n",
       "0  alluvium      75521\n",
       "1    basalt      53592\n",
       "2   bedrock      42425\n",
       "3   unknown       6094"
      ]
     },
     "execution_count": 48,
     "metadata": {},
     "output_type": "execute_result"
    }
   ],
   "source": [
    "token_freq(final_prim_litho)"
   ]
  },
  {
   "cell_type": "code",
   "execution_count": 49,
   "metadata": {},
   "outputs": [],
   "source": [
    "simplified_lithology=train_data[LITHO_CLASS_COL].values"
   ]
  },
  {
   "cell_type": "code",
   "execution_count": 50,
   "metadata": {},
   "outputs": [],
   "source": [
    "def get_accuracy(modelled, expected):\n",
    "    matches = np.equal(modelled, expected)\n",
    "    return np.count_nonzero(matches)/len(matches)"
   ]
  },
  {
   "cell_type": "code",
   "execution_count": 51,
   "metadata": {},
   "outputs": [
    {
     "name": "stdout",
     "output_type": "stream",
     "text": [
      "Accuracy of regex for classifying primary lithologies:  0.7876452441001621\n"
     ]
    }
   ],
   "source": [
    "print(\"Accuracy of regex for classifying primary lithologies: \", get_accuracy(final_prim_litho, simplified_lithology))"
   ]
  },
  {
   "cell_type": "markdown",
   "metadata": {},
   "source": [
    "Let's check what lithology descriptions led to an 'unknown' classification to see whether we are missing something"
   ]
  },
  {
   "cell_type": "code",
   "execution_count": 52,
   "metadata": {},
   "outputs": [],
   "source": [
    "tmp_df = pd.DataFrame({ LITHO_CLASS_COL: train_data[LITHO_CLASS_COL], REGEX_LITHO_CLASS_COL: final_prim_litho, LITHO_DESC_COL: descs})"
   ]
  },
  {
   "cell_type": "code",
   "execution_count": 53,
   "metadata": {},
   "outputs": [
    {
     "data": {
      "text/html": [
       "<div>\n",
       "<style scoped>\n",
       "    .dataframe tbody tr th:only-of-type {\n",
       "        vertical-align: middle;\n",
       "    }\n",
       "\n",
       "    .dataframe tbody tr th {\n",
       "        vertical-align: top;\n",
       "    }\n",
       "\n",
       "    .dataframe thead th {\n",
       "        text-align: right;\n",
       "    }\n",
       "</style>\n",
       "<table border=\"1\" class=\"dataframe\">\n",
       "  <thead>\n",
       "    <tr style=\"text-align: right;\">\n",
       "      <th></th>\n",
       "      <th>Simplified_lithology</th>\n",
       "      <th>Regex_lithoclass</th>\n",
       "      <th>Lithology_original</th>\n",
       "    </tr>\n",
       "  </thead>\n",
       "  <tbody>\n",
       "    <tr>\n",
       "      <th>139413</th>\n",
       "      <td>bedrock</td>\n",
       "      <td>unknown</td>\n",
       "      <td>brown stone</td>\n",
       "    </tr>\n",
       "    <tr>\n",
       "      <th>77563</th>\n",
       "      <td>alluvium</td>\n",
       "      <td>unknown</td>\n",
       "      <td>sandy loam</td>\n",
       "    </tr>\n",
       "    <tr>\n",
       "      <th>156662</th>\n",
       "      <td>basalt</td>\n",
       "      <td>unknown</td>\n",
       "      <td>decomposed</td>\n",
       "    </tr>\n",
       "    <tr>\n",
       "      <th>36417</th>\n",
       "      <td>basalt</td>\n",
       "      <td>unknown</td>\n",
       "      <td>volcanic ash</td>\n",
       "    </tr>\n",
       "    <tr>\n",
       "      <th>16643</th>\n",
       "      <td>alluvium</td>\n",
       "      <td>unknown</td>\n",
       "      <td>dark brown loam</td>\n",
       "    </tr>\n",
       "    <tr>\n",
       "      <th>3397</th>\n",
       "      <td>alluvium</td>\n",
       "      <td>unknown</td>\n",
       "      <td>file t1267  drilled prior 1962</td>\n",
       "    </tr>\n",
       "    <tr>\n",
       "      <th>123438</th>\n",
       "      <td>unknown</td>\n",
       "      <td>unknown</td>\n",
       "      <td>light grey granite</td>\n",
       "    </tr>\n",
       "    <tr>\n",
       "      <th>97225</th>\n",
       "      <td>bedrock</td>\n",
       "      <td>unknown</td>\n",
       "      <td>grey sanbdstone</td>\n",
       "    </tr>\n",
       "    <tr>\n",
       "      <th>98391</th>\n",
       "      <td>basalt</td>\n",
       "      <td>unknown</td>\n",
       "      <td>green volc</td>\n",
       "    </tr>\n",
       "    <tr>\n",
       "      <th>125355</th>\n",
       "      <td>unknown</td>\n",
       "      <td>unknown</td>\n",
       "      <td>traprock</td>\n",
       "    </tr>\n",
       "    <tr>\n",
       "      <th>58037</th>\n",
       "      <td>bedrock</td>\n",
       "      <td>unknown</td>\n",
       "      <td>sandy loam  file t 2810</td>\n",
       "    </tr>\n",
       "    <tr>\n",
       "      <th>89762</th>\n",
       "      <td>basalt</td>\n",
       "      <td>unknown</td>\n",
       "      <td>sandy loam</td>\n",
       "    </tr>\n",
       "    <tr>\n",
       "      <th>97227</th>\n",
       "      <td>alluvium</td>\n",
       "      <td>unknown</td>\n",
       "      <td>brown</td>\n",
       "    </tr>\n",
       "    <tr>\n",
       "      <th>130359</th>\n",
       "      <td>unknown</td>\n",
       "      <td>unknown</td>\n",
       "      <td>granite brownish white firm</td>\n",
       "    </tr>\n",
       "    <tr>\n",
       "      <th>142675</th>\n",
       "      <td>bedrock</td>\n",
       "      <td>unknown</td>\n",
       "      <td>metamorphics       10 gph</td>\n",
       "    </tr>\n",
       "    <tr>\n",
       "      <th>9128</th>\n",
       "      <td>alluvium</td>\n",
       "      <td>unknown</td>\n",
       "      <td>sandy loam  cross date 07 02 1967</td>\n",
       "    </tr>\n",
       "    <tr>\n",
       "      <th>175152</th>\n",
       "      <td>basalt</td>\n",
       "      <td>unknown</td>\n",
       "      <td>fine grained dirty weathered</td>\n",
       "    </tr>\n",
       "    <tr>\n",
       "      <th>21602</th>\n",
       "      <td>basalt</td>\n",
       "      <td>unknown</td>\n",
       "      <td>cavity wb</td>\n",
       "    </tr>\n",
       "    <tr>\n",
       "      <th>158306</th>\n",
       "      <td>bedrock</td>\n",
       "      <td>unknown</td>\n",
       "      <td>weathered granite</td>\n",
       "    </tr>\n",
       "    <tr>\n",
       "      <th>79546</th>\n",
       "      <td>bedrock</td>\n",
       "      <td>unknown</td>\n",
       "      <td>weathering</td>\n",
       "    </tr>\n",
       "    <tr>\n",
       "      <th>43954</th>\n",
       "      <td>alluvium</td>\n",
       "      <td>unknown</td>\n",
       "      <td>topsoils    large excavation into</td>\n",
       "    </tr>\n",
       "    <tr>\n",
       "      <th>79046</th>\n",
       "      <td>bedrock</td>\n",
       "      <td>unknown</td>\n",
       "      <td>loam</td>\n",
       "    </tr>\n",
       "    <tr>\n",
       "      <th>16388</th>\n",
       "      <td>alluvium</td>\n",
       "      <td>unknown</td>\n",
       "      <td>file t528 drilled prior 1960</td>\n",
       "    </tr>\n",
       "    <tr>\n",
       "      <th>12763</th>\n",
       "      <td>basalt</td>\n",
       "      <td>unknown</td>\n",
       "      <td>soapstone   water</td>\n",
       "    </tr>\n",
       "    <tr>\n",
       "      <th>41596</th>\n",
       "      <td>unknown</td>\n",
       "      <td>unknown</td>\n",
       "      <td>strata not known  file t 2528</td>\n",
       "    </tr>\n",
       "    <tr>\n",
       "      <th>11202</th>\n",
       "      <td>basalt</td>\n",
       "      <td>unknown</td>\n",
       "      <td>slippery back</td>\n",
       "    </tr>\n",
       "    <tr>\n",
       "      <th>8855</th>\n",
       "      <td>basalt</td>\n",
       "      <td>unknown</td>\n",
       "      <td>boulders</td>\n",
       "    </tr>\n",
       "    <tr>\n",
       "      <th>73144</th>\n",
       "      <td>alluvium</td>\n",
       "      <td>unknown</td>\n",
       "      <td>silty loam</td>\n",
       "    </tr>\n",
       "    <tr>\n",
       "      <th>156259</th>\n",
       "      <td>unknown</td>\n",
       "      <td>unknown</td>\n",
       "      <td>weathered granite</td>\n",
       "    </tr>\n",
       "    <tr>\n",
       "      <th>149190</th>\n",
       "      <td>unknown</td>\n",
       "      <td>unknown</td>\n",
       "      <td>hard granite</td>\n",
       "    </tr>\n",
       "    <tr>\n",
       "      <th>...</th>\n",
       "      <td>...</td>\n",
       "      <td>...</td>\n",
       "      <td>...</td>\n",
       "    </tr>\n",
       "    <tr>\n",
       "      <th>16607</th>\n",
       "      <td>unknown</td>\n",
       "      <td>unknown</td>\n",
       "      <td>no records drilled l breeze 1963</td>\n",
       "    </tr>\n",
       "    <tr>\n",
       "      <th>79218</th>\n",
       "      <td>alluvium</td>\n",
       "      <td>unknown</td>\n",
       "      <td>sandy loam</td>\n",
       "    </tr>\n",
       "    <tr>\n",
       "      <th>139731</th>\n",
       "      <td>bedrock</td>\n",
       "      <td>unknown</td>\n",
       "      <td>yellow and brown cllay</td>\n",
       "    </tr>\n",
       "    <tr>\n",
       "      <th>138447</th>\n",
       "      <td>unknown</td>\n",
       "      <td>unknown</td>\n",
       "      <td>rocky</td>\n",
       "    </tr>\n",
       "    <tr>\n",
       "      <th>80862</th>\n",
       "      <td>alluvium</td>\n",
       "      <td>unknown</td>\n",
       "      <td>sandy brown loam</td>\n",
       "    </tr>\n",
       "    <tr>\n",
       "      <th>110395</th>\n",
       "      <td>bedrock</td>\n",
       "      <td>unknown</td>\n",
       "      <td>sandsyone</td>\n",
       "    </tr>\n",
       "    <tr>\n",
       "      <th>23501</th>\n",
       "      <td>basalt</td>\n",
       "      <td>unknown</td>\n",
       "      <td>details unknown</td>\n",
       "    </tr>\n",
       "    <tr>\n",
       "      <th>75527</th>\n",
       "      <td>basalt</td>\n",
       "      <td>unknown</td>\n",
       "      <td>red laterite   water</td>\n",
       "    </tr>\n",
       "    <tr>\n",
       "      <th>21770</th>\n",
       "      <td>alluvium</td>\n",
       "      <td>unknown</td>\n",
       "      <td>creek loam  old well</td>\n",
       "    </tr>\n",
       "    <tr>\n",
       "      <th>146331</th>\n",
       "      <td>alluvium</td>\n",
       "      <td>unknown</td>\n",
       "      <td>sandy</td>\n",
       "    </tr>\n",
       "    <tr>\n",
       "      <th>85476</th>\n",
       "      <td>alluvium</td>\n",
       "      <td>unknown</td>\n",
       "      <td>loam  file t 764  date 05 03 1987</td>\n",
       "    </tr>\n",
       "    <tr>\n",
       "      <th>16578</th>\n",
       "      <td>bedrock</td>\n",
       "      <td>unknown</td>\n",
       "      <td>evergreen</td>\n",
       "    </tr>\n",
       "    <tr>\n",
       "      <th>114555</th>\n",
       "      <td>basalt</td>\n",
       "      <td>unknown</td>\n",
       "      <td>silcrete             file no t 799</td>\n",
       "    </tr>\n",
       "    <tr>\n",
       "      <th>3257</th>\n",
       "      <td>alluvium</td>\n",
       "      <td>unknown</td>\n",
       "      <td>loam  cased 203mms 0 23 9met</td>\n",
       "    </tr>\n",
       "    <tr>\n",
       "      <th>145738</th>\n",
       "      <td>basalt</td>\n",
       "      <td>unknown</td>\n",
       "      <td>existing bore   driller justin amis</td>\n",
       "    </tr>\n",
       "    <tr>\n",
       "      <th>98005</th>\n",
       "      <td>alluvium</td>\n",
       "      <td>unknown</td>\n",
       "      <td>hard material</td>\n",
       "    </tr>\n",
       "    <tr>\n",
       "      <th>77784</th>\n",
       "      <td>bedrock</td>\n",
       "      <td>unknown</td>\n",
       "      <td>brown helidon sstone with breaks</td>\n",
       "    </tr>\n",
       "    <tr>\n",
       "      <th>15230</th>\n",
       "      <td>alluvium</td>\n",
       "      <td>unknown</td>\n",
       "      <td>strata not known  file t 6040</td>\n",
       "    </tr>\n",
       "    <tr>\n",
       "      <th>5666</th>\n",
       "      <td>unknown</td>\n",
       "      <td>unknown</td>\n",
       "      <td>not known</td>\n",
       "    </tr>\n",
       "    <tr>\n",
       "      <th>159069</th>\n",
       "      <td>unknown</td>\n",
       "      <td>unknown</td>\n",
       "      <td>no log available</td>\n",
       "    </tr>\n",
       "    <tr>\n",
       "      <th>34170</th>\n",
       "      <td>alluvium</td>\n",
       "      <td>unknown</td>\n",
       "      <td>dark brown loam  file t1340</td>\n",
       "    </tr>\n",
       "    <tr>\n",
       "      <th>2007</th>\n",
       "      <td>bedrock</td>\n",
       "      <td>unknown</td>\n",
       "      <td>boulder formation  v gable 21 09</td>\n",
       "    </tr>\n",
       "    <tr>\n",
       "      <th>151661</th>\n",
       "      <td>alluvium</td>\n",
       "      <td>unknown</td>\n",
       "      <td>sandy loam</td>\n",
       "    </tr>\n",
       "    <tr>\n",
       "      <th>2718</th>\n",
       "      <td>alluvium</td>\n",
       "      <td>unknown</td>\n",
       "      <td>strata unknown  file t1304a</td>\n",
       "    </tr>\n",
       "    <tr>\n",
       "      <th>162230</th>\n",
       "      <td>alluvium</td>\n",
       "      <td>unknown</td>\n",
       "      <td>dark loam  file ug 7 1</td>\n",
       "    </tr>\n",
       "    <tr>\n",
       "      <th>71554</th>\n",
       "      <td>basalt</td>\n",
       "      <td>unknown</td>\n",
       "      <td>soapstone</td>\n",
       "    </tr>\n",
       "    <tr>\n",
       "      <th>138581</th>\n",
       "      <td>unknown</td>\n",
       "      <td>unknown</td>\n",
       "      <td>granite green gravely soft</td>\n",
       "    </tr>\n",
       "    <tr>\n",
       "      <th>5440</th>\n",
       "      <td>alluvium</td>\n",
       "      <td>unknown</td>\n",
       "      <td>brown sandy formation  swl 10 7 met</td>\n",
       "    </tr>\n",
       "    <tr>\n",
       "      <th>140157</th>\n",
       "      <td>bedrock</td>\n",
       "      <td>unknown</td>\n",
       "      <td>granite</td>\n",
       "    </tr>\n",
       "    <tr>\n",
       "      <th>158983</th>\n",
       "      <td>basalt</td>\n",
       "      <td>unknown</td>\n",
       "      <td>weathered granite</td>\n",
       "    </tr>\n",
       "  </tbody>\n",
       "</table>\n",
       "<p>100 rows × 3 columns</p>\n",
       "</div>"
      ],
      "text/plain": [
       "       Simplified_lithology Regex_lithoclass  \\\n",
       "139413              bedrock          unknown   \n",
       "77563              alluvium          unknown   \n",
       "156662               basalt          unknown   \n",
       "36417                basalt          unknown   \n",
       "16643              alluvium          unknown   \n",
       "3397               alluvium          unknown   \n",
       "123438              unknown          unknown   \n",
       "97225               bedrock          unknown   \n",
       "98391                basalt          unknown   \n",
       "125355              unknown          unknown   \n",
       "58037               bedrock          unknown   \n",
       "89762                basalt          unknown   \n",
       "97227              alluvium          unknown   \n",
       "130359              unknown          unknown   \n",
       "142675              bedrock          unknown   \n",
       "9128               alluvium          unknown   \n",
       "175152               basalt          unknown   \n",
       "21602                basalt          unknown   \n",
       "158306              bedrock          unknown   \n",
       "79546               bedrock          unknown   \n",
       "43954              alluvium          unknown   \n",
       "79046               bedrock          unknown   \n",
       "16388              alluvium          unknown   \n",
       "12763                basalt          unknown   \n",
       "41596               unknown          unknown   \n",
       "11202                basalt          unknown   \n",
       "8855                 basalt          unknown   \n",
       "73144              alluvium          unknown   \n",
       "156259              unknown          unknown   \n",
       "149190              unknown          unknown   \n",
       "...                     ...              ...   \n",
       "16607               unknown          unknown   \n",
       "79218              alluvium          unknown   \n",
       "139731              bedrock          unknown   \n",
       "138447              unknown          unknown   \n",
       "80862              alluvium          unknown   \n",
       "110395              bedrock          unknown   \n",
       "23501                basalt          unknown   \n",
       "75527                basalt          unknown   \n",
       "21770              alluvium          unknown   \n",
       "146331             alluvium          unknown   \n",
       "85476              alluvium          unknown   \n",
       "16578               bedrock          unknown   \n",
       "114555               basalt          unknown   \n",
       "3257               alluvium          unknown   \n",
       "145738               basalt          unknown   \n",
       "98005              alluvium          unknown   \n",
       "77784               bedrock          unknown   \n",
       "15230              alluvium          unknown   \n",
       "5666                unknown          unknown   \n",
       "159069              unknown          unknown   \n",
       "34170              alluvium          unknown   \n",
       "2007                bedrock          unknown   \n",
       "151661             alluvium          unknown   \n",
       "2718               alluvium          unknown   \n",
       "162230             alluvium          unknown   \n",
       "71554                basalt          unknown   \n",
       "138581              unknown          unknown   \n",
       "5440               alluvium          unknown   \n",
       "140157              bedrock          unknown   \n",
       "158983               basalt          unknown   \n",
       "\n",
       "                          Lithology_original  \n",
       "139413                           brown stone  \n",
       "77563                             sandy loam  \n",
       "156662                            decomposed  \n",
       "36417                           volcanic ash  \n",
       "16643                        dark brown loam  \n",
       "3397          file t1267  drilled prior 1962  \n",
       "123438                    light grey granite  \n",
       "97225                        grey sanbdstone  \n",
       "98391                            green volc   \n",
       "125355                              traprock  \n",
       "58037                sandy loam  file t 2810  \n",
       "89762                             sandy loam  \n",
       "97227                                  brown  \n",
       "130359         granite brownish white firm    \n",
       "142675             metamorphics       10 gph  \n",
       "9128      sandy loam  cross date 07 02 1967   \n",
       "175152          fine grained dirty weathered  \n",
       "21602                              cavity wb  \n",
       "158306                     weathered granite  \n",
       "79546                             weathering  \n",
       "43954      topsoils    large excavation into  \n",
       "79046                                   loam  \n",
       "16388           file t528 drilled prior 1960  \n",
       "12763                      soapstone   water  \n",
       "41596          strata not known  file t 2528  \n",
       "11202                          slippery back  \n",
       "8855                                boulders  \n",
       "73144                             silty loam  \n",
       "156259                   weathered granite    \n",
       "149190                          hard granite  \n",
       "...                                      ...  \n",
       "16607       no records drilled l breeze 1963  \n",
       "79218                             sandy loam  \n",
       "139731                yellow and brown cllay  \n",
       "138447                                 rocky  \n",
       "80862                       sandy brown loam  \n",
       "110395                             sandsyone  \n",
       "23501                        details unknown  \n",
       "75527                   red laterite   water  \n",
       "21770                   creek loam  old well  \n",
       "146331                                 sandy  \n",
       "85476      loam  file t 764  date 05 03 1987  \n",
       "16578                              evergreen  \n",
       "114555   silcrete             file no t 799   \n",
       "3257            loam  cased 203mms 0 23 9met  \n",
       "145738  existing bore   driller justin amis   \n",
       "98005                          hard material  \n",
       "77784       brown helidon sstone with breaks  \n",
       "15230          strata not known  file t 6040  \n",
       "5666                               not known  \n",
       "159069                      no log available  \n",
       "34170            dark brown loam  file t1340  \n",
       "2007        boulder formation  v gable 21 09  \n",
       "151661                            sandy loam  \n",
       "2718             strata unknown  file t1304a  \n",
       "162230                dark loam  file ug 7 1  \n",
       "71554                              soapstone  \n",
       "138581            granite green gravely soft  \n",
       "5440    brown sandy formation  swl 10 7 met   \n",
       "140157                               granite  \n",
       "158983                     weathered granite  \n",
       "\n",
       "[100 rows x 3 columns]"
      ]
     },
     "execution_count": 53,
     "metadata": {},
     "output_type": "execute_result"
    }
   ],
   "source": [
    "match_and_sample_df(tmp_df, 'unknown', colname=REGEX_LITHO_CLASS_COL, size=100)"
   ]
  },
  {
   "cell_type": "code",
   "execution_count": 54,
   "metadata": {},
   "outputs": [
    {
     "data": {
      "text/html": [
       "<div>\n",
       "<style scoped>\n",
       "    .dataframe tbody tr th:only-of-type {\n",
       "        vertical-align: middle;\n",
       "    }\n",
       "\n",
       "    .dataframe tbody tr th {\n",
       "        vertical-align: top;\n",
       "    }\n",
       "\n",
       "    .dataframe thead th {\n",
       "        text-align: right;\n",
       "    }\n",
       "</style>\n",
       "<table border=\"1\" class=\"dataframe\">\n",
       "  <thead>\n",
       "    <tr style=\"text-align: right;\">\n",
       "      <th></th>\n",
       "      <th>Simplified_lithology</th>\n",
       "      <th>Regex_lithoclass</th>\n",
       "      <th>Lithology_original</th>\n",
       "    </tr>\n",
       "  </thead>\n",
       "  <tbody>\n",
       "    <tr>\n",
       "      <th>5</th>\n",
       "      <td>bedrock</td>\n",
       "      <td>unknown</td>\n",
       "      <td>quartzite  small supply struck 197 ft</td>\n",
       "    </tr>\n",
       "    <tr>\n",
       "      <th>7</th>\n",
       "      <td>bedrock</td>\n",
       "      <td>unknown</td>\n",
       "      <td>quartzite  stands test 247 ft 300 gph</td>\n",
       "    </tr>\n",
       "    <tr>\n",
       "      <th>8</th>\n",
       "      <td>bedrock</td>\n",
       "      <td>unknown</td>\n",
       "      <td>slate</td>\n",
       "    </tr>\n",
       "    <tr>\n",
       "      <th>10</th>\n",
       "      <td>bedrock</td>\n",
       "      <td>unknown</td>\n",
       "      <td>quartzite</td>\n",
       "    </tr>\n",
       "    <tr>\n",
       "      <th>12</th>\n",
       "      <td>bedrock</td>\n",
       "      <td>unknown</td>\n",
       "      <td>quartzite</td>\n",
       "    </tr>\n",
       "  </tbody>\n",
       "</table>\n",
       "</div>"
      ],
      "text/plain": [
       "   Simplified_lithology Regex_lithoclass  \\\n",
       "5               bedrock          unknown   \n",
       "7               bedrock          unknown   \n",
       "8               bedrock          unknown   \n",
       "10              bedrock          unknown   \n",
       "12              bedrock          unknown   \n",
       "\n",
       "                       Lithology_original  \n",
       "5   quartzite  small supply struck 197 ft  \n",
       "7   quartzite  stands test 247 ft 300 gph  \n",
       "8                                   slate  \n",
       "10                              quartzite  \n",
       "12                              quartzite  "
      ]
     },
     "execution_count": 54,
     "metadata": {},
     "output_type": "execute_result"
    }
   ],
   "source": [
    "df_unk = tmp_df.loc[ tmp_df[REGEX_LITHO_CLASS_COL] == 'unknown' ]\n",
    "df_unk.head()"
   ]
  },
  {
   "cell_type": "code",
   "execution_count": 55,
   "metadata": {},
   "outputs": [],
   "source": [
    "flat = flat_list_tokens(df_unk[LITHO_DESC_COL].values)"
   ]
  },
  {
   "cell_type": "code",
   "execution_count": 56,
   "metadata": {},
   "outputs": [],
   "source": [
    "s = ' '.join(flat)"
   ]
  },
  {
   "cell_type": "code",
   "execution_count": 57,
   "metadata": {},
   "outputs": [
    {
     "data": {
      "image/png": "[encoded data removed]",
      "text/plain": [
       "<Figure size 864x864 with 1 Axes>"
      ]
     },
     "metadata": {
      "needs_background": "light"
     },
     "output_type": "display_data"
    }
   ],
   "source": [
    "show_wordcloud(s, title = 'Unclassified via regexp')"
   ]
  },
  {
   "cell_type": "code",
   "execution_count": 58,
   "metadata": {},
   "outputs": [
    {
     "data": {
      "text/plain": [
       "<matplotlib.axes._subplots.AxesSubplot at 0x7f10d15d25f8>"
      ]
     },
     "execution_count": 58,
     "metadata": {},
     "output_type": "execute_result"
    },
    {
     "data": {
      "image/png": "[encoded data removed]",
      "text/plain": [
       "<Figure size 1080x720 with 1 Axes>"
      ]
     },
     "metadata": {
      "needs_background": "light"
     },
     "output_type": "display_data"
    }
   ],
   "source": [
    "plot_freq(token_freq(flat, n_most_common = 30))"
   ]
  },
  {
   "cell_type": "markdown",
   "metadata": {},
   "source": [
    "We did not use 'loam' as a term. There are others that should be used, but it is unclear how they should be remapped, like \"metal\" and \"file\""
   ]
  },
  {
   "cell_type": "code",
   "execution_count": 59,
   "metadata": {},
   "outputs": [],
   "source": [
    "lithologies.append('loam')\n",
    "lithologies.append('granite')\n",
    "lithologies.append('soapstone')"
   ]
  },
  {
   "cell_type": "code",
   "execution_count": 60,
   "metadata": {},
   "outputs": [],
   "source": [
    "any_litho_markers_re = any_litho_markers_re + '|loam|granite|soap'\n",
    "regex = re.compile(any_litho_markers_re)\n",
    "lithologies_dict['loam'] = 'loam'\n",
    "lithologies_dict['granite'] = 'granite'\n",
    "lithologies_dict['soapstone'] = 'soapstone'"
   ]
  },
  {
   "cell_type": "code",
   "execution_count": 61,
   "metadata": {},
   "outputs": [],
   "source": [
    "v_tokens = v_word_tokenize(y)\n",
    "vt = v_find_litho_markers(v_tokens, regex=regex)"
   ]
  },
  {
   "cell_type": "code",
   "execution_count": 62,
   "metadata": {},
   "outputs": [],
   "source": [
    "prim_litho = [find_primary_lithology(x, lithologies_dict) for x in vt]"
   ]
  },
  {
   "cell_type": "code",
   "execution_count": 63,
   "metadata": {},
   "outputs": [
    {
     "data": {
      "text/plain": [
       "<matplotlib.axes._subplots.AxesSubplot at 0x7f10d39c6fd0>"
      ]
     },
     "execution_count": 63,
     "metadata": {},
     "output_type": "execute_result"
    },
    {
     "data": {
      "image/png": "[encoded data removed]",
      "text/plain": [
       "<Figure size 1080x720 with 1 Axes>"
      ]
     },
     "metadata": {
      "needs_background": "light"
     },
     "output_type": "display_data"
    }
   ],
   "source": [
    "n = len(set(prim_litho))\n",
    "plot_freq(token_freq(prim_litho, n_most_common = n))"
   ]
  },
  {
   "cell_type": "code",
   "execution_count": 64,
   "metadata": {},
   "outputs": [],
   "source": [
    "lithology_map['loam'] = 'alluvium'\n",
    "lithology_map['granite'] = 'bedrock'\n",
    "lithology_map['soapstone'] = 'bedrock'"
   ]
  },
  {
   "cell_type": "code",
   "execution_count": 65,
   "metadata": {},
   "outputs": [],
   "source": [
    "final_prim_litho=list()\n",
    "for x in prim_litho:\n",
    "    final_prim_litho.append(lithology_map[x])\n"
   ]
  },
  {
   "cell_type": "code",
   "execution_count": 66,
   "metadata": {},
   "outputs": [
    {
     "data": {
      "text/html": [
       "<div>\n",
       "<style scoped>\n",
       "    .dataframe tbody tr th:only-of-type {\n",
       "        vertical-align: middle;\n",
       "    }\n",
       "\n",
       "    .dataframe tbody tr th {\n",
       "        vertical-align: top;\n",
       "    }\n",
       "\n",
       "    .dataframe thead th {\n",
       "        text-align: right;\n",
       "    }\n",
       "</style>\n",
       "<table border=\"1\" class=\"dataframe\">\n",
       "  <thead>\n",
       "    <tr style=\"text-align: right;\">\n",
       "      <th></th>\n",
       "      <th>token</th>\n",
       "      <th>frequency</th>\n",
       "    </tr>\n",
       "  </thead>\n",
       "  <tbody>\n",
       "    <tr>\n",
       "      <th>0</th>\n",
       "      <td>alluvium</td>\n",
       "      <td>76595</td>\n",
       "    </tr>\n",
       "    <tr>\n",
       "      <th>1</th>\n",
       "      <td>basalt</td>\n",
       "      <td>53521</td>\n",
       "    </tr>\n",
       "    <tr>\n",
       "      <th>2</th>\n",
       "      <td>bedrock</td>\n",
       "      <td>43485</td>\n",
       "    </tr>\n",
       "    <tr>\n",
       "      <th>3</th>\n",
       "      <td>unknown</td>\n",
       "      <td>4031</td>\n",
       "    </tr>\n",
       "  </tbody>\n",
       "</table>\n",
       "</div>"
      ],
      "text/plain": [
       "      token  frequency\n",
       "0  alluvium      76595\n",
       "1    basalt      53521\n",
       "2   bedrock      43485\n",
       "3   unknown       4031"
      ]
     },
     "execution_count": 66,
     "metadata": {},
     "output_type": "execute_result"
    }
   ],
   "source": [
    "token_freq(final_prim_litho)"
   ]
  },
  {
   "cell_type": "code",
   "execution_count": 67,
   "metadata": {},
   "outputs": [],
   "source": [
    "tmp_df = pd.DataFrame({ LITHO_CLASS_COL: train_data[LITHO_CLASS_COL], REGEX_LITHO_CLASS_COL: final_prim_litho, LITHO_DESC_COL: descs})"
   ]
  },
  {
   "cell_type": "code",
   "execution_count": 68,
   "metadata": {},
   "outputs": [
    {
     "data": {
      "text/html": [
       "<div>\n",
       "<style scoped>\n",
       "    .dataframe tbody tr th:only-of-type {\n",
       "        vertical-align: middle;\n",
       "    }\n",
       "\n",
       "    .dataframe tbody tr th {\n",
       "        vertical-align: top;\n",
       "    }\n",
       "\n",
       "    .dataframe thead th {\n",
       "        text-align: right;\n",
       "    }\n",
       "</style>\n",
       "<table border=\"1\" class=\"dataframe\">\n",
       "  <thead>\n",
       "    <tr style=\"text-align: right;\">\n",
       "      <th></th>\n",
       "      <th>Simplified_lithology</th>\n",
       "      <th>Regex_lithoclass</th>\n",
       "      <th>Lithology_original</th>\n",
       "    </tr>\n",
       "  </thead>\n",
       "  <tbody>\n",
       "    <tr>\n",
       "      <th>15239</th>\n",
       "      <td>unknown</td>\n",
       "      <td>unknown</td>\n",
       "      <td>strata not known  file t 18744</td>\n",
       "    </tr>\n",
       "    <tr>\n",
       "      <th>4004</th>\n",
       "      <td>basalt</td>\n",
       "      <td>unknown</td>\n",
       "      <td>boulders  driller agp</td>\n",
       "    </tr>\n",
       "    <tr>\n",
       "      <th>15966</th>\n",
       "      <td>unknown</td>\n",
       "      <td>unknown</td>\n",
       "      <td>file t4988 drilled approx 1940 depth</td>\n",
       "    </tr>\n",
       "    <tr>\n",
       "      <th>104803</th>\n",
       "      <td>bedrock</td>\n",
       "      <td>unknown</td>\n",
       "      <td>grey lam s stone med grain quartz  w</td>\n",
       "    </tr>\n",
       "    <tr>\n",
       "      <th>118818</th>\n",
       "      <td>alluvium</td>\n",
       "      <td>unknown</td>\n",
       "      <td>very hard material</td>\n",
       "    </tr>\n",
       "    <tr>\n",
       "      <th>119207</th>\n",
       "      <td>bedrock</td>\n",
       "      <td>unknown</td>\n",
       "      <td>brown stone</td>\n",
       "    </tr>\n",
       "    <tr>\n",
       "      <th>144090</th>\n",
       "      <td>basalt</td>\n",
       "      <td>unknown</td>\n",
       "      <td>top brown  driller harry latham</td>\n",
       "    </tr>\n",
       "    <tr>\n",
       "      <th>162236</th>\n",
       "      <td>alluvium</td>\n",
       "      <td>unknown</td>\n",
       "      <td>boulders hard</td>\n",
       "    </tr>\n",
       "    <tr>\n",
       "      <th>16204</th>\n",
       "      <td>basalt</td>\n",
       "      <td>unknown</td>\n",
       "      <td>strata not known  file t 5070</td>\n",
       "    </tr>\n",
       "    <tr>\n",
       "      <th>52788</th>\n",
       "      <td>unknown</td>\n",
       "      <td>unknown</td>\n",
       "      <td>strata not known  file t 5946</td>\n",
       "    </tr>\n",
       "    <tr>\n",
       "      <th>15294</th>\n",
       "      <td>unknown</td>\n",
       "      <td>unknown</td>\n",
       "      <td>fiel t4861 drilled prior 1963 depth</td>\n",
       "    </tr>\n",
       "    <tr>\n",
       "      <th>52232</th>\n",
       "      <td>alluvium</td>\n",
       "      <td>unknown</td>\n",
       "      <td>alluvial  no log available</td>\n",
       "    </tr>\n",
       "    <tr>\n",
       "      <th>123148</th>\n",
       "      <td>bedrock</td>\n",
       "      <td>unknown</td>\n",
       "      <td>mvd stone</td>\n",
       "    </tr>\n",
       "    <tr>\n",
       "      <th>29913</th>\n",
       "      <td>alluvium</td>\n",
       "      <td>unknown</td>\n",
       "      <td>fine lime particles soak  swl 22met</td>\n",
       "    </tr>\n",
       "    <tr>\n",
       "      <th>28722</th>\n",
       "      <td>unknown</td>\n",
       "      <td>unknown</td>\n",
       "      <td>claybound stone swl 23 ft</td>\n",
       "    </tr>\n",
       "    <tr>\n",
       "      <th>23253</th>\n",
       "      <td>basalt</td>\n",
       "      <td>unknown</td>\n",
       "      <td>red raddle</td>\n",
       "    </tr>\n",
       "    <tr>\n",
       "      <th>7466</th>\n",
       "      <td>bedrock</td>\n",
       "      <td>unknown</td>\n",
       "      <td>coloured mud</td>\n",
       "    </tr>\n",
       "    <tr>\n",
       "      <th>13336</th>\n",
       "      <td>alluvium</td>\n",
       "      <td>unknown</td>\n",
       "      <td>brown mud</td>\n",
       "    </tr>\n",
       "    <tr>\n",
       "      <th>23227</th>\n",
       "      <td>alluvium</td>\n",
       "      <td>unknown</td>\n",
       "      <td>unknown  file t1076 driller r t wing</td>\n",
       "    </tr>\n",
       "    <tr>\n",
       "      <th>95303</th>\n",
       "      <td>bedrock</td>\n",
       "      <td>unknown</td>\n",
       "      <td>sillcrete</td>\n",
       "    </tr>\n",
       "    <tr>\n",
       "      <th>15329</th>\n",
       "      <td>unknown</td>\n",
       "      <td>unknown</td>\n",
       "      <td>strata not known  file t5489</td>\n",
       "    </tr>\n",
       "    <tr>\n",
       "      <th>62294</th>\n",
       "      <td>basalt</td>\n",
       "      <td>unknown</td>\n",
       "      <td>file t6210 drilled approx 1953 goebel</td>\n",
       "    </tr>\n",
       "    <tr>\n",
       "      <th>61580</th>\n",
       "      <td>unknown</td>\n",
       "      <td>unknown</td>\n",
       "      <td>no details known  file t 515</td>\n",
       "    </tr>\n",
       "    <tr>\n",
       "      <th>82496</th>\n",
       "      <td>basalt</td>\n",
       "      <td>unknown</td>\n",
       "      <td>decomposed bassalt</td>\n",
       "    </tr>\n",
       "    <tr>\n",
       "      <th>129238</th>\n",
       "      <td>unknown</td>\n",
       "      <td>unknown</td>\n",
       "      <td>quartz band</td>\n",
       "    </tr>\n",
       "    <tr>\n",
       "      <th>170470</th>\n",
       "      <td>unknown</td>\n",
       "      <td>unknown</td>\n",
       "      <td>strata not available bore 52 mms pvc</td>\n",
       "    </tr>\n",
       "    <tr>\n",
       "      <th>92400</th>\n",
       "      <td>unknown</td>\n",
       "      <td>unknown</td>\n",
       "      <td>strata not known</td>\n",
       "    </tr>\n",
       "    <tr>\n",
       "      <th>121251</th>\n",
       "      <td>alluvium</td>\n",
       "      <td>unknown</td>\n",
       "      <td>white to light brown fine to course</td>\n",
       "    </tr>\n",
       "    <tr>\n",
       "      <th>148400</th>\n",
       "      <td>basalt</td>\n",
       "      <td>unknown</td>\n",
       "      <td>baslat</td>\n",
       "    </tr>\n",
       "    <tr>\n",
       "      <th>138560</th>\n",
       "      <td>basalt</td>\n",
       "      <td>unknown</td>\n",
       "      <td>brown laom</td>\n",
       "    </tr>\n",
       "    <tr>\n",
       "      <th>...</th>\n",
       "      <td>...</td>\n",
       "      <td>...</td>\n",
       "      <td>...</td>\n",
       "    </tr>\n",
       "    <tr>\n",
       "      <th>117681</th>\n",
       "      <td>basalt</td>\n",
       "      <td>unknown</td>\n",
       "      <td>hard fractured brown   black</td>\n",
       "    </tr>\n",
       "    <tr>\n",
       "      <th>61581</th>\n",
       "      <td>unknown</td>\n",
       "      <td>unknown</td>\n",
       "      <td>no details known  file t 515</td>\n",
       "    </tr>\n",
       "    <tr>\n",
       "      <th>51590</th>\n",
       "      <td>basalt</td>\n",
       "      <td>unknown</td>\n",
       "      <td>white ash</td>\n",
       "    </tr>\n",
       "    <tr>\n",
       "      <th>99466</th>\n",
       "      <td>bedrock</td>\n",
       "      <td>unknown</td>\n",
       "      <td>fine muddy grey s stone layers m ston</td>\n",
       "    </tr>\n",
       "    <tr>\n",
       "      <th>77947</th>\n",
       "      <td>bedrock</td>\n",
       "      <td>unknown</td>\n",
       "      <td>sandsotne white  br   red br layers</td>\n",
       "    </tr>\n",
       "    <tr>\n",
       "      <th>16035</th>\n",
       "      <td>unknown</td>\n",
       "      <td>unknown</td>\n",
       "      <td>strata not known  file t 5067</td>\n",
       "    </tr>\n",
       "    <tr>\n",
       "      <th>16690</th>\n",
       "      <td>unknown</td>\n",
       "      <td>unknown</td>\n",
       "      <td>strata not known</td>\n",
       "    </tr>\n",
       "    <tr>\n",
       "      <th>47753</th>\n",
       "      <td>alluvium</td>\n",
       "      <td>unknown</td>\n",
       "      <td>second soakage driller k b smith</td>\n",
       "    </tr>\n",
       "    <tr>\n",
       "      <th>52230</th>\n",
       "      <td>unknown</td>\n",
       "      <td>unknown</td>\n",
       "      <td>strata unknown</td>\n",
       "    </tr>\n",
       "    <tr>\n",
       "      <th>101325</th>\n",
       "      <td>basalt</td>\n",
       "      <td>unknown</td>\n",
       "      <td>red vol</td>\n",
       "    </tr>\n",
       "    <tr>\n",
       "      <th>145710</th>\n",
       "      <td>bedrock</td>\n",
       "      <td>unknown</td>\n",
       "      <td>sansdtone</td>\n",
       "    </tr>\n",
       "    <tr>\n",
       "      <th>283</th>\n",
       "      <td>unknown</td>\n",
       "      <td>unknown</td>\n",
       "      <td>no strata details available</td>\n",
       "    </tr>\n",
       "    <tr>\n",
       "      <th>1162</th>\n",
       "      <td>bedrock</td>\n",
       "      <td>unknown</td>\n",
       "      <td>water strata</td>\n",
       "    </tr>\n",
       "    <tr>\n",
       "      <th>63994</th>\n",
       "      <td>basalt</td>\n",
       "      <td>unknown</td>\n",
       "      <td>boulders</td>\n",
       "    </tr>\n",
       "    <tr>\n",
       "      <th>21020</th>\n",
       "      <td>alluvium</td>\n",
       "      <td>unknown</td>\n",
       "      <td>fine to med some coarse firm brown</td>\n",
       "    </tr>\n",
       "    <tr>\n",
       "      <th>23515</th>\n",
       "      <td>basalt</td>\n",
       "      <td>unknown</td>\n",
       "      <td>no details known drilled 1920</td>\n",
       "    </tr>\n",
       "    <tr>\n",
       "      <th>28810</th>\n",
       "      <td>alluvium</td>\n",
       "      <td>unknown</td>\n",
       "      <td>boulders wb</td>\n",
       "    </tr>\n",
       "    <tr>\n",
       "      <th>148972</th>\n",
       "      <td>basalt</td>\n",
       "      <td>unknown</td>\n",
       "      <td>top black                driller harry latham</td>\n",
       "    </tr>\n",
       "    <tr>\n",
       "      <th>29873</th>\n",
       "      <td>basalt</td>\n",
       "      <td>unknown</td>\n",
       "      <td>cracks with quartz crystal  wb</td>\n",
       "    </tr>\n",
       "    <tr>\n",
       "      <th>97553</th>\n",
       "      <td>unknown</td>\n",
       "      <td>unknown</td>\n",
       "      <td>strata not known</td>\n",
       "    </tr>\n",
       "    <tr>\n",
       "      <th>63509</th>\n",
       "      <td>unknown</td>\n",
       "      <td>unknown</td>\n",
       "      <td>strata not known  file t 5551</td>\n",
       "    </tr>\n",
       "    <tr>\n",
       "      <th>21625</th>\n",
       "      <td>unknown</td>\n",
       "      <td>unknown</td>\n",
       "      <td>file t1970 drilled w goble aprox 1910</td>\n",
       "    </tr>\n",
       "    <tr>\n",
       "      <th>157557</th>\n",
       "      <td>bedrock</td>\n",
       "      <td>unknown</td>\n",
       "      <td>white</td>\n",
       "    </tr>\n",
       "    <tr>\n",
       "      <th>149343</th>\n",
       "      <td>alluvium</td>\n",
       "      <td>unknown</td>\n",
       "      <td>alluvial   no log available</td>\n",
       "    </tr>\n",
       "    <tr>\n",
       "      <th>16369</th>\n",
       "      <td>alluvium</td>\n",
       "      <td>unknown</td>\n",
       "      <td>file t524 drilled approx 1941</td>\n",
       "    </tr>\n",
       "    <tr>\n",
       "      <th>7932</th>\n",
       "      <td>unknown</td>\n",
       "      <td>unknown</td>\n",
       "      <td>water bed   salt</td>\n",
       "    </tr>\n",
       "    <tr>\n",
       "      <th>45706</th>\n",
       "      <td>basalt</td>\n",
       "      <td>unknown</td>\n",
       "      <td>boulders  file t2992</td>\n",
       "    </tr>\n",
       "    <tr>\n",
       "      <th>57874</th>\n",
       "      <td>basalt</td>\n",
       "      <td>unknown</td>\n",
       "      <td>strata not known  file t 5401</td>\n",
       "    </tr>\n",
       "    <tr>\n",
       "      <th>94041</th>\n",
       "      <td>basalt</td>\n",
       "      <td>unknown</td>\n",
       "      <td>red volcanic     3 149 l sec</td>\n",
       "    </tr>\n",
       "    <tr>\n",
       "      <th>139413</th>\n",
       "      <td>bedrock</td>\n",
       "      <td>unknown</td>\n",
       "      <td>brown stone</td>\n",
       "    </tr>\n",
       "  </tbody>\n",
       "</table>\n",
       "<p>100 rows × 3 columns</p>\n",
       "</div>"
      ],
      "text/plain": [
       "       Simplified_lithology Regex_lithoclass  \\\n",
       "15239               unknown          unknown   \n",
       "4004                 basalt          unknown   \n",
       "15966               unknown          unknown   \n",
       "104803              bedrock          unknown   \n",
       "118818             alluvium          unknown   \n",
       "119207              bedrock          unknown   \n",
       "144090               basalt          unknown   \n",
       "162236             alluvium          unknown   \n",
       "16204                basalt          unknown   \n",
       "52788               unknown          unknown   \n",
       "15294               unknown          unknown   \n",
       "52232              alluvium          unknown   \n",
       "123148              bedrock          unknown   \n",
       "29913              alluvium          unknown   \n",
       "28722               unknown          unknown   \n",
       "23253                basalt          unknown   \n",
       "7466                bedrock          unknown   \n",
       "13336              alluvium          unknown   \n",
       "23227              alluvium          unknown   \n",
       "95303               bedrock          unknown   \n",
       "15329               unknown          unknown   \n",
       "62294                basalt          unknown   \n",
       "61580               unknown          unknown   \n",
       "82496                basalt          unknown   \n",
       "129238              unknown          unknown   \n",
       "170470              unknown          unknown   \n",
       "92400               unknown          unknown   \n",
       "121251             alluvium          unknown   \n",
       "148400               basalt          unknown   \n",
       "138560               basalt          unknown   \n",
       "...                     ...              ...   \n",
       "117681               basalt          unknown   \n",
       "61581               unknown          unknown   \n",
       "51590                basalt          unknown   \n",
       "99466               bedrock          unknown   \n",
       "77947               bedrock          unknown   \n",
       "16035               unknown          unknown   \n",
       "16690               unknown          unknown   \n",
       "47753              alluvium          unknown   \n",
       "52230               unknown          unknown   \n",
       "101325               basalt          unknown   \n",
       "145710              bedrock          unknown   \n",
       "283                 unknown          unknown   \n",
       "1162                bedrock          unknown   \n",
       "63994                basalt          unknown   \n",
       "21020              alluvium          unknown   \n",
       "23515                basalt          unknown   \n",
       "28810              alluvium          unknown   \n",
       "148972               basalt          unknown   \n",
       "29873                basalt          unknown   \n",
       "97553               unknown          unknown   \n",
       "63509               unknown          unknown   \n",
       "21625               unknown          unknown   \n",
       "157557              bedrock          unknown   \n",
       "149343             alluvium          unknown   \n",
       "16369              alluvium          unknown   \n",
       "7932                unknown          unknown   \n",
       "45706                basalt          unknown   \n",
       "57874                basalt          unknown   \n",
       "94041                basalt          unknown   \n",
       "139413              bedrock          unknown   \n",
       "\n",
       "                                    Lithology_original  \n",
       "15239                   strata not known  file t 18744  \n",
       "4004                             boulders  driller agp  \n",
       "15966             file t4988 drilled approx 1940 depth  \n",
       "104803           grey lam s stone med grain quartz  w   \n",
       "118818                              very hard material  \n",
       "119207                                     brown stone  \n",
       "144090                top brown  driller harry latham   \n",
       "162236                                   boulders hard  \n",
       "16204                    strata not known  file t 5070  \n",
       "52788                    strata not known  file t 5946  \n",
       "15294              fiel t4861 drilled prior 1963 depth  \n",
       "52232                       alluvial  no log available  \n",
       "123148                                       mvd stone  \n",
       "29913              fine lime particles soak  swl 22met  \n",
       "28722                        claybound stone swl 23 ft  \n",
       "23253                                       red raddle  \n",
       "7466                                      coloured mud  \n",
       "13336                                        brown mud  \n",
       "23227             unknown  file t1076 driller r t wing  \n",
       "95303                                        sillcrete  \n",
       "15329                     strata not known  file t5489  \n",
       "62294            file t6210 drilled approx 1953 goebel  \n",
       "61580                     no details known  file t 515  \n",
       "82496                               decomposed bassalt  \n",
       "129238                                    quartz band   \n",
       "170470            strata not available bore 52 mms pvc  \n",
       "92400                                 strata not known  \n",
       "121251             white to light brown fine to course  \n",
       "148400                                          baslat  \n",
       "138560                                      brown laom  \n",
       "...                                                ...  \n",
       "117681                    hard fractured brown   black  \n",
       "61581                     no details known  file t 515  \n",
       "51590                                        white ash  \n",
       "99466            fine muddy grey s stone layers m ston  \n",
       "77947              sandsotne white  br   red br layers  \n",
       "16035                    strata not known  file t 5067  \n",
       "16690                                 strata not known  \n",
       "47753                second soakage driller k b smith   \n",
       "52230                                   strata unknown  \n",
       "101325                                         red vol  \n",
       "145710                                     sansdtone    \n",
       "283                        no strata details available  \n",
       "1162                                      water strata  \n",
       "63994                                         boulders  \n",
       "21020               fine to med some coarse firm brown  \n",
       "23515                    no details known drilled 1920  \n",
       "28810                                      boulders wb  \n",
       "148972  top black                driller harry latham   \n",
       "29873                   cracks with quartz crystal  wb  \n",
       "97553                                 strata not known  \n",
       "63509                    strata not known  file t 5551  \n",
       "21625            file t1970 drilled w goble aprox 1910  \n",
       "157557                                           white  \n",
       "149343                     alluvial   no log available  \n",
       "16369                    file t524 drilled approx 1941  \n",
       "7932                                  water bed   salt  \n",
       "45706                             boulders  file t2992  \n",
       "57874                    strata not known  file t 5401  \n",
       "94041                    red volcanic     3 149 l sec   \n",
       "139413                                     brown stone  \n",
       "\n",
       "[100 rows x 3 columns]"
      ]
     },
     "execution_count": 68,
     "metadata": {},
     "output_type": "execute_result"
    }
   ],
   "source": [
    "match_and_sample_df(tmp_df, 'unknown', colname=REGEX_LITHO_CLASS_COL, size=100)"
   ]
  },
  {
   "cell_type": "code",
   "execution_count": 69,
   "metadata": {},
   "outputs": [
    {
     "name": "stdout",
     "output_type": "stream",
     "text": [
      "Accuracy of regex for classifying primary lithologies:  0.7911018284993695\n"
     ]
    }
   ],
   "source": [
    "print(\"Accuracy of regex for classifying primary lithologies: \", get_accuracy(final_prim_litho, simplified_lithology))"
   ]
  },
  {
   "cell_type": "code",
   "execution_count": 70,
   "metadata": {},
   "outputs": [],
   "source": [
    "tmp_df = pd.DataFrame({ LITHO_CLASS_COL: train_data[LITHO_CLASS_COL], REGEX_LITHO_CLASS_COL: final_prim_litho, LITHO_DESC_COL: descs})"
   ]
  },
  {
   "cell_type": "code",
   "execution_count": 71,
   "metadata": {},
   "outputs": [
    {
     "data": {
      "text/html": [
       "<div>\n",
       "<style scoped>\n",
       "    .dataframe tbody tr th:only-of-type {\n",
       "        vertical-align: middle;\n",
       "    }\n",
       "\n",
       "    .dataframe tbody tr th {\n",
       "        vertical-align: top;\n",
       "    }\n",
       "\n",
       "    .dataframe thead th {\n",
       "        text-align: right;\n",
       "    }\n",
       "</style>\n",
       "<table border=\"1\" class=\"dataframe\">\n",
       "  <thead>\n",
       "    <tr style=\"text-align: right;\">\n",
       "      <th></th>\n",
       "      <th>Simplified_lithology</th>\n",
       "      <th>Regex_lithoclass</th>\n",
       "      <th>Lithology_original</th>\n",
       "    </tr>\n",
       "  </thead>\n",
       "  <tbody>\n",
       "    <tr>\n",
       "      <th>5</th>\n",
       "      <td>bedrock</td>\n",
       "      <td>unknown</td>\n",
       "      <td>quartzite  small supply struck 197 ft</td>\n",
       "    </tr>\n",
       "    <tr>\n",
       "      <th>7</th>\n",
       "      <td>bedrock</td>\n",
       "      <td>unknown</td>\n",
       "      <td>quartzite  stands test 247 ft 300 gph</td>\n",
       "    </tr>\n",
       "    <tr>\n",
       "      <th>8</th>\n",
       "      <td>bedrock</td>\n",
       "      <td>unknown</td>\n",
       "      <td>slate</td>\n",
       "    </tr>\n",
       "    <tr>\n",
       "      <th>10</th>\n",
       "      <td>bedrock</td>\n",
       "      <td>unknown</td>\n",
       "      <td>quartzite</td>\n",
       "    </tr>\n",
       "    <tr>\n",
       "      <th>12</th>\n",
       "      <td>bedrock</td>\n",
       "      <td>unknown</td>\n",
       "      <td>quartzite</td>\n",
       "    </tr>\n",
       "  </tbody>\n",
       "</table>\n",
       "</div>"
      ],
      "text/plain": [
       "   Simplified_lithology Regex_lithoclass  \\\n",
       "5               bedrock          unknown   \n",
       "7               bedrock          unknown   \n",
       "8               bedrock          unknown   \n",
       "10              bedrock          unknown   \n",
       "12              bedrock          unknown   \n",
       "\n",
       "                       Lithology_original  \n",
       "5   quartzite  small supply struck 197 ft  \n",
       "7   quartzite  stands test 247 ft 300 gph  \n",
       "8                                   slate  \n",
       "10                              quartzite  \n",
       "12                              quartzite  "
      ]
     },
     "execution_count": 71,
     "metadata": {},
     "output_type": "execute_result"
    }
   ],
   "source": [
    "df_unk = tmp_df.loc[ tmp_df[REGEX_LITHO_CLASS_COL] == 'unknown' ]\n",
    "df_unk.head()"
   ]
  },
  {
   "cell_type": "code",
   "execution_count": 72,
   "metadata": {},
   "outputs": [],
   "source": [
    "flat = flat_list_tokens(df_unk[LITHO_DESC_COL].values)"
   ]
  },
  {
   "cell_type": "code",
   "execution_count": 73,
   "metadata": {},
   "outputs": [],
   "source": [
    "s = ' '.join(flat)"
   ]
  },
  {
   "cell_type": "code",
   "execution_count": 74,
   "metadata": {},
   "outputs": [
    {
     "data": {
      "image/png": "[encoded data removed]",
      "text/plain": [
       "<Figure size 864x864 with 1 Axes>"
      ]
     },
     "metadata": {
      "needs_background": "light"
     },
     "output_type": "display_data"
    }
   ],
   "source": [
    "show_wordcloud(s, title = 'Unclassified via regexp')"
   ]
  },
  {
   "cell_type": "code",
   "execution_count": 75,
   "metadata": {},
   "outputs": [],
   "source": [
    "def regex_matches(x, regex):\n",
    "    return (regex.match(x) is not None)\n",
    "\n",
    "def find_regex_df(df, expression, colname):\n",
    "    \"\"\"Sample a random subset of rows where the lithology column matches a particular class name.\n",
    "\n",
    "        Args:\n",
    "            df (pandas data frame): bore lithology data  with columns named PRIMARY_LITHO_COL\n",
    "    \n",
    "        Returns:\n",
    "            dataframe:\n",
    "    \"\"\"\n",
    "    tested = df[colname].values\n",
    "    regex = re.compile(expression)\n",
    "    xx = [(regex.match(x) is not None) for x in tested]\n",
    "    df_test = df.loc[xx]\n",
    "    return df_test"
   ]
  },
  {
   "cell_type": "code",
   "execution_count": 76,
   "metadata": {},
   "outputs": [
    {
     "data": {
      "text/html": [
       "<div>\n",
       "<style scoped>\n",
       "    .dataframe tbody tr th:only-of-type {\n",
       "        vertical-align: middle;\n",
       "    }\n",
       "\n",
       "    .dataframe tbody tr th {\n",
       "        vertical-align: top;\n",
       "    }\n",
       "\n",
       "    .dataframe thead th {\n",
       "        text-align: right;\n",
       "    }\n",
       "</style>\n",
       "<table border=\"1\" class=\"dataframe\">\n",
       "  <thead>\n",
       "    <tr style=\"text-align: right;\">\n",
       "      <th></th>\n",
       "      <th>Simplified_lithology</th>\n",
       "      <th>Regex_lithoclass</th>\n",
       "      <th>Lithology_original</th>\n",
       "    </tr>\n",
       "  </thead>\n",
       "  <tbody>\n",
       "    <tr>\n",
       "      <th>111628</th>\n",
       "      <td>bedrock</td>\n",
       "      <td>unknown</td>\n",
       "      <td>honey s stone fine quartz   w</td>\n",
       "    </tr>\n",
       "    <tr>\n",
       "      <th>97640</th>\n",
       "      <td>basalt</td>\n",
       "      <td>unknown</td>\n",
       "      <td>weathered zone</td>\n",
       "    </tr>\n",
       "    <tr>\n",
       "      <th>43077</th>\n",
       "      <td>alluvium</td>\n",
       "      <td>unknown</td>\n",
       "      <td>boulders</td>\n",
       "    </tr>\n",
       "    <tr>\n",
       "      <th>145904</th>\n",
       "      <td>alluvium</td>\n",
       "      <td>unknown</td>\n",
       "      <td></td>\n",
       "    </tr>\n",
       "    <tr>\n",
       "      <th>2330</th>\n",
       "      <td>alluvium</td>\n",
       "      <td>unknown</td>\n",
       "      <td>blue creek stones  casing 152 mms 0</td>\n",
       "    </tr>\n",
       "    <tr>\n",
       "      <th>25731</th>\n",
       "      <td>alluvium</td>\n",
       "      <td>unknown</td>\n",
       "      <td>blacksoil driller sainsbury file 257</td>\n",
       "    </tr>\n",
       "    <tr>\n",
       "      <th>16243</th>\n",
       "      <td>unknown</td>\n",
       "      <td>unknown</td>\n",
       "      <td>file t497  drilled approx 1948</td>\n",
       "    </tr>\n",
       "    <tr>\n",
       "      <th>43769</th>\n",
       "      <td>alluvium</td>\n",
       "      <td>unknown</td>\n",
       "      <td>gravels</td>\n",
       "    </tr>\n",
       "    <tr>\n",
       "      <th>141397</th>\n",
       "      <td>bedrock</td>\n",
       "      <td>unknown</td>\n",
       "      <td>top black               driller harry latham</td>\n",
       "    </tr>\n",
       "    <tr>\n",
       "      <th>91482</th>\n",
       "      <td>basalt</td>\n",
       "      <td>unknown</td>\n",
       "      <td>volcanic ash swl47 2 0 8l s</td>\n",
       "    </tr>\n",
       "    <tr>\n",
       "      <th>23223</th>\n",
       "      <td>basalt</td>\n",
       "      <td>unknown</td>\n",
       "      <td>loose boulders and water</td>\n",
       "    </tr>\n",
       "    <tr>\n",
       "      <th>152243</th>\n",
       "      <td>basalt</td>\n",
       "      <td>unknown</td>\n",
       "      <td>asalt</td>\n",
       "    </tr>\n",
       "    <tr>\n",
       "      <th>174202</th>\n",
       "      <td>basalt</td>\n",
       "      <td>unknown</td>\n",
       "      <td>fractured moderately weathered</td>\n",
       "    </tr>\n",
       "    <tr>\n",
       "      <th>15714</th>\n",
       "      <td>basalt</td>\n",
       "      <td>unknown</td>\n",
       "      <td>black slippery back</td>\n",
       "    </tr>\n",
       "    <tr>\n",
       "      <th>115690</th>\n",
       "      <td>bedrock</td>\n",
       "      <td>unknown</td>\n",
       "      <td>mud slightly sandier</td>\n",
       "    </tr>\n",
       "    <tr>\n",
       "      <th>4314</th>\n",
       "      <td>basalt</td>\n",
       "      <td>unknown</td>\n",
       "      <td>red broken decomposed bassalt some</td>\n",
       "    </tr>\n",
       "    <tr>\n",
       "      <th>54499</th>\n",
       "      <td>alluvium</td>\n",
       "      <td>unknown</td>\n",
       "      <td>hard band</td>\n",
       "    </tr>\n",
       "    <tr>\n",
       "      <th>27829</th>\n",
       "      <td>basalt</td>\n",
       "      <td>unknown</td>\n",
       "      <td>very hard boulders</td>\n",
       "    </tr>\n",
       "    <tr>\n",
       "      <th>72717</th>\n",
       "      <td>basalt</td>\n",
       "      <td>unknown</td>\n",
       "      <td>ash</td>\n",
       "    </tr>\n",
       "    <tr>\n",
       "      <th>123302</th>\n",
       "      <td>basalt</td>\n",
       "      <td>unknown</td>\n",
       "      <td>volcanic ash</td>\n",
       "    </tr>\n",
       "    <tr>\n",
       "      <th>177440</th>\n",
       "      <td>basalt</td>\n",
       "      <td>unknown</td>\n",
       "      <td>grey   dark grey volcanics  weakly weathered  ...</td>\n",
       "    </tr>\n",
       "    <tr>\n",
       "      <th>56726</th>\n",
       "      <td>basalt</td>\n",
       "      <td>unknown</td>\n",
       "      <td>soap stone water  potable</td>\n",
       "    </tr>\n",
       "    <tr>\n",
       "      <th>22109</th>\n",
       "      <td>alluvium</td>\n",
       "      <td>unknown</td>\n",
       "      <td>coarse very coarse loose yellow brown</td>\n",
       "    </tr>\n",
       "    <tr>\n",
       "      <th>36172</th>\n",
       "      <td>alluvium</td>\n",
       "      <td>unknown</td>\n",
       "      <td>some fine bands</td>\n",
       "    </tr>\n",
       "    <tr>\n",
       "      <th>56223</th>\n",
       "      <td>unknown</td>\n",
       "      <td>unknown</td>\n",
       "      <td>strata not known</td>\n",
       "    </tr>\n",
       "    <tr>\n",
       "      <th>80908</th>\n",
       "      <td>alluvium</td>\n",
       "      <td>unknown</td>\n",
       "      <td>creek laom</td>\n",
       "    </tr>\n",
       "    <tr>\n",
       "      <th>74192</th>\n",
       "      <td>basalt</td>\n",
       "      <td>unknown</td>\n",
       "      <td>red bassalt</td>\n",
       "    </tr>\n",
       "    <tr>\n",
       "      <th>42920</th>\n",
       "      <td>basalt</td>\n",
       "      <td>unknown</td>\n",
       "      <td>cavity   water</td>\n",
       "    </tr>\n",
       "    <tr>\n",
       "      <th>87699</th>\n",
       "      <td>basalt</td>\n",
       "      <td>unknown</td>\n",
       "      <td>volcanic ash</td>\n",
       "    </tr>\n",
       "    <tr>\n",
       "      <th>148985</th>\n",
       "      <td>basalt</td>\n",
       "      <td>unknown</td>\n",
       "      <td>tuff</td>\n",
       "    </tr>\n",
       "    <tr>\n",
       "      <th>38427</th>\n",
       "      <td>alluvium</td>\n",
       "      <td>unknown</td>\n",
       "      <td>soakage</td>\n",
       "    </tr>\n",
       "    <tr>\n",
       "      <th>21020</th>\n",
       "      <td>alluvium</td>\n",
       "      <td>unknown</td>\n",
       "      <td>fine to med some coarse firm brown</td>\n",
       "    </tr>\n",
       "    <tr>\n",
       "      <th>89334</th>\n",
       "      <td>unknown</td>\n",
       "      <td>unknown</td>\n",
       "      <td>no details</td>\n",
       "    </tr>\n",
       "    <tr>\n",
       "      <th>14997</th>\n",
       "      <td>alluvium</td>\n",
       "      <td>unknown</td>\n",
       "      <td>no detail on micro</td>\n",
       "    </tr>\n",
       "    <tr>\n",
       "      <th>110676</th>\n",
       "      <td>basalt</td>\n",
       "      <td>unknown</td>\n",
       "      <td>brown volcanic ash   w</td>\n",
       "    </tr>\n",
       "    <tr>\n",
       "      <th>161880</th>\n",
       "      <td>bedrock</td>\n",
       "      <td>unknown</td>\n",
       "      <td>grey black hornblende granodiorite  fractured</td>\n",
       "    </tr>\n",
       "    <tr>\n",
       "      <th>162597</th>\n",
       "      <td>bedrock</td>\n",
       "      <td>unknown</td>\n",
       "      <td>grey fine grained granodiorite</td>\n",
       "    </tr>\n",
       "    <tr>\n",
       "      <th>161022</th>\n",
       "      <td>bedrock</td>\n",
       "      <td>unknown</td>\n",
       "      <td>siderite</td>\n",
       "    </tr>\n",
       "    <tr>\n",
       "      <th>23508</th>\n",
       "      <td>unknown</td>\n",
       "      <td>unknown</td>\n",
       "      <td>strata unknown   file t 2304</td>\n",
       "    </tr>\n",
       "    <tr>\n",
       "      <th>164798</th>\n",
       "      <td>bedrock</td>\n",
       "      <td>unknown</td>\n",
       "      <td>fine grained sst</td>\n",
       "    </tr>\n",
       "    <tr>\n",
       "      <th>125095</th>\n",
       "      <td>bedrock</td>\n",
       "      <td>unknown</td>\n",
       "      <td>weathered diorite</td>\n",
       "    </tr>\n",
       "    <tr>\n",
       "      <th>120080</th>\n",
       "      <td>bedrock</td>\n",
       "      <td>unknown</td>\n",
       "      <td>white s stone quartz</td>\n",
       "    </tr>\n",
       "    <tr>\n",
       "      <th>68100</th>\n",
       "      <td>basalt</td>\n",
       "      <td>unknown</td>\n",
       "      <td>boulders   file t2184 date 11 11 1982</td>\n",
       "    </tr>\n",
       "    <tr>\n",
       "      <th>77833</th>\n",
       "      <td>bedrock</td>\n",
       "      <td>unknown</td>\n",
       "      <td>white helidon quarry stone</td>\n",
       "    </tr>\n",
       "    <tr>\n",
       "      <th>226</th>\n",
       "      <td>unknown</td>\n",
       "      <td>unknown</td>\n",
       "      <td>strata not noted</td>\n",
       "    </tr>\n",
       "    <tr>\n",
       "      <th>14263</th>\n",
       "      <td>basalt</td>\n",
       "      <td>unknown</td>\n",
       "      <td>unknown wb 13 4 to 16 8 met  1960</td>\n",
       "    </tr>\n",
       "    <tr>\n",
       "      <th>78874</th>\n",
       "      <td>bedrock</td>\n",
       "      <td>unknown</td>\n",
       "      <td>quartz</td>\n",
       "    </tr>\n",
       "    <tr>\n",
       "      <th>63250</th>\n",
       "      <td>basalt</td>\n",
       "      <td>unknown</td>\n",
       "      <td>no strata details known  file t6277</td>\n",
       "    </tr>\n",
       "    <tr>\n",
       "      <th>55233</th>\n",
       "      <td>basalt</td>\n",
       "      <td>unknown</td>\n",
       "      <td>ash</td>\n",
       "    </tr>\n",
       "    <tr>\n",
       "      <th>76365</th>\n",
       "      <td>alluvium</td>\n",
       "      <td>unknown</td>\n",
       "      <td>alluv condamine r no details</td>\n",
       "    </tr>\n",
       "  </tbody>\n",
       "</table>\n",
       "</div>"
      ],
      "text/plain": [
       "       Simplified_lithology Regex_lithoclass  \\\n",
       "111628              bedrock          unknown   \n",
       "97640                basalt          unknown   \n",
       "43077              alluvium          unknown   \n",
       "145904             alluvium          unknown   \n",
       "2330               alluvium          unknown   \n",
       "25731              alluvium          unknown   \n",
       "16243               unknown          unknown   \n",
       "43769              alluvium          unknown   \n",
       "141397              bedrock          unknown   \n",
       "91482                basalt          unknown   \n",
       "23223                basalt          unknown   \n",
       "152243               basalt          unknown   \n",
       "174202               basalt          unknown   \n",
       "15714                basalt          unknown   \n",
       "115690              bedrock          unknown   \n",
       "4314                 basalt          unknown   \n",
       "54499              alluvium          unknown   \n",
       "27829                basalt          unknown   \n",
       "72717                basalt          unknown   \n",
       "123302               basalt          unknown   \n",
       "177440               basalt          unknown   \n",
       "56726                basalt          unknown   \n",
       "22109              alluvium          unknown   \n",
       "36172              alluvium          unknown   \n",
       "56223               unknown          unknown   \n",
       "80908              alluvium          unknown   \n",
       "74192                basalt          unknown   \n",
       "42920                basalt          unknown   \n",
       "87699                basalt          unknown   \n",
       "148985               basalt          unknown   \n",
       "38427              alluvium          unknown   \n",
       "21020              alluvium          unknown   \n",
       "89334               unknown          unknown   \n",
       "14997              alluvium          unknown   \n",
       "110676               basalt          unknown   \n",
       "161880              bedrock          unknown   \n",
       "162597              bedrock          unknown   \n",
       "161022              bedrock          unknown   \n",
       "23508               unknown          unknown   \n",
       "164798              bedrock          unknown   \n",
       "125095              bedrock          unknown   \n",
       "120080              bedrock          unknown   \n",
       "68100                basalt          unknown   \n",
       "77833               bedrock          unknown   \n",
       "226                 unknown          unknown   \n",
       "14263                basalt          unknown   \n",
       "78874               bedrock          unknown   \n",
       "63250                basalt          unknown   \n",
       "55233                basalt          unknown   \n",
       "76365              alluvium          unknown   \n",
       "\n",
       "                                       Lithology_original  \n",
       "111628                     honey s stone fine quartz   w   \n",
       "97640                                      weathered zone  \n",
       "43077                                            boulders  \n",
       "145904                                                     \n",
       "2330                  blue creek stones  casing 152 mms 0  \n",
       "25731                blacksoil driller sainsbury file 257  \n",
       "16243                      file t497  drilled approx 1948  \n",
       "43769                                             gravels  \n",
       "141397      top black               driller harry latham   \n",
       "91482                         volcanic ash swl47 2 0 8l s  \n",
       "23223                            loose boulders and water  \n",
       "152243                                              asalt  \n",
       "174202                     fractured moderately weathered  \n",
       "15714                                 black slippery back  \n",
       "115690                               mud slightly sandier  \n",
       "4314                   red broken decomposed bassalt some  \n",
       "54499                                           hard band  \n",
       "27829                                  very hard boulders  \n",
       "72717                                                 ash  \n",
       "123302                                       volcanic ash  \n",
       "177440  grey   dark grey volcanics  weakly weathered  ...  \n",
       "56726                           soap stone water  potable  \n",
       "22109               coarse very coarse loose yellow brown  \n",
       "36172                                     some fine bands  \n",
       "56223                                    strata not known  \n",
       "80908                                          creek laom  \n",
       "74192                                         red bassalt  \n",
       "42920                                      cavity   water  \n",
       "87699                                        volcanic ash  \n",
       "148985                                               tuff  \n",
       "38427                                             soakage  \n",
       "21020                  fine to med some coarse firm brown  \n",
       "89334                                          no details  \n",
       "14997                                  no detail on micro  \n",
       "110676                            brown volcanic ash   w   \n",
       "161880      grey black hornblende granodiorite  fractured  \n",
       "162597                     grey fine grained granodiorite  \n",
       "161022                                           siderite  \n",
       "23508                        strata unknown   file t 2304  \n",
       "164798                                   fine grained sst  \n",
       "125095                                  weathered diorite  \n",
       "120080                               white s stone quartz  \n",
       "68100               boulders   file t2184 date 11 11 1982  \n",
       "77833                          white helidon quarry stone  \n",
       "226                                      strata not noted  \n",
       "14263                  unknown wb 13 4 to 16 8 met  1960   \n",
       "78874                                              quartz  \n",
       "63250                 no strata details known  file t6277  \n",
       "55233                                                 ash  \n",
       "76365                       alluv condamine r no details   "
      ]
     },
     "execution_count": 76,
     "metadata": {},
     "output_type": "execute_result"
    }
   ],
   "source": [
    "# find_regex_df( df_unk, '.*basalt.*', LITHO_DESC_COL)\n",
    "# find_regex_df( df_unk, '.*file.*', LITHO_DESC_COL)\n",
    "\n",
    "match_and_sample_df(tmp_df, 'unknown', colname=REGEX_LITHO_CLASS_COL, out_colname=None, size=50, seed=0)"
   ]
  },
  {
   "cell_type": "code",
   "execution_count": 77,
   "metadata": {},
   "outputs": [],
   "source": [
    "df_regex = df.copy()\n",
    "df_regex[REGEX_LITHO_CLASS_COL] = final_prim_litho"
   ]
  },
  {
   "cell_type": "code",
   "execution_count": 78,
   "metadata": {},
   "outputs": [],
   "source": [
    "condamine_litho_regex = os.path.join(condamine_litho_dir, 'condamine_litho_regex.pkl')\n",
    "with open(condamine_litho_regex, 'wb') as handle:\n",
    "    pickle.dump(df_regex, handle, protocol=pickle.HIGHEST_PROTOCOL)"
   ]
  },
  {
   "cell_type": "markdown",
   "metadata": {},
   "source": [
    "# Testing the deep learning model on the same dataset"
   ]
  },
  {
   "cell_type": "code",
   "execution_count": 79,
   "metadata": {},
   "outputs": [],
   "source": [
    "# train_data=train_data_unprocessed.copy()"
   ]
  },
  {
   "cell_type": "code",
   "execution_count": 80,
   "metadata": {},
   "outputs": [
    {
     "name": "stderr",
     "output_type": "stream",
     "text": [
      "Using TensorFlow backend.\n"
     ]
    }
   ],
   "source": [
    "# conda install gensim\n",
    "# conda install tensorflow\n",
    "# conda install keras\n",
    "# pip install wordcloud\n",
    "\n",
    "from ela.experiment.textproc import Model"
   ]
  },
  {
   "cell_type": "code",
   "execution_count": null,
   "metadata": {},
   "outputs": [],
   "source": []
  },
  {
   "cell_type": "code",
   "execution_count": 81,
   "metadata": {},
   "outputs": [],
   "source": [
    "train_data_dl = train_data.copy()\n",
    "model=Model(train_data_dl,20)"
   ]
  },
  {
   "cell_type": "markdown",
   "metadata": {},
   "source": [
    "NOTE 2019-07-30: reloading cached results as the training takes a fair amount of time."
   ]
  },
  {
   "cell_type": "code",
   "execution_count": 82,
   "metadata": {},
   "outputs": [],
   "source": [
    "predictions_dl = pd.read_csv('prediction_file.csv')"
   ]
  },
  {
   "cell_type": "code",
   "execution_count": null,
   "metadata": {},
   "outputs": [],
   "source": [
    "# model.initialise_model()"
   ]
  },
  {
   "cell_type": "markdown",
   "metadata": {},
   "source": [
    "As of 2019-07-20: \n",
    "\n",
    "* Training Accuracy: 0.8620\n",
    "* Testing Accuracy:  0.8562\n"
   ]
  },
  {
   "cell_type": "code",
   "execution_count": null,
   "metadata": {},
   "outputs": [],
   "source": [
    "#x = train_data.copy()\n",
    "#x.head()"
   ]
  },
  {
   "cell_type": "code",
   "execution_count": null,
   "metadata": {},
   "outputs": [],
   "source": [
    "#x['Description'] = x['Lithology_original']\n",
    "#model.predict(x)"
   ]
  },
  {
   "cell_type": "code",
   "execution_count": 83,
   "metadata": {},
   "outputs": [
    {
     "data": {
      "text/html": [
       "<div>\n",
       "<style scoped>\n",
       "    .dataframe tbody tr th:only-of-type {\n",
       "        vertical-align: middle;\n",
       "    }\n",
       "\n",
       "    .dataframe tbody tr th {\n",
       "        vertical-align: top;\n",
       "    }\n",
       "\n",
       "    .dataframe thead th {\n",
       "        text-align: right;\n",
       "    }\n",
       "</style>\n",
       "<table border=\"1\" class=\"dataframe\">\n",
       "  <thead>\n",
       "    <tr style=\"text-align: right;\">\n",
       "      <th></th>\n",
       "      <th>RN</th>\n",
       "      <th>Type</th>\n",
       "      <th>EASTING</th>\n",
       "      <th>NORTHING</th>\n",
       "      <th>Lithology_original</th>\n",
       "      <th>Simplified_lithology</th>\n",
       "      <th>Simplified_lithology_stratigraphy</th>\n",
       "      <th>From</th>\n",
       "      <th>To</th>\n",
       "      <th>Description</th>\n",
       "      <th>Simplified_Lithology</th>\n",
       "    </tr>\n",
       "  </thead>\n",
       "  <tbody>\n",
       "    <tr>\n",
       "      <th>0</th>\n",
       "      <td>202</td>\n",
       "      <td>new_bedrock_addition</td>\n",
       "      <td>385411.0</td>\n",
       "      <td>7014147.0</td>\n",
       "      <td>brown clay</td>\n",
       "      <td>bedrock</td>\n",
       "      <td>BEDROCK</td>\n",
       "      <td>0.00</td>\n",
       "      <td>10.67</td>\n",
       "      <td>brown clay</td>\n",
       "      <td>alluvium</td>\n",
       "    </tr>\n",
       "    <tr>\n",
       "      <th>1</th>\n",
       "      <td>202</td>\n",
       "      <td>new_bedrock_addition</td>\n",
       "      <td>385411.0</td>\n",
       "      <td>7014147.0</td>\n",
       "      <td>brown clay and pipe clay</td>\n",
       "      <td>bedrock</td>\n",
       "      <td>BEDROCK</td>\n",
       "      <td>10.67</td>\n",
       "      <td>24.38</td>\n",
       "      <td>brown clay and pipe clay</td>\n",
       "      <td>alluvium</td>\n",
       "    </tr>\n",
       "    <tr>\n",
       "      <th>2</th>\n",
       "      <td>202</td>\n",
       "      <td>new_bedrock_addition</td>\n",
       "      <td>385411.0</td>\n",
       "      <td>7014147.0</td>\n",
       "      <td>white pipe clay</td>\n",
       "      <td>bedrock</td>\n",
       "      <td>BEDROCK</td>\n",
       "      <td>24.38</td>\n",
       "      <td>26.82</td>\n",
       "      <td>white pipe clay</td>\n",
       "      <td>bedrock</td>\n",
       "    </tr>\n",
       "    <tr>\n",
       "      <th>3</th>\n",
       "      <td>202</td>\n",
       "      <td>new_bedrock_addition</td>\n",
       "      <td>385411.0</td>\n",
       "      <td>7014147.0</td>\n",
       "      <td>red pipe clay</td>\n",
       "      <td>bedrock</td>\n",
       "      <td>BEDROCK</td>\n",
       "      <td>26.82</td>\n",
       "      <td>31.70</td>\n",
       "      <td>red pipe clay</td>\n",
       "      <td>basalt</td>\n",
       "    </tr>\n",
       "    <tr>\n",
       "      <th>4</th>\n",
       "      <td>202</td>\n",
       "      <td>new_bedrock_addition</td>\n",
       "      <td>385411.0</td>\n",
       "      <td>7014147.0</td>\n",
       "      <td>clay and sand</td>\n",
       "      <td>bedrock</td>\n",
       "      <td>BEDROCK</td>\n",
       "      <td>31.70</td>\n",
       "      <td>50.90</td>\n",
       "      <td>clay and sand</td>\n",
       "      <td>alluvium</td>\n",
       "    </tr>\n",
       "  </tbody>\n",
       "</table>\n",
       "</div>"
      ],
      "text/plain": [
       "    RN                  Type   EASTING   NORTHING        Lithology_original  \\\n",
       "0  202  new_bedrock_addition  385411.0  7014147.0                brown clay   \n",
       "1  202  new_bedrock_addition  385411.0  7014147.0  brown clay and pipe clay   \n",
       "2  202  new_bedrock_addition  385411.0  7014147.0           white pipe clay   \n",
       "3  202  new_bedrock_addition  385411.0  7014147.0             red pipe clay   \n",
       "4  202  new_bedrock_addition  385411.0  7014147.0             clay and sand   \n",
       "\n",
       "  Simplified_lithology Simplified_lithology_stratigraphy   From     To  \\\n",
       "0              bedrock                           BEDROCK   0.00  10.67   \n",
       "1              bedrock                           BEDROCK  10.67  24.38   \n",
       "2              bedrock                           BEDROCK  24.38  26.82   \n",
       "3              bedrock                           BEDROCK  26.82  31.70   \n",
       "4              bedrock                           BEDROCK  31.70  50.90   \n",
       "\n",
       "                Description Simplified_Lithology  \n",
       "0                brown clay             alluvium  \n",
       "1  brown clay and pipe clay             alluvium  \n",
       "2           white pipe clay              bedrock  \n",
       "3             red pipe clay               basalt  \n",
       "4             clay and sand             alluvium  "
      ]
     },
     "execution_count": 83,
     "metadata": {},
     "output_type": "execute_result"
    }
   ],
   "source": [
    "predictions_dl.head()"
   ]
  },
  {
   "cell_type": "code",
   "execution_count": 84,
   "metadata": {},
   "outputs": [
    {
     "name": "stdout",
     "output_type": "stream",
     "text": [
      "Accuracy of DL for classifying primary lithologies:  0.8602278868672312\n"
     ]
    }
   ],
   "source": [
    "print(\"Accuracy of DL for classifying primary lithologies: \", get_accuracy(predictions_dl['Simplified_Lithology'], simplified_lithology))"
   ]
  },
  {
   "cell_type": "markdown",
   "metadata": {},
   "source": [
    "## Explaining the predictive performance of regexp versus DL\n",
    "\n",
    "* Confusion matrices for RE and DL\n",
    "* Subset each case where DL gets is right and not RE, and get a wordcloud of terms\n",
    "* Subset each case where RE gets is right and not DL, and get a wordcloud of terms"
   ]
  },
  {
   "cell_type": "code",
   "execution_count": 85,
   "metadata": {},
   "outputs": [],
   "source": [
    "##\n",
    "\n",
    "condamine_litho_regex = os.path.join(condamine_litho_dir, 'condamine_litho_regex.pkl')\n",
    "with open(condamine_litho_regex, 'rb') as handle:\n",
    "    df_regex = pickle.load(handle)"
   ]
  },
  {
   "cell_type": "code",
   "execution_count": 86,
   "metadata": {},
   "outputs": [
    {
     "data": {
      "text/html": [
       "<div>\n",
       "<style scoped>\n",
       "    .dataframe tbody tr th:only-of-type {\n",
       "        vertical-align: middle;\n",
       "    }\n",
       "\n",
       "    .dataframe tbody tr th {\n",
       "        vertical-align: top;\n",
       "    }\n",
       "\n",
       "    .dataframe thead th {\n",
       "        text-align: right;\n",
       "    }\n",
       "</style>\n",
       "<table border=\"1\" class=\"dataframe\">\n",
       "  <thead>\n",
       "    <tr style=\"text-align: right;\">\n",
       "      <th></th>\n",
       "      <th>RN</th>\n",
       "      <th>Type</th>\n",
       "      <th>EASTING</th>\n",
       "      <th>NORTHING</th>\n",
       "      <th>Lithology_original</th>\n",
       "      <th>Simplified_lithology</th>\n",
       "      <th>Simplified_lithology_stratigraphy</th>\n",
       "      <th>From</th>\n",
       "      <th>To</th>\n",
       "      <th>Regex_lithoclass</th>\n",
       "    </tr>\n",
       "  </thead>\n",
       "  <tbody>\n",
       "    <tr>\n",
       "      <th>0</th>\n",
       "      <td>202</td>\n",
       "      <td>new_bedrock_addition</td>\n",
       "      <td>385411.0</td>\n",
       "      <td>7014147.0</td>\n",
       "      <td>brown clay</td>\n",
       "      <td>bedrock</td>\n",
       "      <td>BEDROCK</td>\n",
       "      <td>0.00</td>\n",
       "      <td>10.67</td>\n",
       "      <td>alluvium</td>\n",
       "    </tr>\n",
       "    <tr>\n",
       "      <th>1</th>\n",
       "      <td>202</td>\n",
       "      <td>new_bedrock_addition</td>\n",
       "      <td>385411.0</td>\n",
       "      <td>7014147.0</td>\n",
       "      <td>brown clay and pipe clay</td>\n",
       "      <td>bedrock</td>\n",
       "      <td>BEDROCK</td>\n",
       "      <td>10.67</td>\n",
       "      <td>24.38</td>\n",
       "      <td>alluvium</td>\n",
       "    </tr>\n",
       "    <tr>\n",
       "      <th>2</th>\n",
       "      <td>202</td>\n",
       "      <td>new_bedrock_addition</td>\n",
       "      <td>385411.0</td>\n",
       "      <td>7014147.0</td>\n",
       "      <td>white pipe clay</td>\n",
       "      <td>bedrock</td>\n",
       "      <td>BEDROCK</td>\n",
       "      <td>24.38</td>\n",
       "      <td>26.82</td>\n",
       "      <td>alluvium</td>\n",
       "    </tr>\n",
       "    <tr>\n",
       "      <th>3</th>\n",
       "      <td>202</td>\n",
       "      <td>new_bedrock_addition</td>\n",
       "      <td>385411.0</td>\n",
       "      <td>7014147.0</td>\n",
       "      <td>red pipe clay</td>\n",
       "      <td>bedrock</td>\n",
       "      <td>BEDROCK</td>\n",
       "      <td>26.82</td>\n",
       "      <td>31.70</td>\n",
       "      <td>alluvium</td>\n",
       "    </tr>\n",
       "    <tr>\n",
       "      <th>4</th>\n",
       "      <td>202</td>\n",
       "      <td>new_bedrock_addition</td>\n",
       "      <td>385411.0</td>\n",
       "      <td>7014147.0</td>\n",
       "      <td>clay and sand</td>\n",
       "      <td>bedrock</td>\n",
       "      <td>BEDROCK</td>\n",
       "      <td>31.70</td>\n",
       "      <td>50.90</td>\n",
       "      <td>alluvium</td>\n",
       "    </tr>\n",
       "  </tbody>\n",
       "</table>\n",
       "</div>"
      ],
      "text/plain": [
       "    RN                  Type   EASTING   NORTHING        Lithology_original  \\\n",
       "0  202  new_bedrock_addition  385411.0  7014147.0                brown clay   \n",
       "1  202  new_bedrock_addition  385411.0  7014147.0  brown clay and pipe clay   \n",
       "2  202  new_bedrock_addition  385411.0  7014147.0           white pipe clay   \n",
       "3  202  new_bedrock_addition  385411.0  7014147.0             red pipe clay   \n",
       "4  202  new_bedrock_addition  385411.0  7014147.0             clay and sand   \n",
       "\n",
       "  Simplified_lithology Simplified_lithology_stratigraphy   From     To  \\\n",
       "0              bedrock                           BEDROCK   0.00  10.67   \n",
       "1              bedrock                           BEDROCK  10.67  24.38   \n",
       "2              bedrock                           BEDROCK  24.38  26.82   \n",
       "3              bedrock                           BEDROCK  26.82  31.70   \n",
       "4              bedrock                           BEDROCK  31.70  50.90   \n",
       "\n",
       "  Regex_lithoclass  \n",
       "0         alluvium  \n",
       "1         alluvium  \n",
       "2         alluvium  \n",
       "3         alluvium  \n",
       "4         alluvium  "
      ]
     },
     "execution_count": 86,
     "metadata": {},
     "output_type": "execute_result"
    }
   ],
   "source": [
    "from sklearn.metrics import confusion_matrix\n",
    "\n",
    "df_regex.head()"
   ]
  },
  {
   "cell_type": "code",
   "execution_count": 87,
   "metadata": {},
   "outputs": [],
   "source": [
    "litho_class_names = [\"basalt\", \"bedrock\", \"alluvium\", \"unknown\"]"
   ]
  },
  {
   "cell_type": "code",
   "execution_count": 88,
   "metadata": {},
   "outputs": [],
   "source": [
    "def build_confusion_matrix(df_regex, colname_true, colname_predicted, labels = litho_class_names):\n",
    "    y_true = df_regex[colname_true].values\n",
    "    y_pred = df_regex[colname_predicted].values    \n",
    "    m = confusion_matrix(y_true, y_pred, labels=labels)\n",
    "    return m\n",
    "\n",
    "def normalise_confusion_matrix(m):\n",
    "    fractions = m / m.astype(np.float).sum(axis=0)\n",
    "    return fractions\n",
    "\n",
    "def plot_cf_matrix(m, litho_class_names, title='confusion matrix', figsize = (10,7), cmap='coolwarm', center=None):\n",
    "    \"\"\"\n",
    "    \"\"\"\n",
    "    df_cm = pd.DataFrame(m, index = [i for i in litho_class_names],\n",
    "                      columns = [i for i in litho_class_names])\n",
    "    plt.figure(figsize = figsize)\n",
    "    sn.heatmap(df_cm, annot=True, cmap=cmap, center=center)\n",
    "    plt.title(title)\n",
    "    plt.xlabel('predicted')\n",
    "    plt.ylabel('actual')\n",
    "    plt.show()\n",
    "    "
   ]
  },
  {
   "cell_type": "code",
   "execution_count": 89,
   "metadata": {},
   "outputs": [],
   "source": [
    "sn.set(font_scale=1.4)"
   ]
  },
  {
   "cell_type": "code",
   "execution_count": 90,
   "metadata": {},
   "outputs": [],
   "source": [
    "m_regex = build_confusion_matrix(df_regex, colname_true=LITHO_CLASS_COL, colname_predicted=REGEX_LITHO_CLASS_COL)\n",
    "fractions_regex = normalise_confusion_matrix(m_regex)\n",
    "\n",
    "m_dl = build_confusion_matrix(predictions_dl, colname_true='Simplified_lithology', colname_predicted='Simplified_Lithology')\n",
    "fractions_dl = normalise_confusion_matrix(m_dl)"
   ]
  },
  {
   "cell_type": "code",
   "execution_count": 91,
   "metadata": {},
   "outputs": [],
   "source": [
    "diff_frac = fractions_dl - fractions_regex"
   ]
  },
  {
   "cell_type": "code",
   "execution_count": 92,
   "metadata": {},
   "outputs": [
    {
     "data": {
      "image/png": "[encoded data removed]",
      "text/plain": [
       "<Figure size 720x504 with 2 Axes>"
      ]
     },
     "metadata": {},
     "output_type": "display_data"
    }
   ],
   "source": [
    "plot_cf_matrix(m_regex, litho_class_names, title='confusion matrix')"
   ]
  },
  {
   "cell_type": "code",
   "execution_count": 93,
   "metadata": {},
   "outputs": [
    {
     "data": {
      "image/png": "[encoded data removed]",
      "text/plain": [
       "<Figure size 720x504 with 2 Axes>"
      ]
     },
     "metadata": {},
     "output_type": "display_data"
    }
   ],
   "source": [
    "plot_cf_matrix(fractions_regex, litho_class_names)"
   ]
  },
  {
   "cell_type": "code",
   "execution_count": 94,
   "metadata": {},
   "outputs": [
    {
     "data": {
      "image/png": "[encoded data removed]",
      "text/plain": [
       "<Figure size 720x504 with 2 Axes>"
      ]
     },
     "metadata": {},
     "output_type": "display_data"
    }
   ],
   "source": [
    "plot_cf_matrix(m_dl, litho_class_names)"
   ]
  },
  {
   "cell_type": "code",
   "execution_count": 95,
   "metadata": {},
   "outputs": [
    {
     "data": {
      "image/png": "[encoded data removed]",
      "text/plain": [
       "<Figure size 720x504 with 2 Axes>"
      ]
     },
     "metadata": {},
     "output_type": "display_data"
    }
   ],
   "source": [
    "plot_cf_matrix(fractions_dl, litho_class_names)"
   ]
  },
  {
   "cell_type": "code",
   "execution_count": 96,
   "metadata": {},
   "outputs": [
    {
     "data": {
      "image/png": "[encoded data removed]",
      "text/plain": [
       "<Figure size 720x504 with 2 Axes>"
      ]
     },
     "metadata": {},
     "output_type": "display_data"
    }
   ],
   "source": [
    "plot_cf_matrix(diff_frac, litho_class_names, title='', cmap=\"PiYG\", center=0)"
   ]
  },
  {
   "cell_type": "code",
   "execution_count": 97,
   "metadata": {},
   "outputs": [
    {
     "data": {
      "image/png": "[encoded data removed]",
      "text/plain": [
       "<Figure size 720x504 with 2 Axes>"
      ]
     },
     "metadata": {},
     "output_type": "display_data"
    }
   ],
   "source": [
    "plot_cf_matrix(diff_frac * 100, litho_class_names, title='DL vs regexp confusion matrix comparison (%)', cmap='bwr', center=0)"
   ]
  },
  {
   "cell_type": "code",
   "execution_count": 98,
   "metadata": {},
   "outputs": [
    {
     "data": {
      "text/plain": [
       "177632"
      ]
     },
     "execution_count": 98,
     "metadata": {},
     "output_type": "execute_result"
    }
   ],
   "source": [
    "# double-checking the normalisation procedure\n",
    "#true_counts = m.astype(np.float).sum(axis=1) # true preds\n",
    "#f = m / true_counts\n",
    "#f\n",
    "#f = m / m.astype(np.float).sum(axis=0)\n",
    "#f\n",
    "#f.sum(axis=0), f.sum(axis=1)\n",
    "\n",
    "len(df_regex)"
   ]
  },
  {
   "cell_type": "markdown",
   "metadata": {},
   "source": [
    "# Checking the accuracy if geolocation and log descriptions are taken as input features "
   ]
  },
  {
   "cell_type": "markdown",
   "metadata": {},
   "source": [
    "Logistic Regression for classifying lithologies based on geolocation. Combining the outputs of the logistic regression model and the deep learning model."
   ]
  },
  {
   "cell_type": "code",
   "execution_count": null,
   "metadata": {},
   "outputs": [],
   "source": [
    "from sklearn.svm import SVC\n",
    "from sklearn.linear_model import LogisticRegression"
   ]
  },
  {
   "cell_type": "code",
   "execution_count": null,
   "metadata": {},
   "outputs": [],
   "source": [
    "train_data = train_data_unprocessed.copy()\n",
    "set(train_data['Simplified_lithology'].values)"
   ]
  },
  {
   "cell_type": "code",
   "execution_count": null,
   "metadata": {},
   "outputs": [],
   "source": [
    "train_data['Simplified_lithology']=train_data['Simplified_lithology'].replace(np.nan,'Unknown',regex=True)"
   ]
  },
  {
   "cell_type": "code",
   "execution_count": null,
   "metadata": {},
   "outputs": [],
   "source": [
    "train_data['Simplified_lithology']=train_data['Simplified_lithology'].str.lower()"
   ]
  },
  {
   "cell_type": "code",
   "execution_count": null,
   "metadata": {},
   "outputs": [],
   "source": [
    "set(train_data['Simplified_lithology'].values)"
   ]
  },
  {
   "cell_type": "code",
   "execution_count": null,
   "metadata": {},
   "outputs": [],
   "source": [
    "train_data['Simplified_lithology'],labels=pd.factorize(train_data['Simplified_lithology'])"
   ]
  },
  {
   "cell_type": "code",
   "execution_count": null,
   "metadata": {},
   "outputs": [],
   "source": [
    "train_X=train_data[['EASTING','NORTHING']][0:len(model.train_X)]\n",
    "test_X=train_data[['EASTING','NORTHING']][len(model.train_X):]\n",
    "train_y=train_data['Simplified_lithology'][0:len(model.train_X)]\n",
    "test_y=train_data['Simplified_lithology'][len(model.train_X):]\n",
    "train_X.replace(np.nan,0.0,inplace=True)\n",
    "test_X.replace(np.nan,0.0,inplace=True)\n",
    "print(train_X.shape)\n",
    "print(train_y.shape)\n"
   ]
  },
  {
   "cell_type": "code",
   "execution_count": null,
   "metadata": {},
   "outputs": [],
   "source": [
    "clf=LogisticRegression(C=0.01)"
   ]
  },
  {
   "cell_type": "code",
   "execution_count": null,
   "metadata": {},
   "outputs": [],
   "source": [
    "clf.fit(train_X,train_y)"
   ]
  },
  {
   "cell_type": "code",
   "execution_count": null,
   "metadata": {},
   "outputs": [],
   "source": [
    "y_pred=clf.predict_proba(test_X)"
   ]
  },
  {
   "cell_type": "code",
   "execution_count": null,
   "metadata": {},
   "outputs": [],
   "source": [
    "from sklearn.metrics import accuracy_score"
   ]
  },
  {
   "cell_type": "code",
   "execution_count": null,
   "metadata": {},
   "outputs": [],
   "source": [
    "train_data=train_data_unprocessed.copy()\n",
    "new_df=pd.DataFrame(train_data[['Lithology_original']].values,columns=['Description'])"
   ]
  },
  {
   "cell_type": "code",
   "execution_count": null,
   "metadata": {},
   "outputs": [],
   "source": [
    "new_df.head()"
   ]
  },
  {
   "cell_type": "code",
   "execution_count": null,
   "metadata": {},
   "outputs": [],
   "source": [
    "new_df = new_df[len(model.train_X):].copy()"
   ]
  },
  {
   "cell_type": "code",
   "execution_count": null,
   "metadata": {},
   "outputs": [],
   "source": [
    "y_pred_dl=model.predict_certainity(new_df)"
   ]
  },
  {
   "cell_type": "code",
   "execution_count": null,
   "metadata": {},
   "outputs": [],
   "source": [
    "y_pred, y_pred_dl"
   ]
  },
  {
   "cell_type": "code",
   "execution_count": null,
   "metadata": {},
   "outputs": [],
   "source": [
    "print(y_pred.shape)\n",
    "print(y_pred_dl.shape)"
   ]
  },
  {
   "cell_type": "code",
   "execution_count": null,
   "metadata": {},
   "outputs": [],
   "source": [
    "final_class_prob=np.mean(np.array([y_pred,y_pred_dl]), axis=0 )"
   ]
  },
  {
   "cell_type": "code",
   "execution_count": null,
   "metadata": {},
   "outputs": [],
   "source": [
    "print(final_class_prob.shape)"
   ]
  },
  {
   "cell_type": "code",
   "execution_count": null,
   "metadata": {},
   "outputs": [],
   "source": [
    "final_output_numerical=np.argmax(final_class_prob,axis=1)"
   ]
  },
  {
   "cell_type": "code",
   "execution_count": null,
   "metadata": {},
   "outputs": [],
   "source": [
    "print(accuracy_score(test_y,final_output_numerical))"
   ]
  },
  {
   "cell_type": "code",
   "execution_count": null,
   "metadata": {},
   "outputs": [],
   "source": [
    "simplified_lithology_categories=[]\n",
    "for x in final_output_numerical:\n",
    "    simplified_lithology_categories.append(labels[x])"
   ]
  },
  {
   "cell_type": "markdown",
   "metadata": {},
   "source": [
    "It does not increase the accuracy. Don't think the geolocation has an impact on the simplified lithologies"
   ]
  },
  {
   "cell_type": "markdown",
   "metadata": {},
   "source": [
    "# Ontology based learning"
   ]
  },
  {
   "cell_type": "markdown",
   "metadata": {},
   "source": [
    "Python provides libraries such as RDFLib, OWL 2 for working with ontologies. OWL 2 is better suited for ontology oriented programming since it offers a more pythonic way of managing/creating ontologies.\n",
    "But then, RDFLib works well with .rdf files. Hence, there is a trade-off. Can use based on individual project needs. <br>\n",
    "\n",
    "Protege is an 'IDE' which can be used to manage/create ontologies. It was developed at Stanford and can be downloaded from here [Protege](https://protege.stanford.edu/)<br>\n",
    "Protege can be used to visualise the different relationships defined in an ontology <br>\n",
    "\n",
    "The ontology that I am using can be downloaded from [here](http://ontologydesignpatterns.org/wiki/Ontology:CGI_Simple_Lithology_201001)"
   ]
  },
  {
   "cell_type": "code",
   "execution_count": null,
   "metadata": {},
   "outputs": [],
   "source": [
    "import rdflib as rd"
   ]
  },
  {
   "cell_type": "code",
   "execution_count": null,
   "metadata": {},
   "outputs": [],
   "source": [
    "from rdflib.namespace import SKOS\n",
    "from rdflib.namespace import RDFS"
   ]
  },
  {
   "cell_type": "code",
   "execution_count": null,
   "metadata": {},
   "outputs": [],
   "source": [
    "ontology=rd.Graph()\n",
    "condamine_litho_ontology = os.path.join(condamine_litho_dir, 'SimpleLithology201001.rdf')\n",
    "ontology.parse(condamine_litho_ontology)"
   ]
  },
  {
   "cell_type": "code",
   "execution_count": null,
   "metadata": {},
   "outputs": [],
   "source": [
    "lithology_dictionary=dict()\n",
    "for x,y in ontology.subject_objects(SKOS.prefLabel):\n",
    "    lithology_dictionary[x]=y\n",
    "    "
   ]
  },
  {
   "cell_type": "code",
   "execution_count": null,
   "metadata": {},
   "outputs": [],
   "source": [
    "for x,y in ontology.subject_objects(SKOS.broader):\n",
    "    if x in lithology_dictionary.keys() and y in lithology_dictionary.keys():\n",
    "        print(\" broader class of \",lithology_dictionary[x],\" is \",lithology_dictionary[y])"
   ]
  },
  {
   "cell_type": "markdown",
   "metadata": {},
   "source": [
    "<h5>These relationships can be converted into fuzzy if-then rules and fed to the machine learning model to make better decisions. <br>\n",
    "Above is only one kind of relationship. We have other relationships such as narrower, description of each label etc. All these combined would make a very \"knowledgeable\" machine learning model. </h5>"
   ]
  },
  {
   "cell_type": "markdown",
   "metadata": {},
   "source": [
    "### Comparing visually\n",
    "\n",
    "Optional\n",
    "\n"
   ]
  },
  {
   "cell_type": "markdown",
   "metadata": {},
   "source": [
    "## Observations and discussions\n",
    "\n",
    "DL much better than regular expressions.<br>\n",
    "\n",
    "Regular expressions use a set of keywords and look for matches in the descriptions. Sometimes, these keywords might not be in the descriptions.<br>\n",
    "\n",
    "Similarly, regular expressions map descriptions to a set of predefined catgories (clay,sand,etc.) which are further refined into broader categories ( alluvium,basalt,bedrock). Geoscientists confirm that the mapping is not one/many-to-one. For example,Clay could be part of alluvium/basalt. This cannot be achieved using the regular expression model.\n",
    "\n",
    "DL, on the other hand, learns the descriptions of different lithology classes. Based on labelled data from geoscientists, DL model learns the different kinds of descriptions which would pertain to for e.g alluvium. \n",
    "\n",
    "\n"
   ]
  },
  {
   "cell_type": "markdown",
   "metadata": {},
   "source": [
    "## Conclusion and future work"
   ]
  }
 ],
 "metadata": {
  "kernelspec": {
   "display_name": "Py3 ELA",
   "language": "python",
   "name": "ela"
  },
  "language_info": {
   "codemirror_mode": {
    "name": "ipython",
    "version": 3
   },
   "file_extension": ".py",
   "mimetype": "text/x-python",
   "name": "python",
   "nbconvert_exporter": "python",
   "pygments_lexer": "ipython3",
   "version": "3.7.3"
  }
 },
 "nbformat": 4,
 "nbformat_minor": 4
}
